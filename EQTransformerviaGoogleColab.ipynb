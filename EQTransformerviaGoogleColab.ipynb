{
  "nbformat": 4,
  "nbformat_minor": 0,
  "metadata": {
    "colab": {
      "name": "EQTransformerviaGoogleColab.ipynb",
      "provenance": [],
      "include_colab_link": true
    },
    "kernelspec": {
      "name": "python3",
      "display_name": "Python 3"
    },
    "language_info": {
      "name": "python"
    }
  },
  "cells": [
    {
      "cell_type": "markdown",
      "metadata": {
        "id": "view-in-github",
        "colab_type": "text"
      },
      "source": [
        "<a href=\"https://colab.research.google.com/github/3ligraphy/PredictingSolarEnergy/blob/master/EQTransformerviaGoogleColab.ipynb\" target=\"_parent\"><img src=\"https://colab.research.google.com/assets/colab-badge.svg\" alt=\"Open In Colab\"/></a>"
      ]
    },
    {
      "cell_type": "markdown",
      "metadata": {
        "id": "4j6WYJvAHM5x"
      },
      "source": [
        "# EQTransformer via Google Colab\n",
        "**Author:** [Hao Mai](https://github.com/maihao14)<br>\n",
        "**Date created:** 2021/11/14<br>\n",
        "**Last modified:** 2021/11/14<br>\n",
        "\n",
        "## Description\n",
        "\n",
        "EQTransformer is an AI-based earthquake signal detector and phase (P&S) picker based on a deep neural network with an attention mechanism. It has a hierarchical architecture specifically designed for earthquake signals. EQTransformer has been trained on global seismic data and can perform detection and arrival time picking simultaneously and efficiently. In addition to the prediction probabilities, it can also provide estimated model uncertainties.\n",
        "\n",
        "The EQTransformer python 3 package includes modules for downloading continuous seismic data, preprocessing, performing earthquake signal detection, and phase (P & S) picking using pre-trained models, building and testing new models, and performing a simple phase association.\n",
        "\n",
        "**Developer:** [S. Mostafa Mousavi](https://github.com/smousavi05/EQTransformer#Contributing) <br>\n",
        "\n",
        "**Reference:**\n",
        "\n",
        "Mousavi, S.M., Ellsworth, W.L., Zhu, W., Chuang, L, Y., and Beroza, G, C. Earthquake transformer—an attentive deep-learning model for simultaneous earthquake detection and phase picking. Nat Commun 11, 3952 (2020). https://doi.org/10.1038/s41467-020-17591-w\n",
        "\n",
        "## Installation from Source\n",
        "The sources for EQTransformer can be downloaded from the [Github repo](https://github.com/smousavi05/EQTransformer).\n",
        "\n",
        "### Prerequisite package: ObsPy\n",
        "When ObsPy installed, restart the runtime.\n",
        "\n",
        "Menu -> Runtime -> Restart Runtime"
      ]
    },
    {
      "cell_type": "code",
      "metadata": {
        "colab": {
          "base_uri": "https://localhost:8080/"
        },
        "id": "7fAOnDDgLAH8",
        "outputId": "4a991e12-aa82-4188-ea8f-babd6a787061"
      },
      "source": [
        "!pip install obspy"
      ],
      "execution_count": 4,
      "outputs": [
        {
          "output_type": "stream",
          "name": "stdout",
          "text": [
            "Requirement already satisfied: obspy in /usr/local/lib/python3.10/dist-packages (1.3.0)\n",
            "Requirement already satisfied: numpy>=1.15.0 in /usr/local/lib/python3.10/dist-packages (from obspy) (1.22.4)\n",
            "Requirement already satisfied: scipy>=1.0.0 in /usr/local/lib/python3.10/dist-packages (from obspy) (1.10.0)\n",
            "Requirement already satisfied: matplotlib>=3.2.0 in /usr/local/lib/python3.10/dist-packages (from obspy) (3.7.1)\n",
            "Requirement already satisfied: lxml in /usr/local/lib/python3.10/dist-packages (from obspy) (4.9.4)\n",
            "Requirement already satisfied: setuptools in /usr/local/lib/python3.10/dist-packages (from obspy) (67.7.2)\n",
            "Requirement already satisfied: sqlalchemy in /usr/local/lib/python3.10/dist-packages (from obspy) (1.4.52)\n",
            "Requirement already satisfied: decorator in /usr/local/lib/python3.10/dist-packages (from obspy) (4.4.2)\n",
            "Requirement already satisfied: requests in /usr/local/lib/python3.10/dist-packages (from obspy) (2.31.0)\n",
            "Requirement already satisfied: contourpy>=1.0.1 in /usr/local/lib/python3.10/dist-packages (from matplotlib>=3.2.0->obspy) (1.2.1)\n",
            "Requirement already satisfied: cycler>=0.10 in /usr/local/lib/python3.10/dist-packages (from matplotlib>=3.2.0->obspy) (0.12.1)\n",
            "Requirement already satisfied: fonttools>=4.22.0 in /usr/local/lib/python3.10/dist-packages (from matplotlib>=3.2.0->obspy) (4.51.0)\n",
            "Requirement already satisfied: kiwisolver>=1.0.1 in /usr/local/lib/python3.10/dist-packages (from matplotlib>=3.2.0->obspy) (1.4.5)\n",
            "Requirement already satisfied: packaging>=20.0 in /usr/local/lib/python3.10/dist-packages (from matplotlib>=3.2.0->obspy) (24.0)\n",
            "Requirement already satisfied: pillow>=6.2.0 in /usr/local/lib/python3.10/dist-packages (from matplotlib>=3.2.0->obspy) (9.4.0)\n",
            "Requirement already satisfied: pyparsing>=2.3.1 in /usr/local/lib/python3.10/dist-packages (from matplotlib>=3.2.0->obspy) (3.1.2)\n",
            "Requirement already satisfied: python-dateutil>=2.7 in /usr/local/lib/python3.10/dist-packages (from matplotlib>=3.2.0->obspy) (2.8.2)\n",
            "Requirement already satisfied: charset-normalizer<4,>=2 in /usr/local/lib/python3.10/dist-packages (from requests->obspy) (3.3.2)\n",
            "Requirement already satisfied: idna<4,>=2.5 in /usr/local/lib/python3.10/dist-packages (from requests->obspy) (3.7)\n",
            "Requirement already satisfied: urllib3<3,>=1.21.1 in /usr/local/lib/python3.10/dist-packages (from requests->obspy) (2.0.7)\n",
            "Requirement already satisfied: certifi>=2017.4.17 in /usr/local/lib/python3.10/dist-packages (from requests->obspy) (2024.2.2)\n",
            "Requirement already satisfied: greenlet!=0.4.17 in /usr/local/lib/python3.10/dist-packages (from sqlalchemy->obspy) (3.0.3)\n",
            "Requirement already satisfied: six>=1.5 in /usr/local/lib/python3.10/dist-packages (from python-dateutil>=2.7->matplotlib>=3.2.0->obspy) (1.16.0)\n"
          ]
        }
      ]
    },
    {
      "cell_type": "markdown",
      "metadata": {
        "id": "dxZQCYQNRa6U"
      },
      "source": [
        "### Clone the public repository:\n",
        "\n"
      ]
    },
    {
      "cell_type": "code",
      "metadata": {
        "colab": {
          "base_uri": "https://localhost:8080/"
        },
        "id": "Frsmy3B_Jozr",
        "outputId": "15eaccdc-33d8-49b9-d6fd-4b8849122c0d"
      },
      "source": [
        "! git clone https://github.com/smousavi05/EQTransformer"
      ],
      "execution_count": 2,
      "outputs": [
        {
          "output_type": "stream",
          "name": "stdout",
          "text": [
            "Cloning into 'EQTransformer'...\n",
            "remote: Enumerating objects: 2202, done.\u001b[K\n",
            "remote: Counting objects: 100% (71/71), done.\u001b[K\n",
            "remote: Compressing objects: 100% (37/37), done.\u001b[K\n",
            "remote: Total 2202 (delta 37), reused 63 (delta 34), pack-reused 2131\u001b[K\n",
            "Receiving objects: 100% (2202/2202), 51.32 MiB | 27.26 MiB/s, done.\n",
            "Resolving deltas: 100% (1215/1215), done.\n"
          ]
        }
      ]
    },
    {
      "cell_type": "markdown",
      "metadata": {
        "id": "eB-Kp7nCRlzX"
      },
      "source": [
        "### Once you have a copy of the source, you can cd to EQTransformer directory"
      ]
    },
    {
      "cell_type": "code",
      "metadata": {
        "colab": {
          "base_uri": "https://localhost:8080/"
        },
        "id": "ebwwOiEBHREv",
        "outputId": "fa2e0dcf-8ba8-4a51-c3a4-601e1d1a9098"
      },
      "source": [
        "%cd /content/EQTransformer"
      ],
      "execution_count": 3,
      "outputs": [
        {
          "output_type": "stream",
          "name": "stdout",
          "text": [
            "/content/EQTransformer\n"
          ]
        }
      ]
    },
    {
      "cell_type": "markdown",
      "metadata": {
        "id": "I9QsPaPQJIr9"
      },
      "source": [
        "### Rewrite `setup.py`  :\n",
        "```\n",
        "'numpy==1.20.3' -> 'numpy==1.19.2'\n",
        "```"
      ]
    },
    {
      "cell_type": "markdown",
      "metadata": {
        "id": "l3lazYFsR2Ai"
      },
      "source": [
        "### Install\n",
        "\n",
        "Need Restart Runtime again when this cell running is done.\n",
        "\n",
        "Menu -> Runtime -> Restart Runtime"
      ]
    },
    {
      "cell_type": "code",
      "source": [
        "from google.colab import drive\n",
        "drive.mount('/content/drive')"
      ],
      "metadata": {
        "colab": {
          "base_uri": "https://localhost:8080/"
        },
        "id": "1CpohyEEveMt",
        "outputId": "799a5e47-8dc3-47a3-b1ad-441df953e94a"
      },
      "execution_count": 6,
      "outputs": [
        {
          "output_type": "stream",
          "name": "stdout",
          "text": [
            "Mounted at /content/drive\n"
          ]
        }
      ]
    },
    {
      "cell_type": "code",
      "source": [
        "import pandas as pd\n",
        "from obspy.core import Stream, Trace, UTCDateTime\n",
        "import os\n",
        "\n",
        "def create_daily_miniseeds(df, output_dir):\n",
        "    # Check the first timestamp value to determine its range and adjust if necessary\n",
        "    first_timestamp = df['Timestamp'].iloc[0]\n",
        "    print(f\"First timestamp raw value: {first_timestamp}\")\n",
        "\n",
        "    try:\n",
        "        # Try converting assuming the timestamp is in milliseconds\n",
        "        df['Timestamp'] = pd.to_datetime(df['Timestamp'], unit='ms')\n",
        "    except Exception as e:\n",
        "        # If out of bounds or other conversion issue, try converting without specifying the unit\n",
        "        print(f\"Timestamp conversion issue: {e}, trying alternative method...\")\n",
        "        df['Timestamp'] = pd.to_datetime(df['Timestamp'], unit='s')  # Assuming the timestamps are in seconds\n",
        "\n",
        "    # Set the index to the timestamp for resampling\n",
        "    df.set_index('Timestamp', inplace=True)\n",
        "\n",
        "    # Resample the data into daily chunks\n",
        "    daily_groups = df.resample('D')\n",
        "\n",
        "    # Process each group\n",
        "    for (day, group) in daily_groups:\n",
        "        if not group.empty:\n",
        "            stream = Stream([\n",
        "                Trace(data=group['X'].values, header={'channel': 'HHX', 'starttime': UTCDateTime(day), 'sampling_rate': 100}),\n",
        "                Trace(data=group['Y'].values, header={'channel': 'HHY', 'starttime': UTCDateTime(day), 'sampling_rate': 100}),\n",
        "                Trace(data=group['Z'].values, header={'channel': 'HHZ', 'starttime': UTCDateTime(day), 'sampling_rate': 100})\n",
        "            ])\n",
        "\n",
        "            # Write to MiniSeed format\n",
        "            filename = day.strftime('%Y%m%d') + '.mseed'\n",
        "            stream.write(os.path.join(output_dir, filename), format='MSEED')\n",
        "\n",
        "# Example usage\n",
        "data_path = '/content/drive/MyDrive/testMob/data_1600_accel_phone.csv'\n",
        "output_directory = 'path_to_output_directory'\n",
        "data = pd.read_csv(data_path)\n",
        "create_daily_miniseeds(data, output_directory)\n"
      ],
      "metadata": {
        "colab": {
          "base_uri": "https://localhost:8080/",
          "height": 373
        },
        "id": "0jyHr4k0v0yG",
        "outputId": "1f8184c0-2025-49c0-8620-fe2c5f666f16"
      },
      "execution_count": 20,
      "outputs": [
        {
          "output_type": "stream",
          "name": "stdout",
          "text": [
            "First timestamp raw value: 252207666810782\n",
            "Timestamp conversion issue: cannot convert input with unit 'ms', trying alternative method...\n"
          ]
        },
        {
          "output_type": "error",
          "ename": "OutOfBoundsDatetime",
          "evalue": "cannot convert input with unit 's'",
          "traceback": [
            "\u001b[0;31m---------------------------------------------------------------------------\u001b[0m",
            "\u001b[0;31mOutOfBoundsDatetime\u001b[0m                       Traceback (most recent call last)",
            "\u001b[0;32m<ipython-input-20-b043f21f891f>\u001b[0m in \u001b[0;36mcreate_daily_miniseeds\u001b[0;34m(df, output_dir)\u001b[0m\n\u001b[1;32m     11\u001b[0m         \u001b[0;31m# Try converting assuming the timestamp is in milliseconds\u001b[0m\u001b[0;34m\u001b[0m\u001b[0;34m\u001b[0m\u001b[0m\n\u001b[0;32m---> 12\u001b[0;31m         \u001b[0mdf\u001b[0m\u001b[0;34m[\u001b[0m\u001b[0;34m'Timestamp'\u001b[0m\u001b[0;34m]\u001b[0m \u001b[0;34m=\u001b[0m \u001b[0mpd\u001b[0m\u001b[0;34m.\u001b[0m\u001b[0mto_datetime\u001b[0m\u001b[0;34m(\u001b[0m\u001b[0mdf\u001b[0m\u001b[0;34m[\u001b[0m\u001b[0;34m'Timestamp'\u001b[0m\u001b[0;34m]\u001b[0m\u001b[0;34m,\u001b[0m \u001b[0munit\u001b[0m\u001b[0;34m=\u001b[0m\u001b[0;34m'ms'\u001b[0m\u001b[0;34m)\u001b[0m\u001b[0;34m\u001b[0m\u001b[0;34m\u001b[0m\u001b[0m\n\u001b[0m\u001b[1;32m     13\u001b[0m     \u001b[0;32mexcept\u001b[0m \u001b[0mException\u001b[0m \u001b[0;32mas\u001b[0m \u001b[0me\u001b[0m\u001b[0;34m:\u001b[0m\u001b[0;34m\u001b[0m\u001b[0;34m\u001b[0m\u001b[0m\n",
            "\u001b[0;32m/usr/local/lib/python3.10/dist-packages/pandas/core/tools/datetimes.py\u001b[0m in \u001b[0;36mto_datetime\u001b[0;34m(arg, errors, dayfirst, yearfirst, utc, format, exact, unit, infer_datetime_format, origin, cache)\u001b[0m\n\u001b[1;32m   1050\u001b[0m         \u001b[0;32melse\u001b[0m\u001b[0;34m:\u001b[0m\u001b[0;34m\u001b[0m\u001b[0;34m\u001b[0m\u001b[0m\n\u001b[0;32m-> 1051\u001b[0;31m             \u001b[0mvalues\u001b[0m \u001b[0;34m=\u001b[0m \u001b[0mconvert_listlike\u001b[0m\u001b[0;34m(\u001b[0m\u001b[0marg\u001b[0m\u001b[0;34m.\u001b[0m\u001b[0m_values\u001b[0m\u001b[0;34m,\u001b[0m \u001b[0mformat\u001b[0m\u001b[0;34m)\u001b[0m\u001b[0;34m\u001b[0m\u001b[0;34m\u001b[0m\u001b[0m\n\u001b[0m\u001b[1;32m   1052\u001b[0m             \u001b[0mresult\u001b[0m \u001b[0;34m=\u001b[0m \u001b[0marg\u001b[0m\u001b[0;34m.\u001b[0m\u001b[0m_constructor\u001b[0m\u001b[0;34m(\u001b[0m\u001b[0mvalues\u001b[0m\u001b[0;34m,\u001b[0m \u001b[0mindex\u001b[0m\u001b[0;34m=\u001b[0m\u001b[0marg\u001b[0m\u001b[0;34m.\u001b[0m\u001b[0mindex\u001b[0m\u001b[0;34m,\u001b[0m \u001b[0mname\u001b[0m\u001b[0;34m=\u001b[0m\u001b[0marg\u001b[0m\u001b[0;34m.\u001b[0m\u001b[0mname\u001b[0m\u001b[0;34m)\u001b[0m\u001b[0;34m\u001b[0m\u001b[0;34m\u001b[0m\u001b[0m\n",
            "\u001b[0;32m/usr/local/lib/python3.10/dist-packages/pandas/core/tools/datetimes.py\u001b[0m in \u001b[0;36m_convert_listlike_datetimes\u001b[0;34m(arg, format, name, tz, unit, errors, infer_datetime_format, dayfirst, yearfirst, exact)\u001b[0m\n\u001b[1;32m    356\u001b[0m             \u001b[0;32mraise\u001b[0m \u001b[0mValueError\u001b[0m\u001b[0;34m(\u001b[0m\u001b[0;34m\"cannot specify both format and unit\"\u001b[0m\u001b[0;34m)\u001b[0m\u001b[0;34m\u001b[0m\u001b[0;34m\u001b[0m\u001b[0m\n\u001b[0;32m--> 357\u001b[0;31m         \u001b[0;32mreturn\u001b[0m \u001b[0m_to_datetime_with_unit\u001b[0m\u001b[0;34m(\u001b[0m\u001b[0marg\u001b[0m\u001b[0;34m,\u001b[0m \u001b[0munit\u001b[0m\u001b[0;34m,\u001b[0m \u001b[0mname\u001b[0m\u001b[0;34m,\u001b[0m \u001b[0mtz\u001b[0m\u001b[0;34m,\u001b[0m \u001b[0merrors\u001b[0m\u001b[0;34m)\u001b[0m\u001b[0;34m\u001b[0m\u001b[0;34m\u001b[0m\u001b[0m\n\u001b[0m\u001b[1;32m    358\u001b[0m     \u001b[0;32melif\u001b[0m \u001b[0mgetattr\u001b[0m\u001b[0;34m(\u001b[0m\u001b[0marg\u001b[0m\u001b[0;34m,\u001b[0m \u001b[0;34m\"ndim\"\u001b[0m\u001b[0;34m,\u001b[0m \u001b[0;36m1\u001b[0m\u001b[0;34m)\u001b[0m \u001b[0;34m>\u001b[0m \u001b[0;36m1\u001b[0m\u001b[0;34m:\u001b[0m\u001b[0;34m\u001b[0m\u001b[0;34m\u001b[0m\u001b[0m\n",
            "\u001b[0;32m/usr/local/lib/python3.10/dist-packages/pandas/core/tools/datetimes.py\u001b[0m in \u001b[0;36m_to_datetime_with_unit\u001b[0;34m(arg, unit, name, tz, errors)\u001b[0m\n\u001b[1;32m    529\u001b[0m         \u001b[0marg\u001b[0m \u001b[0;34m=\u001b[0m \u001b[0mnp\u001b[0m\u001b[0;34m.\u001b[0m\u001b[0masarray\u001b[0m\u001b[0;34m(\u001b[0m\u001b[0marg\u001b[0m\u001b[0;34m)\u001b[0m\u001b[0;34m\u001b[0m\u001b[0;34m\u001b[0m\u001b[0m\n\u001b[0;32m--> 530\u001b[0;31m         \u001b[0marr\u001b[0m\u001b[0;34m,\u001b[0m \u001b[0mtz_parsed\u001b[0m \u001b[0;34m=\u001b[0m \u001b[0mtslib\u001b[0m\u001b[0;34m.\u001b[0m\u001b[0marray_with_unit_to_datetime\u001b[0m\u001b[0;34m(\u001b[0m\u001b[0marg\u001b[0m\u001b[0;34m,\u001b[0m \u001b[0munit\u001b[0m\u001b[0;34m,\u001b[0m \u001b[0merrors\u001b[0m\u001b[0;34m=\u001b[0m\u001b[0merrors\u001b[0m\u001b[0;34m)\u001b[0m\u001b[0;34m\u001b[0m\u001b[0;34m\u001b[0m\u001b[0m\n\u001b[0m\u001b[1;32m    531\u001b[0m \u001b[0;34m\u001b[0m\u001b[0m\n",
            "\u001b[0;32m/usr/local/lib/python3.10/dist-packages/pandas/_libs/tslib.pyx\u001b[0m in \u001b[0;36mpandas._libs.tslib.array_with_unit_to_datetime\u001b[0;34m()\u001b[0m\n",
            "\u001b[0;31mOutOfBoundsDatetime\u001b[0m: cannot convert input with unit 'ms'",
            "\nDuring handling of the above exception, another exception occurred:\n",
            "\u001b[0;31mOutOfBoundsDatetime\u001b[0m                       Traceback (most recent call last)",
            "\u001b[0;32m<ipython-input-20-b043f21f891f>\u001b[0m in \u001b[0;36m<cell line: 41>\u001b[0;34m()\u001b[0m\n\u001b[1;32m     39\u001b[0m \u001b[0moutput_directory\u001b[0m \u001b[0;34m=\u001b[0m \u001b[0;34m'path_to_output_directory'\u001b[0m\u001b[0;34m\u001b[0m\u001b[0;34m\u001b[0m\u001b[0m\n\u001b[1;32m     40\u001b[0m \u001b[0mdata\u001b[0m \u001b[0;34m=\u001b[0m \u001b[0mpd\u001b[0m\u001b[0;34m.\u001b[0m\u001b[0mread_csv\u001b[0m\u001b[0;34m(\u001b[0m\u001b[0mdata_path\u001b[0m\u001b[0;34m)\u001b[0m\u001b[0;34m\u001b[0m\u001b[0;34m\u001b[0m\u001b[0m\n\u001b[0;32m---> 41\u001b[0;31m \u001b[0mcreate_daily_miniseeds\u001b[0m\u001b[0;34m(\u001b[0m\u001b[0mdata\u001b[0m\u001b[0;34m,\u001b[0m \u001b[0moutput_directory\u001b[0m\u001b[0;34m)\u001b[0m\u001b[0;34m\u001b[0m\u001b[0;34m\u001b[0m\u001b[0m\n\u001b[0m",
            "\u001b[0;32m<ipython-input-20-b043f21f891f>\u001b[0m in \u001b[0;36mcreate_daily_miniseeds\u001b[0;34m(df, output_dir)\u001b[0m\n\u001b[1;32m     14\u001b[0m         \u001b[0;31m# If out of bounds or other conversion issue, try converting without specifying the unit\u001b[0m\u001b[0;34m\u001b[0m\u001b[0;34m\u001b[0m\u001b[0m\n\u001b[1;32m     15\u001b[0m         \u001b[0mprint\u001b[0m\u001b[0;34m(\u001b[0m\u001b[0;34mf\"Timestamp conversion issue: {e}, trying alternative method...\"\u001b[0m\u001b[0;34m)\u001b[0m\u001b[0;34m\u001b[0m\u001b[0;34m\u001b[0m\u001b[0m\n\u001b[0;32m---> 16\u001b[0;31m         \u001b[0mdf\u001b[0m\u001b[0;34m[\u001b[0m\u001b[0;34m'Timestamp'\u001b[0m\u001b[0;34m]\u001b[0m \u001b[0;34m=\u001b[0m \u001b[0mpd\u001b[0m\u001b[0;34m.\u001b[0m\u001b[0mto_datetime\u001b[0m\u001b[0;34m(\u001b[0m\u001b[0mdf\u001b[0m\u001b[0;34m[\u001b[0m\u001b[0;34m'Timestamp'\u001b[0m\u001b[0;34m]\u001b[0m\u001b[0;34m,\u001b[0m \u001b[0munit\u001b[0m\u001b[0;34m=\u001b[0m\u001b[0;34m's'\u001b[0m\u001b[0;34m)\u001b[0m  \u001b[0;31m# Assuming the timestamps are in seconds\u001b[0m\u001b[0;34m\u001b[0m\u001b[0;34m\u001b[0m\u001b[0m\n\u001b[0m\u001b[1;32m     17\u001b[0m \u001b[0;34m\u001b[0m\u001b[0m\n\u001b[1;32m     18\u001b[0m     \u001b[0;31m# Set the index to the timestamp for resampling\u001b[0m\u001b[0;34m\u001b[0m\u001b[0;34m\u001b[0m\u001b[0m\n",
            "\u001b[0;32m/usr/local/lib/python3.10/dist-packages/pandas/core/tools/datetimes.py\u001b[0m in \u001b[0;36mto_datetime\u001b[0;34m(arg, errors, dayfirst, yearfirst, utc, format, exact, unit, infer_datetime_format, origin, cache)\u001b[0m\n\u001b[1;32m   1049\u001b[0m             \u001b[0mresult\u001b[0m \u001b[0;34m=\u001b[0m \u001b[0marg\u001b[0m\u001b[0;34m.\u001b[0m\u001b[0mmap\u001b[0m\u001b[0;34m(\u001b[0m\u001b[0mcache_array\u001b[0m\u001b[0;34m)\u001b[0m\u001b[0;34m\u001b[0m\u001b[0;34m\u001b[0m\u001b[0m\n\u001b[1;32m   1050\u001b[0m         \u001b[0;32melse\u001b[0m\u001b[0;34m:\u001b[0m\u001b[0;34m\u001b[0m\u001b[0;34m\u001b[0m\u001b[0m\n\u001b[0;32m-> 1051\u001b[0;31m             \u001b[0mvalues\u001b[0m \u001b[0;34m=\u001b[0m \u001b[0mconvert_listlike\u001b[0m\u001b[0;34m(\u001b[0m\u001b[0marg\u001b[0m\u001b[0;34m.\u001b[0m\u001b[0m_values\u001b[0m\u001b[0;34m,\u001b[0m \u001b[0mformat\u001b[0m\u001b[0;34m)\u001b[0m\u001b[0;34m\u001b[0m\u001b[0;34m\u001b[0m\u001b[0m\n\u001b[0m\u001b[1;32m   1052\u001b[0m             \u001b[0mresult\u001b[0m \u001b[0;34m=\u001b[0m \u001b[0marg\u001b[0m\u001b[0;34m.\u001b[0m\u001b[0m_constructor\u001b[0m\u001b[0;34m(\u001b[0m\u001b[0mvalues\u001b[0m\u001b[0;34m,\u001b[0m \u001b[0mindex\u001b[0m\u001b[0;34m=\u001b[0m\u001b[0marg\u001b[0m\u001b[0;34m.\u001b[0m\u001b[0mindex\u001b[0m\u001b[0;34m,\u001b[0m \u001b[0mname\u001b[0m\u001b[0;34m=\u001b[0m\u001b[0marg\u001b[0m\u001b[0;34m.\u001b[0m\u001b[0mname\u001b[0m\u001b[0;34m)\u001b[0m\u001b[0;34m\u001b[0m\u001b[0;34m\u001b[0m\u001b[0m\n\u001b[1;32m   1053\u001b[0m     \u001b[0;32melif\u001b[0m \u001b[0misinstance\u001b[0m\u001b[0;34m(\u001b[0m\u001b[0marg\u001b[0m\u001b[0;34m,\u001b[0m \u001b[0;34m(\u001b[0m\u001b[0mABCDataFrame\u001b[0m\u001b[0;34m,\u001b[0m \u001b[0mabc\u001b[0m\u001b[0;34m.\u001b[0m\u001b[0mMutableMapping\u001b[0m\u001b[0;34m)\u001b[0m\u001b[0;34m)\u001b[0m\u001b[0;34m:\u001b[0m\u001b[0;34m\u001b[0m\u001b[0;34m\u001b[0m\u001b[0m\n",
            "\u001b[0;32m/usr/local/lib/python3.10/dist-packages/pandas/core/tools/datetimes.py\u001b[0m in \u001b[0;36m_convert_listlike_datetimes\u001b[0;34m(arg, format, name, tz, unit, errors, infer_datetime_format, dayfirst, yearfirst, exact)\u001b[0m\n\u001b[1;32m    355\u001b[0m         \u001b[0;32mif\u001b[0m \u001b[0mformat\u001b[0m \u001b[0;32mis\u001b[0m \u001b[0;32mnot\u001b[0m \u001b[0;32mNone\u001b[0m\u001b[0;34m:\u001b[0m\u001b[0;34m\u001b[0m\u001b[0;34m\u001b[0m\u001b[0m\n\u001b[1;32m    356\u001b[0m             \u001b[0;32mraise\u001b[0m \u001b[0mValueError\u001b[0m\u001b[0;34m(\u001b[0m\u001b[0;34m\"cannot specify both format and unit\"\u001b[0m\u001b[0;34m)\u001b[0m\u001b[0;34m\u001b[0m\u001b[0;34m\u001b[0m\u001b[0m\n\u001b[0;32m--> 357\u001b[0;31m         \u001b[0;32mreturn\u001b[0m \u001b[0m_to_datetime_with_unit\u001b[0m\u001b[0;34m(\u001b[0m\u001b[0marg\u001b[0m\u001b[0;34m,\u001b[0m \u001b[0munit\u001b[0m\u001b[0;34m,\u001b[0m \u001b[0mname\u001b[0m\u001b[0;34m,\u001b[0m \u001b[0mtz\u001b[0m\u001b[0;34m,\u001b[0m \u001b[0merrors\u001b[0m\u001b[0;34m)\u001b[0m\u001b[0;34m\u001b[0m\u001b[0;34m\u001b[0m\u001b[0m\n\u001b[0m\u001b[1;32m    358\u001b[0m     \u001b[0;32melif\u001b[0m \u001b[0mgetattr\u001b[0m\u001b[0;34m(\u001b[0m\u001b[0marg\u001b[0m\u001b[0;34m,\u001b[0m \u001b[0;34m\"ndim\"\u001b[0m\u001b[0;34m,\u001b[0m \u001b[0;36m1\u001b[0m\u001b[0;34m)\u001b[0m \u001b[0;34m>\u001b[0m \u001b[0;36m1\u001b[0m\u001b[0;34m:\u001b[0m\u001b[0;34m\u001b[0m\u001b[0;34m\u001b[0m\u001b[0m\n\u001b[1;32m    359\u001b[0m         raise TypeError(\n",
            "\u001b[0;32m/usr/local/lib/python3.10/dist-packages/pandas/core/tools/datetimes.py\u001b[0m in \u001b[0;36m_to_datetime_with_unit\u001b[0;34m(arg, unit, name, tz, errors)\u001b[0m\n\u001b[1;32m    528\u001b[0m     \u001b[0;32melse\u001b[0m\u001b[0;34m:\u001b[0m\u001b[0;34m\u001b[0m\u001b[0;34m\u001b[0m\u001b[0m\n\u001b[1;32m    529\u001b[0m         \u001b[0marg\u001b[0m \u001b[0;34m=\u001b[0m \u001b[0mnp\u001b[0m\u001b[0;34m.\u001b[0m\u001b[0masarray\u001b[0m\u001b[0;34m(\u001b[0m\u001b[0marg\u001b[0m\u001b[0;34m)\u001b[0m\u001b[0;34m\u001b[0m\u001b[0;34m\u001b[0m\u001b[0m\n\u001b[0;32m--> 530\u001b[0;31m         \u001b[0marr\u001b[0m\u001b[0;34m,\u001b[0m \u001b[0mtz_parsed\u001b[0m \u001b[0;34m=\u001b[0m \u001b[0mtslib\u001b[0m\u001b[0;34m.\u001b[0m\u001b[0marray_with_unit_to_datetime\u001b[0m\u001b[0;34m(\u001b[0m\u001b[0marg\u001b[0m\u001b[0;34m,\u001b[0m \u001b[0munit\u001b[0m\u001b[0;34m,\u001b[0m \u001b[0merrors\u001b[0m\u001b[0;34m=\u001b[0m\u001b[0merrors\u001b[0m\u001b[0;34m)\u001b[0m\u001b[0;34m\u001b[0m\u001b[0;34m\u001b[0m\u001b[0m\n\u001b[0m\u001b[1;32m    531\u001b[0m \u001b[0;34m\u001b[0m\u001b[0m\n\u001b[1;32m    532\u001b[0m     \u001b[0;32mif\u001b[0m \u001b[0merrors\u001b[0m \u001b[0;34m==\u001b[0m \u001b[0;34m\"ignore\"\u001b[0m\u001b[0;34m:\u001b[0m\u001b[0;34m\u001b[0m\u001b[0;34m\u001b[0m\u001b[0m\n",
            "\u001b[0;32m/usr/local/lib/python3.10/dist-packages/pandas/_libs/tslib.pyx\u001b[0m in \u001b[0;36mpandas._libs.tslib.array_with_unit_to_datetime\u001b[0;34m()\u001b[0m\n",
            "\u001b[0;31mOutOfBoundsDatetime\u001b[0m: cannot convert input with unit 's'"
          ]
        }
      ]
    },
    {
      "cell_type": "code",
      "source": [
        "import pandas as pd\n",
        "\n",
        "# Load the dataset\n",
        "data_path = '/content/drive/MyDrive/testMob/data_1600_accel_phone.csv'  # Replace with the path to your data file\n",
        "data = pd.read_csv(data_path)\n",
        "\n",
        "# Display the first few rows of the dataframe, focusing on the timestamp column\n",
        "print(data['Timestamp'].head())\n",
        "\n",
        "# Check the range of the timestamps\n",
        "print(\"Timestamp Info:\")\n",
        "print(\"Min timestamp value:\", data['Timestamp'].min())\n",
        "print(\"Max timestamp value:\", data['Timestamp'].max())\n"
      ],
      "metadata": {
        "colab": {
          "base_uri": "https://localhost:8080/"
        },
        "id": "3ah3T0DE3UIW",
        "outputId": "0ca483d7-b63b-4aa4-b95f-b4fdda43807a"
      },
      "execution_count": 21,
      "outputs": [
        {
          "output_type": "stream",
          "name": "stdout",
          "text": [
            "0    252207666810782\n",
            "1    252207717164786\n",
            "2    252207767518790\n",
            "3    252207817872794\n",
            "4    252207868226798\n",
            "Name: Timestamp, dtype: int64\n",
            "Timestamp Info:\n",
            "Min timestamp value: 241598622217012\n",
            "Max timestamp value: 254351103296079\n"
          ]
        }
      ]
    },
    {
      "cell_type": "code",
      "source": [
        "import pandas as pd\n",
        "from datetime import datetime, timedelta\n",
        "from obspy.core import Stream, Trace, UTCDateTime\n",
        "import numpy as np\n",
        "import os\n",
        "\n",
        "def convert_to_datetime(timestamps, reference):\n",
        "    \"\"\" Convert microseconds based on a reference to datetime objects. \"\"\"\n",
        "    return [datetime(1970, 1, 1) + timedelta(microseconds=int(ts - reference)) for ts in timestamps]\n",
        "\n",
        "def create_miniseed_files(data, output_dir):\n",
        "    \"\"\" Create MiniSeed files from the resampled data. \"\"\"\n",
        "    if not os.path.exists(output_dir):\n",
        "        os.makedirs(output_dir)\n",
        "\n",
        "    for index, row in data.iterrows():\n",
        "        # Ensure that each data point is an array even if it's a single value\n",
        "        x = np.array([row['X']])\n",
        "        y = np.array([row['Y']])\n",
        "        z = np.array([row['Z']])\n",
        "\n",
        "        # Create traces for each accelerometer axis\n",
        "        tr_x = Trace(data=x, header={\n",
        "            'network': 'XX',\n",
        "            'station': 'MOB1',\n",
        "            'location': '',\n",
        "            'channel': 'HHX',\n",
        "            'starttime': UTCDateTime(index),\n",
        "            'sampling_rate': 100  # Adjust this as per your actual data's sampling rate\n",
        "        })\n",
        "        tr_y = Trace(data=y, header={\n",
        "            'network': 'XX',\n",
        "            'station': 'MOB1',\n",
        "            'location': '',\n",
        "            'channel': 'HHY',\n",
        "            'starttime': UTCDateTime(index),\n",
        "            'sampling_rate': 100\n",
        "        })\n",
        "        tr_z = Trace(data=z, header={\n",
        "            'network': 'XX',\n",
        "            'station': 'MOB1',\n",
        "            'location': '',\n",
        "            'channel': 'HHZ',\n",
        "            'starttime': UTCDateTime(index),\n",
        "            'sampling_rate': 100\n",
        "        })\n",
        "\n",
        "        # Create a stream and write to a MiniSeed file\n",
        "        st = Stream(traces=[tr_x, tr_y, tr_z])\n",
        "        filename = os.path.join(output_dir, f\"{index.strftime('%Y%m%d')}.mseed\")\n",
        "        st.write(filename, format='MSEED')\n",
        "\n",
        "def main():\n",
        "    data_path = '/content/drive/MyDrive/testMob/data_1600_accel_phone.csv'  # Replace with the path to your data file\n",
        "    output_directory = 'path_to_output_directory'\n",
        "\n",
        "    # Load data\n",
        "    data = pd.read_csv(data_path)\n",
        "\n",
        "    # Convert timestamps to datetime objects\n",
        "    reference_timestamp = data['Timestamp'].min() - 1000000000000  # Subtraction to avoid overflow\n",
        "    data['Datetime'] = convert_to_datetime(data['Timestamp'], reference_timestamp)\n",
        "\n",
        "    # Set datetime as index\n",
        "    data.set_index('Datetime', inplace=True)\n",
        "    data.drop(columns=['Timestamp'], inplace=True)  # Drop original timestamp column if no longer needed\n",
        "\n",
        "    # Resample data to daily mean (you can change the aggregation method)\n",
        "    daily_data = data.resample('D').mean()\n",
        "\n",
        "    # Create MiniSeed files\n",
        "    create_miniseed_files(daily_data, output_directory)\n",
        "\n",
        "    print(\"Data processing complete. MiniSeed files created.\")\n",
        "\n",
        "if __name__ == \"__main__\":\n",
        "    main()\n"
      ],
      "metadata": {
        "colab": {
          "base_uri": "https://localhost:8080/"
        },
        "id": "we_toRcU32By",
        "outputId": "32c975b9-9033-4349-8ed4-c993e99fb49a"
      },
      "execution_count": 23,
      "outputs": [
        {
          "output_type": "stream",
          "name": "stdout",
          "text": [
            "Data processing complete. MiniSeed files created.\n"
          ]
        }
      ]
    },
    {
      "cell_type": "code",
      "source": [
        "from EQTransformer.core.mseed_predictor import mseed_predictor\n",
        "import os\n",
        "\n",
        "def predict_earthquakes(input_directory, model_path, output_directory):\n",
        "    \"\"\"\n",
        "    Predicts earthquakes using the EQTransformer model from MiniSeed files.\n",
        "\n",
        "    Args:\n",
        "    input_directory (str): Path to the directory containing MiniSeed files.\n",
        "    model_path (str): Path to the pre-trained EQTransformer model.\n",
        "    output_directory (str): Directory to save the detection outputs.\n",
        "    \"\"\"\n",
        "    # Ensure the output directory exists\n",
        "    os.makedirs(output_directory, exist_ok=True)\n",
        "\n",
        "    # Perform detection using EQTransformer\n",
        "    mseed_predictor(input_dir=input_directory,\n",
        "                    input_model=model_path,\n",
        "                    output_dir=output_directory,\n",
        "                stations_json='json/station_list.json',\n",
        "                detection_threshold=0.2,\n",
        "                P_threshold=0.1,\n",
        "                S_threshold=0.1,\n",
        "                number_of_plots=10,\n",
        "                plot_mode='time_frequency',\n",
        "                batch_size=500,\n",
        "                overlap=0.3)\n",
        "\n",
        "# Define paths\n",
        "input_dir = '/content/EQTransformer/downloads_mseeds'\n",
        "model_path = '/content/EQTransformer/ModelsAndSampleData/EqT_original_model.h5' # You need to have a pre-trained EQT model file\n",
        "output_dir = '/content/EQTransformer/ModelsAndSampleData/detecteddd'\n",
        "\n",
        "# Run the prediction function\n",
        "predict_earthquakes(input_dir, model_path, output_dir)\n",
        "\n",
        "print(\"Earthquake detection completed and results are saved.\")\n"
      ],
      "metadata": {
        "colab": {
          "base_uri": "https://localhost:8080/",
          "height": 428
        },
        "id": "_zEYKVZ3wgi7",
        "outputId": "12b3dc43-7c2a-4726-dfcb-032eb288454b"
      },
      "execution_count": 37,
      "outputs": [
        {
          "name": "stdout",
          "output_type": "stream",
          "text": [
            " --> Type (Yes or y) to create a new empty directory! This will erase your previous results so make a copy if you want them.y\n"
          ]
        },
        {
          "output_type": "error",
          "ename": "TypeError",
          "evalue": "Dimensions of C (41, 151) should be one smaller than X(151) and Y(41) while using shading='flat' see help(pcolormesh)",
          "traceback": [
            "\u001b[0;31m---------------------------------------------------------------------------\u001b[0m",
            "\u001b[0;31mTypeError\u001b[0m                                 Traceback (most recent call last)",
            "\u001b[0;32m<ipython-input-37-16b55b651c07>\u001b[0m in \u001b[0;36m<cell line: 35>\u001b[0;34m()\u001b[0m\n\u001b[1;32m     33\u001b[0m \u001b[0;34m\u001b[0m\u001b[0m\n\u001b[1;32m     34\u001b[0m \u001b[0;31m# Run the prediction function\u001b[0m\u001b[0;34m\u001b[0m\u001b[0;34m\u001b[0m\u001b[0m\n\u001b[0;32m---> 35\u001b[0;31m \u001b[0mpredict_earthquakes\u001b[0m\u001b[0;34m(\u001b[0m\u001b[0minput_dir\u001b[0m\u001b[0;34m,\u001b[0m \u001b[0mmodel_path\u001b[0m\u001b[0;34m,\u001b[0m \u001b[0moutput_dir\u001b[0m\u001b[0;34m)\u001b[0m\u001b[0;34m\u001b[0m\u001b[0;34m\u001b[0m\u001b[0m\n\u001b[0m\u001b[1;32m     36\u001b[0m \u001b[0;34m\u001b[0m\u001b[0m\n\u001b[1;32m     37\u001b[0m \u001b[0mprint\u001b[0m\u001b[0;34m(\u001b[0m\u001b[0;34m\"Earthquake detection completed and results are saved.\"\u001b[0m\u001b[0;34m)\u001b[0m\u001b[0;34m\u001b[0m\u001b[0;34m\u001b[0m\u001b[0m\n",
            "\u001b[0;32m<ipython-input-37-16b55b651c07>\u001b[0m in \u001b[0;36mpredict_earthquakes\u001b[0;34m(input_directory, model_path, output_directory)\u001b[0m\n\u001b[1;32m     15\u001b[0m \u001b[0;34m\u001b[0m\u001b[0m\n\u001b[1;32m     16\u001b[0m     \u001b[0;31m# Perform detection using EQTransformer\u001b[0m\u001b[0;34m\u001b[0m\u001b[0;34m\u001b[0m\u001b[0m\n\u001b[0;32m---> 17\u001b[0;31m     mseed_predictor(input_dir=input_directory,\n\u001b[0m\u001b[1;32m     18\u001b[0m                     \u001b[0minput_model\u001b[0m\u001b[0;34m=\u001b[0m\u001b[0mmodel_path\u001b[0m\u001b[0;34m,\u001b[0m\u001b[0;34m\u001b[0m\u001b[0;34m\u001b[0m\u001b[0m\n\u001b[1;32m     19\u001b[0m                     \u001b[0moutput_dir\u001b[0m\u001b[0;34m=\u001b[0m\u001b[0moutput_directory\u001b[0m\u001b[0;34m,\u001b[0m\u001b[0;34m\u001b[0m\u001b[0;34m\u001b[0m\u001b[0m\n",
            "\u001b[0;32m/content/EQTransformer/EQTransformer/core/mseed_predictor.py\u001b[0m in \u001b[0;36mmseed_predictor\u001b[0;34m(input_dir, input_model, stations_json, output_dir, detection_threshold, P_threshold, S_threshold, number_of_plots, plot_mode, loss_weights, loss_types, normalization_mode, batch_size, overlap, gpuid, gpu_limit, overwrite, output_probabilities)\u001b[0m\n\u001b[1;32m    330\u001b[0m \u001b[0;34m\u001b[0m\u001b[0m\n\u001b[1;32m    331\u001b[0m                     \u001b[0;32mif\u001b[0m \u001b[0mplt_n\u001b[0m \u001b[0;34m<\u001b[0m \u001b[0margs\u001b[0m\u001b[0;34m[\u001b[0m\u001b[0;34m'number_of_plots'\u001b[0m\u001b[0;34m]\u001b[0m \u001b[0;32mand\u001b[0m \u001b[0mpost_write\u001b[0m \u001b[0;34m>\u001b[0m \u001b[0mpre_write\u001b[0m\u001b[0;34m:\u001b[0m\u001b[0;34m\u001b[0m\u001b[0;34m\u001b[0m\u001b[0m\n\u001b[0;32m--> 332\u001b[0;31m                         \u001b[0m_plotter_prediction\u001b[0m\u001b[0;34m(\u001b[0m\u001b[0mdata_set\u001b[0m\u001b[0;34m[\u001b[0m\u001b[0mmeta\u001b[0m\u001b[0;34m[\u001b[0m\u001b[0;34m\"trace_start_time\"\u001b[0m\u001b[0;34m]\u001b[0m\u001b[0;34m[\u001b[0m\u001b[0mix\u001b[0m\u001b[0;34m]\u001b[0m\u001b[0;34m]\u001b[0m\u001b[0;34m,\u001b[0m \u001b[0margs\u001b[0m\u001b[0;34m,\u001b[0m \u001b[0msave_figs\u001b[0m\u001b[0;34m,\u001b[0m \u001b[0mpredD\u001b[0m\u001b[0;34m[\u001b[0m\u001b[0mix\u001b[0m\u001b[0;34m]\u001b[0m\u001b[0;34m[\u001b[0m\u001b[0;34m:\u001b[0m\u001b[0;34m,\u001b[0m \u001b[0;36m0\u001b[0m\u001b[0;34m]\u001b[0m\u001b[0;34m,\u001b[0m \u001b[0mpredP\u001b[0m\u001b[0;34m[\u001b[0m\u001b[0mix\u001b[0m\u001b[0;34m]\u001b[0m\u001b[0;34m[\u001b[0m\u001b[0;34m:\u001b[0m\u001b[0;34m,\u001b[0m \u001b[0;36m0\u001b[0m\u001b[0;34m]\u001b[0m\u001b[0;34m,\u001b[0m \u001b[0mpredS\u001b[0m\u001b[0;34m[\u001b[0m\u001b[0mix\u001b[0m\u001b[0;34m]\u001b[0m\u001b[0;34m[\u001b[0m\u001b[0;34m:\u001b[0m\u001b[0;34m,\u001b[0m \u001b[0;36m0\u001b[0m\u001b[0;34m]\u001b[0m\u001b[0;34m,\u001b[0m \u001b[0mmeta\u001b[0m\u001b[0;34m[\u001b[0m\u001b[0;34m\"trace_start_time\"\u001b[0m\u001b[0;34m]\u001b[0m\u001b[0;34m[\u001b[0m\u001b[0mix\u001b[0m\u001b[0;34m]\u001b[0m\u001b[0;34m,\u001b[0m \u001b[0mmatches\u001b[0m\u001b[0;34m)\u001b[0m\u001b[0;34m\u001b[0m\u001b[0;34m\u001b[0m\u001b[0m\n\u001b[0m\u001b[1;32m    333\u001b[0m                         \u001b[0mplt_n\u001b[0m \u001b[0;34m+=\u001b[0m \u001b[0;36m1\u001b[0m\u001b[0;34m\u001b[0m\u001b[0;34m\u001b[0m\u001b[0m\n\u001b[1;32m    334\u001b[0m \u001b[0;34m\u001b[0m\u001b[0m\n",
            "\u001b[0;32m/content/EQTransformer/EQTransformer/core/mseed_predictor.py\u001b[0m in \u001b[0;36m_plotter_prediction\u001b[0;34m(data, args, save_figs, yh1, yh2, yh3, evi, matches)\u001b[0m\n\u001b[1;32m   1145\u001b[0m         \u001b[0mf\u001b[0m\u001b[0;34m,\u001b[0m \u001b[0mt\u001b[0m\u001b[0;34m,\u001b[0m \u001b[0mPxx\u001b[0m \u001b[0;34m=\u001b[0m \u001b[0msignal\u001b[0m\u001b[0;34m.\u001b[0m\u001b[0mstft\u001b[0m\u001b[0;34m(\u001b[0m\u001b[0mdata\u001b[0m\u001b[0;34m[\u001b[0m\u001b[0;34m:\u001b[0m\u001b[0;34m,\u001b[0m \u001b[0;36m0\u001b[0m\u001b[0;34m]\u001b[0m\u001b[0;34m,\u001b[0m \u001b[0mfs\u001b[0m\u001b[0;34m=\u001b[0m\u001b[0;36m100\u001b[0m\u001b[0;34m,\u001b[0m \u001b[0mnperseg\u001b[0m\u001b[0;34m=\u001b[0m\u001b[0;36m80\u001b[0m\u001b[0;34m)\u001b[0m\u001b[0;34m\u001b[0m\u001b[0;34m\u001b[0m\u001b[0m\n\u001b[1;32m   1146\u001b[0m         \u001b[0mPxx\u001b[0m \u001b[0;34m=\u001b[0m \u001b[0mnp\u001b[0m\u001b[0;34m.\u001b[0m\u001b[0mabs\u001b[0m\u001b[0;34m(\u001b[0m\u001b[0mPxx\u001b[0m\u001b[0;34m)\u001b[0m\u001b[0;34m\u001b[0m\u001b[0;34m\u001b[0m\u001b[0m\n\u001b[0;32m-> 1147\u001b[0;31m         \u001b[0mplt\u001b[0m\u001b[0;34m.\u001b[0m\u001b[0mpcolormesh\u001b[0m\u001b[0;34m(\u001b[0m\u001b[0mt\u001b[0m\u001b[0;34m,\u001b[0m \u001b[0mf\u001b[0m\u001b[0;34m,\u001b[0m \u001b[0mPxx\u001b[0m\u001b[0;34m,\u001b[0m \u001b[0malpha\u001b[0m\u001b[0;34m=\u001b[0m\u001b[0;32mNone\u001b[0m\u001b[0;34m,\u001b[0m \u001b[0mcmap\u001b[0m\u001b[0;34m=\u001b[0m\u001b[0;34m'hot'\u001b[0m\u001b[0;34m,\u001b[0m \u001b[0mshading\u001b[0m\u001b[0;34m=\u001b[0m\u001b[0;34m'flat'\u001b[0m\u001b[0;34m,\u001b[0m \u001b[0mantialiased\u001b[0m\u001b[0;34m=\u001b[0m\u001b[0;32mTrue\u001b[0m\u001b[0;34m)\u001b[0m\u001b[0;34m\u001b[0m\u001b[0;34m\u001b[0m\u001b[0m\n\u001b[0m\u001b[1;32m   1148\u001b[0m         \u001b[0mplt\u001b[0m\u001b[0;34m.\u001b[0m\u001b[0mylim\u001b[0m\u001b[0;34m(\u001b[0m\u001b[0;36m0\u001b[0m\u001b[0;34m,\u001b[0m \u001b[0;36m40\u001b[0m\u001b[0;34m)\u001b[0m\u001b[0;34m\u001b[0m\u001b[0;34m\u001b[0m\u001b[0m\n\u001b[1;32m   1149\u001b[0m         \u001b[0mplt\u001b[0m\u001b[0;34m.\u001b[0m\u001b[0mtext\u001b[0m\u001b[0;34m(\u001b[0m\u001b[0;36m1\u001b[0m\u001b[0;34m,\u001b[0m \u001b[0;36m1\u001b[0m\u001b[0;34m,\u001b[0m \u001b[0;34m'STFT'\u001b[0m\u001b[0;34m,\u001b[0m \u001b[0mfontdict\u001b[0m\u001b[0;34m=\u001b[0m\u001b[0mfont0\u001b[0m\u001b[0;34m)\u001b[0m\u001b[0;34m\u001b[0m\u001b[0;34m\u001b[0m\u001b[0m\n",
            "\u001b[0;32m/usr/local/lib/python3.10/dist-packages/matplotlib/pyplot.py\u001b[0m in \u001b[0;36mpcolormesh\u001b[0;34m(alpha, norm, cmap, vmin, vmax, shading, antialiased, data, *args, **kwargs)\u001b[0m\n\u001b[1;32m   2771\u001b[0m         \u001b[0mvmax\u001b[0m\u001b[0;34m=\u001b[0m\u001b[0;32mNone\u001b[0m\u001b[0;34m,\u001b[0m \u001b[0mshading\u001b[0m\u001b[0;34m=\u001b[0m\u001b[0;32mNone\u001b[0m\u001b[0;34m,\u001b[0m \u001b[0mantialiased\u001b[0m\u001b[0;34m=\u001b[0m\u001b[0;32mFalse\u001b[0m\u001b[0;34m,\u001b[0m \u001b[0mdata\u001b[0m\u001b[0;34m=\u001b[0m\u001b[0;32mNone\u001b[0m\u001b[0;34m,\u001b[0m\u001b[0;34m\u001b[0m\u001b[0;34m\u001b[0m\u001b[0m\n\u001b[1;32m   2772\u001b[0m         **kwargs):\n\u001b[0;32m-> 2773\u001b[0;31m     __ret = gca().pcolormesh(\n\u001b[0m\u001b[1;32m   2774\u001b[0m         \u001b[0;34m*\u001b[0m\u001b[0margs\u001b[0m\u001b[0;34m,\u001b[0m \u001b[0malpha\u001b[0m\u001b[0;34m=\u001b[0m\u001b[0malpha\u001b[0m\u001b[0;34m,\u001b[0m \u001b[0mnorm\u001b[0m\u001b[0;34m=\u001b[0m\u001b[0mnorm\u001b[0m\u001b[0;34m,\u001b[0m \u001b[0mcmap\u001b[0m\u001b[0;34m=\u001b[0m\u001b[0mcmap\u001b[0m\u001b[0;34m,\u001b[0m \u001b[0mvmin\u001b[0m\u001b[0;34m=\u001b[0m\u001b[0mvmin\u001b[0m\u001b[0;34m,\u001b[0m\u001b[0;34m\u001b[0m\u001b[0;34m\u001b[0m\u001b[0m\n\u001b[1;32m   2775\u001b[0m         \u001b[0mvmax\u001b[0m\u001b[0;34m=\u001b[0m\u001b[0mvmax\u001b[0m\u001b[0;34m,\u001b[0m \u001b[0mshading\u001b[0m\u001b[0;34m=\u001b[0m\u001b[0mshading\u001b[0m\u001b[0;34m,\u001b[0m \u001b[0mantialiased\u001b[0m\u001b[0;34m=\u001b[0m\u001b[0mantialiased\u001b[0m\u001b[0;34m,\u001b[0m\u001b[0;34m\u001b[0m\u001b[0;34m\u001b[0m\u001b[0m\n",
            "\u001b[0;32m/usr/local/lib/python3.10/dist-packages/matplotlib/__init__.py\u001b[0m in \u001b[0;36minner\u001b[0;34m(ax, data, *args, **kwargs)\u001b[0m\n\u001b[1;32m   1440\u001b[0m     \u001b[0;32mdef\u001b[0m \u001b[0minner\u001b[0m\u001b[0;34m(\u001b[0m\u001b[0max\u001b[0m\u001b[0;34m,\u001b[0m \u001b[0;34m*\u001b[0m\u001b[0margs\u001b[0m\u001b[0;34m,\u001b[0m \u001b[0mdata\u001b[0m\u001b[0;34m=\u001b[0m\u001b[0;32mNone\u001b[0m\u001b[0;34m,\u001b[0m \u001b[0;34m**\u001b[0m\u001b[0mkwargs\u001b[0m\u001b[0;34m)\u001b[0m\u001b[0;34m:\u001b[0m\u001b[0;34m\u001b[0m\u001b[0;34m\u001b[0m\u001b[0m\n\u001b[1;32m   1441\u001b[0m         \u001b[0;32mif\u001b[0m \u001b[0mdata\u001b[0m \u001b[0;32mis\u001b[0m \u001b[0;32mNone\u001b[0m\u001b[0;34m:\u001b[0m\u001b[0;34m\u001b[0m\u001b[0;34m\u001b[0m\u001b[0m\n\u001b[0;32m-> 1442\u001b[0;31m             \u001b[0;32mreturn\u001b[0m \u001b[0mfunc\u001b[0m\u001b[0;34m(\u001b[0m\u001b[0max\u001b[0m\u001b[0;34m,\u001b[0m \u001b[0;34m*\u001b[0m\u001b[0mmap\u001b[0m\u001b[0;34m(\u001b[0m\u001b[0msanitize_sequence\u001b[0m\u001b[0;34m,\u001b[0m \u001b[0margs\u001b[0m\u001b[0;34m)\u001b[0m\u001b[0;34m,\u001b[0m \u001b[0;34m**\u001b[0m\u001b[0mkwargs\u001b[0m\u001b[0;34m)\u001b[0m\u001b[0;34m\u001b[0m\u001b[0;34m\u001b[0m\u001b[0m\n\u001b[0m\u001b[1;32m   1443\u001b[0m \u001b[0;34m\u001b[0m\u001b[0m\n\u001b[1;32m   1444\u001b[0m         \u001b[0mbound\u001b[0m \u001b[0;34m=\u001b[0m \u001b[0mnew_sig\u001b[0m\u001b[0;34m.\u001b[0m\u001b[0mbind\u001b[0m\u001b[0;34m(\u001b[0m\u001b[0max\u001b[0m\u001b[0;34m,\u001b[0m \u001b[0;34m*\u001b[0m\u001b[0margs\u001b[0m\u001b[0;34m,\u001b[0m \u001b[0;34m**\u001b[0m\u001b[0mkwargs\u001b[0m\u001b[0;34m)\u001b[0m\u001b[0;34m\u001b[0m\u001b[0;34m\u001b[0m\u001b[0m\n",
            "\u001b[0;32m/usr/local/lib/python3.10/dist-packages/matplotlib/axes/_axes.py\u001b[0m in \u001b[0;36mpcolormesh\u001b[0;34m(self, alpha, norm, cmap, vmin, vmax, shading, antialiased, *args, **kwargs)\u001b[0m\n\u001b[1;32m   6218\u001b[0m         \u001b[0mkwargs\u001b[0m\u001b[0;34m.\u001b[0m\u001b[0msetdefault\u001b[0m\u001b[0;34m(\u001b[0m\u001b[0;34m'edgecolors'\u001b[0m\u001b[0;34m,\u001b[0m \u001b[0;34m'none'\u001b[0m\u001b[0;34m)\u001b[0m\u001b[0;34m\u001b[0m\u001b[0;34m\u001b[0m\u001b[0m\n\u001b[1;32m   6219\u001b[0m \u001b[0;34m\u001b[0m\u001b[0m\n\u001b[0;32m-> 6220\u001b[0;31m         X, Y, C, shading = self._pcolorargs('pcolormesh', *args,\n\u001b[0m\u001b[1;32m   6221\u001b[0m                                             shading=shading, kwargs=kwargs)\n\u001b[1;32m   6222\u001b[0m         \u001b[0mcoords\u001b[0m \u001b[0;34m=\u001b[0m \u001b[0mnp\u001b[0m\u001b[0;34m.\u001b[0m\u001b[0mstack\u001b[0m\u001b[0;34m(\u001b[0m\u001b[0;34m[\u001b[0m\u001b[0mX\u001b[0m\u001b[0;34m,\u001b[0m \u001b[0mY\u001b[0m\u001b[0;34m]\u001b[0m\u001b[0;34m,\u001b[0m \u001b[0maxis\u001b[0m\u001b[0;34m=\u001b[0m\u001b[0;34m-\u001b[0m\u001b[0;36m1\u001b[0m\u001b[0;34m)\u001b[0m\u001b[0;34m\u001b[0m\u001b[0;34m\u001b[0m\u001b[0m\n",
            "\u001b[0;32m/usr/local/lib/python3.10/dist-packages/matplotlib/axes/_axes.py\u001b[0m in \u001b[0;36m_pcolorargs\u001b[0;34m(self, funcname, shading, *args, **kwargs)\u001b[0m\n\u001b[1;32m   5749\u001b[0m         \u001b[0;32mif\u001b[0m \u001b[0mshading\u001b[0m \u001b[0;34m==\u001b[0m \u001b[0;34m'flat'\u001b[0m\u001b[0;34m:\u001b[0m\u001b[0;34m\u001b[0m\u001b[0;34m\u001b[0m\u001b[0m\n\u001b[1;32m   5750\u001b[0m             \u001b[0;32mif\u001b[0m \u001b[0;34m(\u001b[0m\u001b[0mNx\u001b[0m\u001b[0;34m,\u001b[0m \u001b[0mNy\u001b[0m\u001b[0;34m)\u001b[0m \u001b[0;34m!=\u001b[0m \u001b[0;34m(\u001b[0m\u001b[0mncols\u001b[0m \u001b[0;34m+\u001b[0m \u001b[0;36m1\u001b[0m\u001b[0;34m,\u001b[0m \u001b[0mnrows\u001b[0m \u001b[0;34m+\u001b[0m \u001b[0;36m1\u001b[0m\u001b[0;34m)\u001b[0m\u001b[0;34m:\u001b[0m\u001b[0;34m\u001b[0m\u001b[0;34m\u001b[0m\u001b[0m\n\u001b[0;32m-> 5751\u001b[0;31m                 raise TypeError(f\"Dimensions of C {C.shape} should\"\n\u001b[0m\u001b[1;32m   5752\u001b[0m                                 \u001b[0;34mf\" be one smaller than X({Nx}) and Y({Ny})\"\u001b[0m\u001b[0;34m\u001b[0m\u001b[0;34m\u001b[0m\u001b[0m\n\u001b[1;32m   5753\u001b[0m                                 \u001b[0;34mf\" while using shading='flat'\"\u001b[0m\u001b[0;34m\u001b[0m\u001b[0;34m\u001b[0m\u001b[0m\n",
            "\u001b[0;31mTypeError\u001b[0m: Dimensions of C (41, 151) should be one smaller than X(151) and Y(41) while using shading='flat' see help(pcolormesh)"
          ]
        }
      ]
    },
    {
      "cell_type": "code",
      "metadata": {
        "colab": {
          "base_uri": "https://localhost:8080/"
        },
        "id": "ylznmBEbKoyO",
        "outputId": "6690ebfe-a459-4515-ac31-8fe80bc71bef"
      },
      "source": [
        "!pip install -e ."
      ],
      "execution_count": 5,
      "outputs": [
        {
          "output_type": "stream",
          "name": "stdout",
          "text": [
            "Obtaining file:///content/EQTransformer\n",
            "  Preparing metadata (setup.py) ... \u001b[?25l\u001b[?25hdone\n",
            "Requirement already satisfied: pytest==7.1.2 in /usr/local/lib/python3.10/dist-packages (from EQTransformer==0.1.61) (7.1.2)\n",
            "Requirement already satisfied: numpy==1.22.4 in /usr/local/lib/python3.10/dist-packages (from EQTransformer==0.1.61) (1.22.4)\n",
            "Requirement already satisfied: keyring==23.7.0 in /usr/local/lib/python3.10/dist-packages (from EQTransformer==0.1.61) (23.7.0)\n",
            "Requirement already satisfied: pkginfo==1.8.3 in /usr/local/lib/python3.10/dist-packages (from EQTransformer==0.1.61) (1.8.3)\n",
            "Requirement already satisfied: scipy==1.10.0 in /usr/local/lib/python3.10/dist-packages (from EQTransformer==0.1.61) (1.10.0)\n",
            "Requirement already satisfied: tensorflow==2.9.0 in /usr/local/lib/python3.10/dist-packages (from EQTransformer==0.1.61) (2.9.0)\n",
            "Requirement already satisfied: tensorflow-estimator==2.9.0 in /usr/local/lib/python3.10/dist-packages (from EQTransformer==0.1.61) (2.9.0)\n",
            "Requirement already satisfied: keras==2.9.0 in /usr/local/lib/python3.10/dist-packages (from EQTransformer==0.1.61) (2.9.0)\n",
            "Requirement already satisfied: matplotlib in /usr/local/lib/python3.10/dist-packages (from EQTransformer==0.1.61) (3.7.1)\n",
            "Requirement already satisfied: pandas==1.4.3 in /usr/local/lib/python3.10/dist-packages (from EQTransformer==0.1.61) (1.4.3)\n",
            "Requirement already satisfied: tqdm==4.64.0 in /usr/local/lib/python3.10/dist-packages (from EQTransformer==0.1.61) (4.64.0)\n",
            "Requirement already satisfied: h5py==3.6.0 in /usr/local/lib/python3.10/dist-packages (from EQTransformer==0.1.61) (3.6.0)\n",
            "Requirement already satisfied: obspy==1.3.0 in /usr/local/lib/python3.10/dist-packages (from EQTransformer==0.1.61) (1.3.0)\n",
            "Requirement already satisfied: jupyter==1.0.0 in /usr/local/lib/python3.10/dist-packages (from EQTransformer==0.1.61) (1.0.0)\n",
            "Requirement already satisfied: notebook in /usr/local/lib/python3.10/dist-packages (from jupyter==1.0.0->EQTransformer==0.1.61) (6.5.5)\n",
            "Requirement already satisfied: qtconsole in /usr/local/lib/python3.10/dist-packages (from jupyter==1.0.0->EQTransformer==0.1.61) (5.5.1)\n",
            "Requirement already satisfied: jupyter-console in /usr/local/lib/python3.10/dist-packages (from jupyter==1.0.0->EQTransformer==0.1.61) (6.1.0)\n",
            "Requirement already satisfied: nbconvert in /usr/local/lib/python3.10/dist-packages (from jupyter==1.0.0->EQTransformer==0.1.61) (6.5.4)\n",
            "Requirement already satisfied: ipykernel in /usr/local/lib/python3.10/dist-packages (from jupyter==1.0.0->EQTransformer==0.1.61) (5.5.6)\n",
            "Requirement already satisfied: ipywidgets in /usr/local/lib/python3.10/dist-packages (from jupyter==1.0.0->EQTransformer==0.1.61) (7.7.1)\n",
            "Requirement already satisfied: SecretStorage>=3.2 in /usr/lib/python3/dist-packages (from keyring==23.7.0->EQTransformer==0.1.61) (3.3.1)\n",
            "Requirement already satisfied: jeepney>=0.4.2 in /usr/lib/python3/dist-packages (from keyring==23.7.0->EQTransformer==0.1.61) (0.7.1)\n",
            "Requirement already satisfied: lxml in /usr/local/lib/python3.10/dist-packages (from obspy==1.3.0->EQTransformer==0.1.61) (4.9.4)\n",
            "Requirement already satisfied: setuptools in /usr/local/lib/python3.10/dist-packages (from obspy==1.3.0->EQTransformer==0.1.61) (67.7.2)\n",
            "Requirement already satisfied: sqlalchemy in /usr/local/lib/python3.10/dist-packages (from obspy==1.3.0->EQTransformer==0.1.61) (1.4.52)\n",
            "Requirement already satisfied: decorator in /usr/local/lib/python3.10/dist-packages (from obspy==1.3.0->EQTransformer==0.1.61) (4.4.2)\n",
            "Requirement already satisfied: requests in /usr/local/lib/python3.10/dist-packages (from obspy==1.3.0->EQTransformer==0.1.61) (2.31.0)\n",
            "Requirement already satisfied: python-dateutil>=2.8.1 in /usr/local/lib/python3.10/dist-packages (from pandas==1.4.3->EQTransformer==0.1.61) (2.8.2)\n",
            "Requirement already satisfied: pytz>=2020.1 in /usr/local/lib/python3.10/dist-packages (from pandas==1.4.3->EQTransformer==0.1.61) (2023.4)\n",
            "Requirement already satisfied: attrs>=19.2.0 in /usr/local/lib/python3.10/dist-packages (from pytest==7.1.2->EQTransformer==0.1.61) (23.2.0)\n",
            "Requirement already satisfied: iniconfig in /usr/local/lib/python3.10/dist-packages (from pytest==7.1.2->EQTransformer==0.1.61) (2.0.0)\n",
            "Requirement already satisfied: packaging in /usr/local/lib/python3.10/dist-packages (from pytest==7.1.2->EQTransformer==0.1.61) (24.0)\n",
            "Requirement already satisfied: pluggy<2.0,>=0.12 in /usr/local/lib/python3.10/dist-packages (from pytest==7.1.2->EQTransformer==0.1.61) (1.5.0)\n",
            "Requirement already satisfied: py>=1.8.2 in /usr/local/lib/python3.10/dist-packages (from pytest==7.1.2->EQTransformer==0.1.61) (1.11.0)\n",
            "Requirement already satisfied: tomli>=1.0.0 in /usr/local/lib/python3.10/dist-packages (from pytest==7.1.2->EQTransformer==0.1.61) (2.0.1)\n",
            "Requirement already satisfied: absl-py>=1.0.0 in /usr/local/lib/python3.10/dist-packages (from tensorflow==2.9.0->EQTransformer==0.1.61) (1.4.0)\n",
            "Requirement already satisfied: astunparse>=1.6.0 in /usr/local/lib/python3.10/dist-packages (from tensorflow==2.9.0->EQTransformer==0.1.61) (1.6.3)\n",
            "Requirement already satisfied: flatbuffers<2,>=1.12 in /usr/local/lib/python3.10/dist-packages (from tensorflow==2.9.0->EQTransformer==0.1.61) (1.12)\n",
            "Requirement already satisfied: gast<=0.4.0,>=0.2.1 in /usr/local/lib/python3.10/dist-packages (from tensorflow==2.9.0->EQTransformer==0.1.61) (0.4.0)\n",
            "Requirement already satisfied: google-pasta>=0.1.1 in /usr/local/lib/python3.10/dist-packages (from tensorflow==2.9.0->EQTransformer==0.1.61) (0.2.0)\n",
            "Requirement already satisfied: grpcio<2.0,>=1.24.3 in /usr/local/lib/python3.10/dist-packages (from tensorflow==2.9.0->EQTransformer==0.1.61) (1.63.0)\n",
            "Requirement already satisfied: keras-preprocessing>=1.1.1 in /usr/local/lib/python3.10/dist-packages (from tensorflow==2.9.0->EQTransformer==0.1.61) (1.1.2)\n",
            "Requirement already satisfied: libclang>=13.0.0 in /usr/local/lib/python3.10/dist-packages (from tensorflow==2.9.0->EQTransformer==0.1.61) (18.1.1)\n",
            "Requirement already satisfied: opt-einsum>=2.3.2 in /usr/local/lib/python3.10/dist-packages (from tensorflow==2.9.0->EQTransformer==0.1.61) (3.3.0)\n",
            "Requirement already satisfied: protobuf>=3.9.2 in /usr/local/lib/python3.10/dist-packages (from tensorflow==2.9.0->EQTransformer==0.1.61) (3.19.6)\n",
            "Requirement already satisfied: six>=1.12.0 in /usr/local/lib/python3.10/dist-packages (from tensorflow==2.9.0->EQTransformer==0.1.61) (1.16.0)\n",
            "Requirement already satisfied: tensorboard<2.10,>=2.9 in /usr/local/lib/python3.10/dist-packages (from tensorflow==2.9.0->EQTransformer==0.1.61) (2.9.1)\n",
            "Requirement already satisfied: tensorflow-io-gcs-filesystem>=0.23.1 in /usr/local/lib/python3.10/dist-packages (from tensorflow==2.9.0->EQTransformer==0.1.61) (0.37.0)\n",
            "Requirement already satisfied: termcolor>=1.1.0 in /usr/local/lib/python3.10/dist-packages (from tensorflow==2.9.0->EQTransformer==0.1.61) (2.4.0)\n",
            "Requirement already satisfied: typing-extensions>=3.6.6 in /usr/local/lib/python3.10/dist-packages (from tensorflow==2.9.0->EQTransformer==0.1.61) (4.11.0)\n",
            "Requirement already satisfied: wrapt>=1.11.0 in /usr/local/lib/python3.10/dist-packages (from tensorflow==2.9.0->EQTransformer==0.1.61) (1.14.1)\n",
            "Requirement already satisfied: contourpy>=1.0.1 in /usr/local/lib/python3.10/dist-packages (from matplotlib->EQTransformer==0.1.61) (1.2.1)\n",
            "Requirement already satisfied: cycler>=0.10 in /usr/local/lib/python3.10/dist-packages (from matplotlib->EQTransformer==0.1.61) (0.12.1)\n",
            "Requirement already satisfied: fonttools>=4.22.0 in /usr/local/lib/python3.10/dist-packages (from matplotlib->EQTransformer==0.1.61) (4.51.0)\n",
            "Requirement already satisfied: kiwisolver>=1.0.1 in /usr/local/lib/python3.10/dist-packages (from matplotlib->EQTransformer==0.1.61) (1.4.5)\n",
            "Requirement already satisfied: pillow>=6.2.0 in /usr/local/lib/python3.10/dist-packages (from matplotlib->EQTransformer==0.1.61) (9.4.0)\n",
            "Requirement already satisfied: pyparsing>=2.3.1 in /usr/local/lib/python3.10/dist-packages (from matplotlib->EQTransformer==0.1.61) (3.1.2)\n",
            "Requirement already satisfied: wheel<1.0,>=0.23.0 in /usr/local/lib/python3.10/dist-packages (from astunparse>=1.6.0->tensorflow==2.9.0->EQTransformer==0.1.61) (0.43.0)\n",
            "Requirement already satisfied: google-auth<3,>=1.6.3 in /usr/local/lib/python3.10/dist-packages (from tensorboard<2.10,>=2.9->tensorflow==2.9.0->EQTransformer==0.1.61) (2.27.0)\n",
            "Requirement already satisfied: google-auth-oauthlib<0.5,>=0.4.1 in /usr/local/lib/python3.10/dist-packages (from tensorboard<2.10,>=2.9->tensorflow==2.9.0->EQTransformer==0.1.61) (0.4.6)\n",
            "Requirement already satisfied: markdown>=2.6.8 in /usr/local/lib/python3.10/dist-packages (from tensorboard<2.10,>=2.9->tensorflow==2.9.0->EQTransformer==0.1.61) (3.6)\n",
            "Requirement already satisfied: tensorboard-data-server<0.7.0,>=0.6.0 in /usr/local/lib/python3.10/dist-packages (from tensorboard<2.10,>=2.9->tensorflow==2.9.0->EQTransformer==0.1.61) (0.6.1)\n",
            "Requirement already satisfied: tensorboard-plugin-wit>=1.6.0 in /usr/local/lib/python3.10/dist-packages (from tensorboard<2.10,>=2.9->tensorflow==2.9.0->EQTransformer==0.1.61) (1.8.1)\n",
            "Requirement already satisfied: werkzeug>=1.0.1 in /usr/local/lib/python3.10/dist-packages (from tensorboard<2.10,>=2.9->tensorflow==2.9.0->EQTransformer==0.1.61) (3.0.2)\n",
            "Requirement already satisfied: charset-normalizer<4,>=2 in /usr/local/lib/python3.10/dist-packages (from requests->obspy==1.3.0->EQTransformer==0.1.61) (3.3.2)\n",
            "Requirement already satisfied: idna<4,>=2.5 in /usr/local/lib/python3.10/dist-packages (from requests->obspy==1.3.0->EQTransformer==0.1.61) (3.7)\n",
            "Requirement already satisfied: urllib3<3,>=1.21.1 in /usr/local/lib/python3.10/dist-packages (from requests->obspy==1.3.0->EQTransformer==0.1.61) (2.0.7)\n",
            "Requirement already satisfied: certifi>=2017.4.17 in /usr/local/lib/python3.10/dist-packages (from requests->obspy==1.3.0->EQTransformer==0.1.61) (2024.2.2)\n",
            "Requirement already satisfied: ipython-genutils in /usr/local/lib/python3.10/dist-packages (from ipykernel->jupyter==1.0.0->EQTransformer==0.1.61) (0.2.0)\n",
            "Requirement already satisfied: ipython>=5.0.0 in /usr/local/lib/python3.10/dist-packages (from ipykernel->jupyter==1.0.0->EQTransformer==0.1.61) (7.34.0)\n",
            "Requirement already satisfied: traitlets>=4.1.0 in /usr/local/lib/python3.10/dist-packages (from ipykernel->jupyter==1.0.0->EQTransformer==0.1.61) (5.7.1)\n",
            "Requirement already satisfied: jupyter-client in /usr/local/lib/python3.10/dist-packages (from ipykernel->jupyter==1.0.0->EQTransformer==0.1.61) (6.1.12)\n",
            "Requirement already satisfied: tornado>=4.2 in /usr/local/lib/python3.10/dist-packages (from ipykernel->jupyter==1.0.0->EQTransformer==0.1.61) (6.3.3)\n",
            "Requirement already satisfied: widgetsnbextension~=3.6.0 in /usr/local/lib/python3.10/dist-packages (from ipywidgets->jupyter==1.0.0->EQTransformer==0.1.61) (3.6.6)\n",
            "Requirement already satisfied: jupyterlab-widgets>=1.0.0 in /usr/local/lib/python3.10/dist-packages (from ipywidgets->jupyter==1.0.0->EQTransformer==0.1.61) (3.0.10)\n",
            "Requirement already satisfied: prompt-toolkit!=3.0.0,!=3.0.1,<3.1.0,>=2.0.0 in /usr/local/lib/python3.10/dist-packages (from jupyter-console->jupyter==1.0.0->EQTransformer==0.1.61) (3.0.43)\n",
            "Requirement already satisfied: pygments in /usr/local/lib/python3.10/dist-packages (from jupyter-console->jupyter==1.0.0->EQTransformer==0.1.61) (2.16.1)\n",
            "Requirement already satisfied: beautifulsoup4 in /usr/local/lib/python3.10/dist-packages (from nbconvert->jupyter==1.0.0->EQTransformer==0.1.61) (4.12.3)\n",
            "Requirement already satisfied: bleach in /usr/local/lib/python3.10/dist-packages (from nbconvert->jupyter==1.0.0->EQTransformer==0.1.61) (6.1.0)\n",
            "Requirement already satisfied: defusedxml in /usr/local/lib/python3.10/dist-packages (from nbconvert->jupyter==1.0.0->EQTransformer==0.1.61) (0.7.1)\n",
            "Requirement already satisfied: entrypoints>=0.2.2 in /usr/local/lib/python3.10/dist-packages (from nbconvert->jupyter==1.0.0->EQTransformer==0.1.61) (0.4)\n",
            "Requirement already satisfied: jinja2>=3.0 in /usr/local/lib/python3.10/dist-packages (from nbconvert->jupyter==1.0.0->EQTransformer==0.1.61) (3.1.3)\n",
            "Requirement already satisfied: jupyter-core>=4.7 in /usr/local/lib/python3.10/dist-packages (from nbconvert->jupyter==1.0.0->EQTransformer==0.1.61) (5.7.2)\n",
            "Requirement already satisfied: jupyterlab-pygments in /usr/local/lib/python3.10/dist-packages (from nbconvert->jupyter==1.0.0->EQTransformer==0.1.61) (0.3.0)\n",
            "Requirement already satisfied: MarkupSafe>=2.0 in /usr/local/lib/python3.10/dist-packages (from nbconvert->jupyter==1.0.0->EQTransformer==0.1.61) (2.1.5)\n",
            "Requirement already satisfied: mistune<2,>=0.8.1 in /usr/local/lib/python3.10/dist-packages (from nbconvert->jupyter==1.0.0->EQTransformer==0.1.61) (0.8.4)\n",
            "Requirement already satisfied: nbclient>=0.5.0 in /usr/local/lib/python3.10/dist-packages (from nbconvert->jupyter==1.0.0->EQTransformer==0.1.61) (0.10.0)\n",
            "Requirement already satisfied: nbformat>=5.1 in /usr/local/lib/python3.10/dist-packages (from nbconvert->jupyter==1.0.0->EQTransformer==0.1.61) (5.10.4)\n",
            "Requirement already satisfied: pandocfilters>=1.4.1 in /usr/local/lib/python3.10/dist-packages (from nbconvert->jupyter==1.0.0->EQTransformer==0.1.61) (1.5.1)\n",
            "Requirement already satisfied: tinycss2 in /usr/local/lib/python3.10/dist-packages (from nbconvert->jupyter==1.0.0->EQTransformer==0.1.61) (1.3.0)\n",
            "Requirement already satisfied: pyzmq<25,>=17 in /usr/local/lib/python3.10/dist-packages (from notebook->jupyter==1.0.0->EQTransformer==0.1.61) (24.0.1)\n",
            "Requirement already satisfied: argon2-cffi in /usr/local/lib/python3.10/dist-packages (from notebook->jupyter==1.0.0->EQTransformer==0.1.61) (23.1.0)\n",
            "Requirement already satisfied: nest-asyncio>=1.5 in /usr/local/lib/python3.10/dist-packages (from notebook->jupyter==1.0.0->EQTransformer==0.1.61) (1.6.0)\n",
            "Requirement already satisfied: Send2Trash>=1.8.0 in /usr/local/lib/python3.10/dist-packages (from notebook->jupyter==1.0.0->EQTransformer==0.1.61) (1.8.3)\n",
            "Requirement already satisfied: terminado>=0.8.3 in /usr/local/lib/python3.10/dist-packages (from notebook->jupyter==1.0.0->EQTransformer==0.1.61) (0.18.1)\n",
            "Requirement already satisfied: prometheus-client in /usr/local/lib/python3.10/dist-packages (from notebook->jupyter==1.0.0->EQTransformer==0.1.61) (0.20.0)\n",
            "Requirement already satisfied: nbclassic>=0.4.7 in /usr/local/lib/python3.10/dist-packages (from notebook->jupyter==1.0.0->EQTransformer==0.1.61) (1.0.0)\n",
            "Requirement already satisfied: qtpy>=2.4.0 in /usr/local/lib/python3.10/dist-packages (from qtconsole->jupyter==1.0.0->EQTransformer==0.1.61) (2.4.1)\n",
            "Requirement already satisfied: greenlet!=0.4.17 in /usr/local/lib/python3.10/dist-packages (from sqlalchemy->obspy==1.3.0->EQTransformer==0.1.61) (3.0.3)\n",
            "Requirement already satisfied: cachetools<6.0,>=2.0.0 in /usr/local/lib/python3.10/dist-packages (from google-auth<3,>=1.6.3->tensorboard<2.10,>=2.9->tensorflow==2.9.0->EQTransformer==0.1.61) (5.3.3)\n",
            "Requirement already satisfied: pyasn1-modules>=0.2.1 in /usr/local/lib/python3.10/dist-packages (from google-auth<3,>=1.6.3->tensorboard<2.10,>=2.9->tensorflow==2.9.0->EQTransformer==0.1.61) (0.4.0)\n",
            "Requirement already satisfied: rsa<5,>=3.1.4 in /usr/local/lib/python3.10/dist-packages (from google-auth<3,>=1.6.3->tensorboard<2.10,>=2.9->tensorflow==2.9.0->EQTransformer==0.1.61) (4.9)\n",
            "Requirement already satisfied: requests-oauthlib>=0.7.0 in /usr/local/lib/python3.10/dist-packages (from google-auth-oauthlib<0.5,>=0.4.1->tensorboard<2.10,>=2.9->tensorflow==2.9.0->EQTransformer==0.1.61) (1.3.1)\n",
            "Requirement already satisfied: jedi>=0.16 in /usr/local/lib/python3.10/dist-packages (from ipython>=5.0.0->ipykernel->jupyter==1.0.0->EQTransformer==0.1.61) (0.19.1)\n",
            "Requirement already satisfied: pickleshare in /usr/local/lib/python3.10/dist-packages (from ipython>=5.0.0->ipykernel->jupyter==1.0.0->EQTransformer==0.1.61) (0.7.5)\n",
            "Requirement already satisfied: backcall in /usr/local/lib/python3.10/dist-packages (from ipython>=5.0.0->ipykernel->jupyter==1.0.0->EQTransformer==0.1.61) (0.2.0)\n",
            "Requirement already satisfied: matplotlib-inline in /usr/local/lib/python3.10/dist-packages (from ipython>=5.0.0->ipykernel->jupyter==1.0.0->EQTransformer==0.1.61) (0.1.7)\n",
            "Requirement already satisfied: pexpect>4.3 in /usr/local/lib/python3.10/dist-packages (from ipython>=5.0.0->ipykernel->jupyter==1.0.0->EQTransformer==0.1.61) (4.9.0)\n",
            "Requirement already satisfied: platformdirs>=2.5 in /usr/local/lib/python3.10/dist-packages (from jupyter-core>=4.7->nbconvert->jupyter==1.0.0->EQTransformer==0.1.61) (4.2.1)\n",
            "Requirement already satisfied: jupyter-server>=1.8 in /usr/local/lib/python3.10/dist-packages (from nbclassic>=0.4.7->notebook->jupyter==1.0.0->EQTransformer==0.1.61) (1.24.0)\n",
            "Requirement already satisfied: notebook-shim>=0.2.3 in /usr/local/lib/python3.10/dist-packages (from nbclassic>=0.4.7->notebook->jupyter==1.0.0->EQTransformer==0.1.61) (0.2.4)\n",
            "Requirement already satisfied: fastjsonschema>=2.15 in /usr/local/lib/python3.10/dist-packages (from nbformat>=5.1->nbconvert->jupyter==1.0.0->EQTransformer==0.1.61) (2.19.1)\n",
            "Requirement already satisfied: jsonschema>=2.6 in /usr/local/lib/python3.10/dist-packages (from nbformat>=5.1->nbconvert->jupyter==1.0.0->EQTransformer==0.1.61) (4.19.2)\n",
            "Requirement already satisfied: wcwidth in /usr/local/lib/python3.10/dist-packages (from prompt-toolkit!=3.0.0,!=3.0.1,<3.1.0,>=2.0.0->jupyter-console->jupyter==1.0.0->EQTransformer==0.1.61) (0.2.13)\n",
            "Requirement already satisfied: ptyprocess in /usr/local/lib/python3.10/dist-packages (from terminado>=0.8.3->notebook->jupyter==1.0.0->EQTransformer==0.1.61) (0.7.0)\n",
            "Requirement already satisfied: argon2-cffi-bindings in /usr/local/lib/python3.10/dist-packages (from argon2-cffi->notebook->jupyter==1.0.0->EQTransformer==0.1.61) (21.2.0)\n",
            "Requirement already satisfied: soupsieve>1.2 in /usr/local/lib/python3.10/dist-packages (from beautifulsoup4->nbconvert->jupyter==1.0.0->EQTransformer==0.1.61) (2.5)\n",
            "Requirement already satisfied: webencodings in /usr/local/lib/python3.10/dist-packages (from bleach->nbconvert->jupyter==1.0.0->EQTransformer==0.1.61) (0.5.1)\n",
            "Requirement already satisfied: parso<0.9.0,>=0.8.3 in /usr/local/lib/python3.10/dist-packages (from jedi>=0.16->ipython>=5.0.0->ipykernel->jupyter==1.0.0->EQTransformer==0.1.61) (0.8.4)\n",
            "Requirement already satisfied: jsonschema-specifications>=2023.03.6 in /usr/local/lib/python3.10/dist-packages (from jsonschema>=2.6->nbformat>=5.1->nbconvert->jupyter==1.0.0->EQTransformer==0.1.61) (2023.12.1)\n",
            "Requirement already satisfied: referencing>=0.28.4 in /usr/local/lib/python3.10/dist-packages (from jsonschema>=2.6->nbformat>=5.1->nbconvert->jupyter==1.0.0->EQTransformer==0.1.61) (0.35.0)\n",
            "Requirement already satisfied: rpds-py>=0.7.1 in /usr/local/lib/python3.10/dist-packages (from jsonschema>=2.6->nbformat>=5.1->nbconvert->jupyter==1.0.0->EQTransformer==0.1.61) (0.18.0)\n",
            "Requirement already satisfied: anyio<4,>=3.1.0 in /usr/local/lib/python3.10/dist-packages (from jupyter-server>=1.8->nbclassic>=0.4.7->notebook->jupyter==1.0.0->EQTransformer==0.1.61) (3.7.1)\n",
            "Requirement already satisfied: websocket-client in /usr/local/lib/python3.10/dist-packages (from jupyter-server>=1.8->nbclassic>=0.4.7->notebook->jupyter==1.0.0->EQTransformer==0.1.61) (1.8.0)\n",
            "Requirement already satisfied: pyasn1<0.7.0,>=0.4.6 in /usr/local/lib/python3.10/dist-packages (from pyasn1-modules>=0.2.1->google-auth<3,>=1.6.3->tensorboard<2.10,>=2.9->tensorflow==2.9.0->EQTransformer==0.1.61) (0.6.0)\n",
            "Requirement already satisfied: oauthlib>=3.0.0 in /usr/local/lib/python3.10/dist-packages (from requests-oauthlib>=0.7.0->google-auth-oauthlib<0.5,>=0.4.1->tensorboard<2.10,>=2.9->tensorflow==2.9.0->EQTransformer==0.1.61) (3.2.2)\n",
            "Requirement already satisfied: cffi>=1.0.1 in /usr/local/lib/python3.10/dist-packages (from argon2-cffi-bindings->argon2-cffi->notebook->jupyter==1.0.0->EQTransformer==0.1.61) (1.16.0)\n",
            "Requirement already satisfied: sniffio>=1.1 in /usr/local/lib/python3.10/dist-packages (from anyio<4,>=3.1.0->jupyter-server>=1.8->nbclassic>=0.4.7->notebook->jupyter==1.0.0->EQTransformer==0.1.61) (1.3.1)\n",
            "Requirement already satisfied: exceptiongroup in /usr/local/lib/python3.10/dist-packages (from anyio<4,>=3.1.0->jupyter-server>=1.8->nbclassic>=0.4.7->notebook->jupyter==1.0.0->EQTransformer==0.1.61) (1.2.1)\n",
            "Requirement already satisfied: pycparser in /usr/local/lib/python3.10/dist-packages (from cffi>=1.0.1->argon2-cffi-bindings->argon2-cffi->notebook->jupyter==1.0.0->EQTransformer==0.1.61) (2.22)\n",
            "Installing collected packages: EQTransformer\n",
            "  Attempting uninstall: EQTransformer\n",
            "    Found existing installation: EQTransformer 0.1.61\n",
            "    Uninstalling EQTransformer-0.1.61:\n",
            "      Successfully uninstalled EQTransformer-0.1.61\n",
            "  Running setup.py develop for EQTransformer\n",
            "Successfully installed EQTransformer\n"
          ]
        }
      ]
    },
    {
      "cell_type": "markdown",
      "metadata": {
        "id": "UjbTpeUpJ0TZ"
      },
      "source": [
        "## Downloading Continuous Data\n",
        "The following will download the information on the stations that are available based on your search criteria:\n",
        "\n"
      ]
    },
    {
      "cell_type": "code",
      "metadata": {
        "colab": {
          "base_uri": "https://localhost:8080/"
        },
        "id": "-ivpA28GLYqF",
        "outputId": "3efbead8-0ec0-4242-f6c3-d7bf2ffad5ae"
      },
      "source": [
        "import os\n",
        "json_basepath = os.path.join(os.getcwd(),\"json/station_list.json\")\n",
        "\n",
        "from EQTransformer.utils.downloader import makeStationList\n",
        "\n",
        "makeStationList(json_path=json_basepath, client_list=[\"SCEDC\"], min_lat=35.50, max_lat=35.60, min_lon=-117.80, max_lon=-117.40, start_time=\"2019-09-01 00:00:00.00\", end_time=\"2019-09-03 00:00:00.00\", channel_list=[\"HH[ZNE]\", \"HH[Z21]\", \"BH[ZNE]\"], filter_network=[\"SY\"], filter_station=[])"
      ],
      "execution_count": 15,
      "outputs": [
        {
          "output_type": "stream",
          "name": "stdout",
          "text": [
            "GS--CA06\n",
            "GS--CA10\n",
            "PB--B921\n",
            "ZY--SV08\n"
          ]
        }
      ]
    },
    {
      "cell_type": "markdown",
      "metadata": {
        "id": "B9KgQV4gXRpn"
      },
      "source": [
        "The above function will generate station_list.json file containing the station information. Next, you can use this file and download 1 day of data for the available stations at Ridgecrest, California from Southern California Earthquake Data Center or IRIS using the following:"
      ]
    },
    {
      "cell_type": "code",
      "metadata": {
        "colab": {
          "base_uri": "https://localhost:8080/"
        },
        "id": "c2qUK1YPNdv8",
        "outputId": "cc37fe4a-ac1d-4648-a12d-b53db819e3d6"
      },
      "source": [
        "from EQTransformer.utils.downloader import downloadMseeds\n",
        "downloadMseeds(client_list=[\"SCEDC\", \"IRIS\"], stations_json=json_basepath, output_dir=\"downloads_mseeds\", min_lat=35.50, max_lat=35.60, min_lon=-117.80, max_lon=-117.40, start_time=\"2019-09-01 00:00:00.00\", end_time=\"2019-09-03 00:00:00.00\", chunk_size=1, channel_list=[], n_processor=2)"
      ],
      "execution_count": 17,
      "outputs": [
        {
          "output_type": "stream",
          "name": "stderr",
          "text": [
            "[2024-05-04 22:51:25,600] - obspy.clients.fdsn.mass_downloader - INFO: Initializing FDSN client(s) for SCEDC, IRIS.\n",
            "[2024-05-04 22:51:25,600] - obspy.clients.fdsn.mass_downloader - INFO: Initializing FDSN client(s) for SCEDC, IRIS.\n"
          ]
        },
        {
          "output_type": "stream",
          "name": "stdout",
          "text": [
            "####### There are 4 stations in the list. #######\n"
          ]
        },
        {
          "output_type": "stream",
          "name": "stderr",
          "text": [
            "[2024-05-04 22:51:25,894] - obspy.clients.fdsn.mass_downloader - INFO: Successfully initialized 2 client(s): SCEDC, IRIS.\n",
            "[2024-05-04 22:51:25,894] - obspy.clients.fdsn.mass_downloader - INFO: Successfully initialized 2 client(s): SCEDC, IRIS.\n",
            "[2024-05-04 22:51:25,904] - obspy.clients.fdsn.mass_downloader - INFO: Total acquired or preexisting stations: 0\n",
            "[2024-05-04 22:51:25,904] - obspy.clients.fdsn.mass_downloader - INFO: Total acquired or preexisting stations: 0\n",
            "[2024-05-04 22:51:25,905] - obspy.clients.fdsn.mass_downloader - INFO: Total acquired or preexisting stations: 0\n",
            "[2024-05-04 22:51:25,905] - obspy.clients.fdsn.mass_downloader - INFO: Total acquired or preexisting stations: 0\n",
            "[2024-05-04 22:51:25,909] - obspy.clients.fdsn.mass_downloader - INFO: Client 'SCEDC' - Requesting unreliable availability.\n",
            "[2024-05-04 22:51:25,909] - obspy.clients.fdsn.mass_downloader - INFO: Client 'SCEDC' - Requesting unreliable availability.\n",
            "[2024-05-04 22:51:25,910] - obspy.clients.fdsn.mass_downloader - INFO: Client 'SCEDC' - Requesting unreliable availability.\n",
            "[2024-05-04 22:51:25,910] - obspy.clients.fdsn.mass_downloader - INFO: Client 'SCEDC' - Requesting unreliable availability.\n"
          ]
        },
        {
          "output_type": "stream",
          "name": "stdout",
          "text": [
            "======= Working on CA06 station.\n",
            "======= Working on CA10 station.\n"
          ]
        },
        {
          "output_type": "stream",
          "name": "stderr",
          "text": [
            "[2024-05-04 22:51:26,268] - obspy.clients.fdsn.mass_downloader - INFO: Client 'SCEDC' - Successfully requested availability (0.35 seconds)\n",
            "[2024-05-04 22:51:26,268] - obspy.clients.fdsn.mass_downloader - INFO: Client 'SCEDC' - Successfully requested availability (0.35 seconds)\n",
            "[2024-05-04 22:51:26,270] - obspy.clients.fdsn.mass_downloader - INFO: Client 'SCEDC' - Successfully requested availability (0.36 seconds)\n",
            "[2024-05-04 22:51:26,270] - obspy.clients.fdsn.mass_downloader - INFO: Client 'SCEDC' - Successfully requested availability (0.36 seconds)\n",
            "[2024-05-04 22:51:26,280] - obspy.clients.fdsn.mass_downloader - INFO: Client 'SCEDC' - Found 0 stations (0 channels).\n",
            "[2024-05-04 22:51:26,287] - obspy.clients.fdsn.mass_downloader - INFO: Client 'SCEDC' - Found 1 stations (3 channels).\n",
            "[2024-05-04 22:51:26,280] - obspy.clients.fdsn.mass_downloader - INFO: Client 'SCEDC' - Found 0 stations (0 channels).\n",
            "[2024-05-04 22:51:26,287] - obspy.clients.fdsn.mass_downloader - INFO: Client 'SCEDC' - Found 1 stations (3 channels).\n",
            "[2024-05-04 22:51:26,291] - obspy.clients.fdsn.mass_downloader - INFO: Client 'SCEDC' - No data available.\n",
            "[2024-05-04 22:51:26,295] - obspy.clients.fdsn.mass_downloader - INFO: Client 'SCEDC' - Will attempt to download data from 1 stations.\n",
            "[2024-05-04 22:51:26,291] - obspy.clients.fdsn.mass_downloader - INFO: Client 'SCEDC' - No data available.\n",
            "[2024-05-04 22:51:26,295] - obspy.clients.fdsn.mass_downloader - INFO: Client 'SCEDC' - Will attempt to download data from 1 stations.\n",
            "[2024-05-04 22:51:26,296] - obspy.clients.fdsn.mass_downloader - INFO: Total acquired or preexisting stations: 0\n",
            "[2024-05-04 22:51:26,296] - obspy.clients.fdsn.mass_downloader - INFO: Total acquired or preexisting stations: 0\n",
            "[2024-05-04 22:51:26,298] - obspy.clients.fdsn.mass_downloader - INFO: Client 'SCEDC' - Status for 3 time intervals/channels before downloading: NEEDS_DOWNLOADING\n",
            "[2024-05-04 22:51:26,298] - obspy.clients.fdsn.mass_downloader - INFO: Client 'SCEDC' - Status for 3 time intervals/channels before downloading: NEEDS_DOWNLOADING\n",
            "[2024-05-04 22:51:26,301] - obspy.clients.fdsn.mass_downloader - INFO: Client 'IRIS' - Requesting reliable availability.\n",
            "[2024-05-04 22:51:26,301] - obspy.clients.fdsn.mass_downloader - INFO: Client 'IRIS' - Requesting reliable availability.\n",
            "[2024-05-04 22:51:26,425] - obspy.clients.fdsn.mass_downloader - INFO: Client 'IRIS' - Successfully requested availability (0.10 seconds)\n",
            "[2024-05-04 22:51:26,425] - obspy.clients.fdsn.mass_downloader - INFO: Client 'IRIS' - Successfully requested availability (0.10 seconds)\n",
            "[2024-05-04 22:51:26,430] - obspy.clients.fdsn.mass_downloader - INFO: Client 'IRIS' - Found 0 stations (0 channels).\n",
            "[2024-05-04 22:51:26,430] - obspy.clients.fdsn.mass_downloader - INFO: Client 'IRIS' - Found 0 stations (0 channels).\n",
            "[2024-05-04 22:51:26,432] - obspy.clients.fdsn.mass_downloader - INFO: Client 'IRIS' - No data available.\n",
            "[2024-05-04 22:51:26,432] - obspy.clients.fdsn.mass_downloader - INFO: Client 'IRIS' - No data available.\n",
            "[2024-05-04 22:51:26,434] - obspy.clients.fdsn.mass_downloader - INFO: ============================== Final report\n",
            "[2024-05-04 22:51:26,434] - obspy.clients.fdsn.mass_downloader - INFO: ============================== Final report\n",
            "[2024-05-04 22:51:26,438] - obspy.clients.fdsn.mass_downloader - INFO: 0 MiniSEED files [0.0 MB] already existed.\n",
            "[2024-05-04 22:51:26,438] - obspy.clients.fdsn.mass_downloader - INFO: 0 MiniSEED files [0.0 MB] already existed.\n",
            "[2024-05-04 22:51:26,442] - obspy.clients.fdsn.mass_downloader - INFO: 0 StationXML files [0.0 MB] already existed.\n",
            "[2024-05-04 22:51:26,442] - obspy.clients.fdsn.mass_downloader - INFO: 0 StationXML files [0.0 MB] already existed.\n",
            "[2024-05-04 22:51:26,444] - obspy.clients.fdsn.mass_downloader - INFO: Client 'SCEDC' - Acquired 0 MiniSEED files [0.0 MB].\n",
            "[2024-05-04 22:51:26,444] - obspy.clients.fdsn.mass_downloader - INFO: Client 'SCEDC' - Acquired 0 MiniSEED files [0.0 MB].\n",
            "[2024-05-04 22:51:26,448] - obspy.clients.fdsn.mass_downloader - INFO: Client 'SCEDC' - Acquired 0 StationXML files [0.0 MB].\n",
            "[2024-05-04 22:51:26,448] - obspy.clients.fdsn.mass_downloader - INFO: Client 'SCEDC' - Acquired 0 StationXML files [0.0 MB].\n",
            "[2024-05-04 22:51:26,453] - obspy.clients.fdsn.mass_downloader - INFO: Client 'IRIS' - Acquired 0 MiniSEED files [0.0 MB].\n",
            "[2024-05-04 22:51:26,453] - obspy.clients.fdsn.mass_downloader - INFO: Client 'IRIS' - Acquired 0 MiniSEED files [0.0 MB].\n",
            "[2024-05-04 22:51:26,458] - obspy.clients.fdsn.mass_downloader - INFO: Client 'IRIS' - Acquired 0 StationXML files [0.0 MB].\n",
            "[2024-05-04 22:51:26,458] - obspy.clients.fdsn.mass_downloader - INFO: Client 'IRIS' - Acquired 0 StationXML files [0.0 MB].\n",
            "[2024-05-04 22:51:26,463] - obspy.clients.fdsn.mass_downloader - INFO: Downloaded 0.0 MB in total.\n",
            "[2024-05-04 22:51:26,463] - obspy.clients.fdsn.mass_downloader - INFO: Downloaded 0.0 MB in total.\n"
          ]
        },
        {
          "output_type": "stream",
          "name": "stdout",
          "text": [
            "** done with --> CA10 -- GS -- 2019-09-01\n"
          ]
        },
        {
          "output_type": "stream",
          "name": "stderr",
          "text": [
            "[2024-05-04 22:51:30,480] - obspy.clients.fdsn.mass_downloader - INFO: Client 'SCEDC' - Successfully downloaded 1 channels (of 1)\n",
            "[2024-05-04 22:51:30,480] - obspy.clients.fdsn.mass_downloader - INFO: Client 'SCEDC' - Successfully downloaded 1 channels (of 1)\n",
            "[2024-05-04 22:51:30,580] - obspy.clients.fdsn.mass_downloader - INFO: Client 'SCEDC' - Successfully downloaded 1 channels (of 1)\n",
            "[2024-05-04 22:51:30,580] - obspy.clients.fdsn.mass_downloader - INFO: Client 'SCEDC' - Successfully downloaded 1 channels (of 1)\n",
            "[2024-05-04 22:51:30,602] - obspy.clients.fdsn.mass_downloader - INFO: Client 'SCEDC' - Successfully downloaded 1 channels (of 1)\n",
            "[2024-05-04 22:51:30,602] - obspy.clients.fdsn.mass_downloader - INFO: Client 'SCEDC' - Successfully downloaded 1 channels (of 1)\n",
            "[2024-05-04 22:51:30,608] - obspy.clients.fdsn.mass_downloader - INFO: Client 'SCEDC' - Launching basic QC checks...\n",
            "[2024-05-04 22:51:30,608] - obspy.clients.fdsn.mass_downloader - INFO: Client 'SCEDC' - Launching basic QC checks...\n",
            "[2024-05-04 22:51:30,671] - obspy.clients.fdsn.mass_downloader - INFO: Client 'SCEDC' - Downloaded 28.2 MB [6738.67 KB/sec] of data, 0.0 MB of which were discarded afterwards.\n",
            "[2024-05-04 22:51:30,671] - obspy.clients.fdsn.mass_downloader - INFO: Client 'SCEDC' - Downloaded 28.2 MB [6738.67 KB/sec] of data, 0.0 MB of which were discarded afterwards.\n",
            "[2024-05-04 22:51:30,675] - obspy.clients.fdsn.mass_downloader - INFO: Client 'SCEDC' - Status for 3 time intervals/channels after downloading: DOWNLOADED\n",
            "[2024-05-04 22:51:30,675] - obspy.clients.fdsn.mass_downloader - INFO: Client 'SCEDC' - Status for 3 time intervals/channels after downloading: DOWNLOADED\n",
            "[2024-05-04 22:51:34,636] - obspy.clients.fdsn.mass_downloader - INFO: Client 'SCEDC' - Successfully downloaded 'downloads_mseedsxml/CA06/GS.CA06.xml'.\n",
            "[2024-05-04 22:51:34,636] - obspy.clients.fdsn.mass_downloader - INFO: Client 'SCEDC' - Successfully downloaded 'downloads_mseedsxml/CA06/GS.CA06.xml'.\n",
            "[2024-05-04 22:51:34,650] - obspy.clients.fdsn.mass_downloader - INFO: Client 'SCEDC' - Downloaded 1 station files [0.1 MB] in 4.0 seconds [17.57 KB/sec].\n",
            "[2024-05-04 22:51:34,650] - obspy.clients.fdsn.mass_downloader - INFO: Client 'SCEDC' - Downloaded 1 station files [0.1 MB] in 4.0 seconds [17.57 KB/sec].\n",
            "[2024-05-04 22:51:34,664] - obspy.clients.fdsn.mass_downloader - INFO: Total acquired or preexisting stations: 1\n",
            "[2024-05-04 22:51:34,664] - obspy.clients.fdsn.mass_downloader - INFO: Total acquired or preexisting stations: 1\n",
            "[2024-05-04 22:51:34,667] - obspy.clients.fdsn.mass_downloader - INFO: Client 'IRIS' - Requesting reliable availability.\n",
            "[2024-05-04 22:51:34,667] - obspy.clients.fdsn.mass_downloader - INFO: Client 'IRIS' - Requesting reliable availability.\n",
            "[2024-05-04 22:51:34,816] - obspy.clients.fdsn.mass_downloader - INFO: Client 'IRIS' - Successfully requested availability (0.14 seconds)\n",
            "[2024-05-04 22:51:34,816] - obspy.clients.fdsn.mass_downloader - INFO: Client 'IRIS' - Successfully requested availability (0.14 seconds)\n",
            "[2024-05-04 22:51:34,821] - obspy.clients.fdsn.mass_downloader - INFO: Client 'IRIS' - Found 1 stations (3 channels).\n",
            "[2024-05-04 22:51:34,821] - obspy.clients.fdsn.mass_downloader - INFO: Client 'IRIS' - Found 1 stations (3 channels).\n",
            "[2024-05-04 22:51:34,824] - obspy.clients.fdsn.mass_downloader - INFO: Client 'IRIS' - No new data available after discarding already downloaded data.\n",
            "[2024-05-04 22:51:34,824] - obspy.clients.fdsn.mass_downloader - INFO: Client 'IRIS' - No new data available after discarding already downloaded data.\n",
            "[2024-05-04 22:51:34,828] - obspy.clients.fdsn.mass_downloader - INFO: ============================== Final report\n",
            "[2024-05-04 22:51:34,828] - obspy.clients.fdsn.mass_downloader - INFO: ============================== Final report\n",
            "[2024-05-04 22:51:34,832] - obspy.clients.fdsn.mass_downloader - INFO: 0 MiniSEED files [0.0 MB] already existed.\n",
            "[2024-05-04 22:51:34,832] - obspy.clients.fdsn.mass_downloader - INFO: 0 MiniSEED files [0.0 MB] already existed.\n",
            "[2024-05-04 22:51:34,834] - obspy.clients.fdsn.mass_downloader - INFO: 0 StationXML files [0.0 MB] already existed.\n",
            "[2024-05-04 22:51:34,834] - obspy.clients.fdsn.mass_downloader - INFO: 0 StationXML files [0.0 MB] already existed.\n",
            "[2024-05-04 22:51:34,837] - obspy.clients.fdsn.mass_downloader - INFO: Client 'SCEDC' - Acquired 3 MiniSEED files [28.2 MB].\n",
            "[2024-05-04 22:51:34,837] - obspy.clients.fdsn.mass_downloader - INFO: Client 'SCEDC' - Acquired 3 MiniSEED files [28.2 MB].\n",
            "[2024-05-04 22:51:34,839] - obspy.clients.fdsn.mass_downloader - INFO: Client 'SCEDC' - Acquired 1 StationXML files [0.1 MB].\n",
            "[2024-05-04 22:51:34,839] - obspy.clients.fdsn.mass_downloader - INFO: Client 'SCEDC' - Acquired 1 StationXML files [0.1 MB].\n",
            "[2024-05-04 22:51:34,844] - obspy.clients.fdsn.mass_downloader - INFO: Client 'IRIS' - Acquired 0 MiniSEED files [0.0 MB].\n",
            "[2024-05-04 22:51:34,844] - obspy.clients.fdsn.mass_downloader - INFO: Client 'IRIS' - Acquired 0 MiniSEED files [0.0 MB].\n",
            "[2024-05-04 22:51:34,846] - obspy.clients.fdsn.mass_downloader - INFO: Client 'IRIS' - Acquired 0 StationXML files [0.0 MB].\n",
            "[2024-05-04 22:51:34,846] - obspy.clients.fdsn.mass_downloader - INFO: Client 'IRIS' - Acquired 0 StationXML files [0.0 MB].\n",
            "[2024-05-04 22:51:34,848] - obspy.clients.fdsn.mass_downloader - INFO: Downloaded 28.2 MB in total.\n",
            "[2024-05-04 22:51:34,848] - obspy.clients.fdsn.mass_downloader - INFO: Downloaded 28.2 MB in total.\n"
          ]
        },
        {
          "output_type": "stream",
          "name": "stdout",
          "text": [
            "** done with --> CA06 -- GS -- 2019-09-01\n"
          ]
        },
        {
          "output_type": "stream",
          "name": "stderr",
          "text": [
            "[2024-05-04 22:51:55,501] - obspy.clients.fdsn.mass_downloader - INFO: Total acquired or preexisting stations: 0\n",
            "[2024-05-04 22:51:55,501] - obspy.clients.fdsn.mass_downloader - INFO: Total acquired or preexisting stations: 0\n",
            "[2024-05-04 22:51:55,506] - obspy.clients.fdsn.mass_downloader - INFO: Client 'SCEDC' - Requesting unreliable availability.\n",
            "[2024-05-04 22:51:55,506] - obspy.clients.fdsn.mass_downloader - INFO: Client 'SCEDC' - Requesting unreliable availability.\n",
            "[2024-05-04 22:51:55,836] - obspy.clients.fdsn.mass_downloader - INFO: Client 'SCEDC' - Successfully requested availability (0.33 seconds)\n",
            "[2024-05-04 22:51:55,836] - obspy.clients.fdsn.mass_downloader - INFO: Client 'SCEDC' - Successfully requested availability (0.33 seconds)\n",
            "[2024-05-04 22:51:55,843] - obspy.clients.fdsn.mass_downloader - INFO: Client 'SCEDC' - Found 0 stations (0 channels).\n",
            "[2024-05-04 22:51:55,843] - obspy.clients.fdsn.mass_downloader - INFO: Client 'SCEDC' - Found 0 stations (0 channels).\n",
            "[2024-05-04 22:51:55,853] - obspy.clients.fdsn.mass_downloader - INFO: Client 'SCEDC' - No data available.\n",
            "[2024-05-04 22:51:55,853] - obspy.clients.fdsn.mass_downloader - INFO: Client 'SCEDC' - No data available.\n",
            "[2024-05-04 22:51:55,857] - obspy.clients.fdsn.mass_downloader - INFO: Total acquired or preexisting stations: 0\n",
            "[2024-05-04 22:51:55,857] - obspy.clients.fdsn.mass_downloader - INFO: Total acquired or preexisting stations: 0\n",
            "[2024-05-04 22:51:55,859] - obspy.clients.fdsn.mass_downloader - INFO: Client 'IRIS' - Requesting reliable availability.\n",
            "[2024-05-04 22:51:55,859] - obspy.clients.fdsn.mass_downloader - INFO: Client 'IRIS' - Requesting reliable availability.\n",
            "[2024-05-04 22:51:56,116] - obspy.clients.fdsn.mass_downloader - INFO: Client 'IRIS' - Successfully requested availability (0.25 seconds)\n",
            "[2024-05-04 22:51:56,116] - obspy.clients.fdsn.mass_downloader - INFO: Client 'IRIS' - Successfully requested availability (0.25 seconds)\n",
            "[2024-05-04 22:51:56,120] - obspy.clients.fdsn.mass_downloader - INFO: Client 'IRIS' - Found 0 stations (0 channels).\n",
            "[2024-05-04 22:51:56,120] - obspy.clients.fdsn.mass_downloader - INFO: Client 'IRIS' - Found 0 stations (0 channels).\n",
            "[2024-05-04 22:51:56,125] - obspy.clients.fdsn.mass_downloader - INFO: Client 'IRIS' - No data available.\n",
            "[2024-05-04 22:51:56,125] - obspy.clients.fdsn.mass_downloader - INFO: Client 'IRIS' - No data available.\n",
            "[2024-05-04 22:51:56,128] - obspy.clients.fdsn.mass_downloader - INFO: ============================== Final report\n",
            "[2024-05-04 22:51:56,128] - obspy.clients.fdsn.mass_downloader - INFO: ============================== Final report\n",
            "[2024-05-04 22:51:56,131] - obspy.clients.fdsn.mass_downloader - INFO: 0 MiniSEED files [0.0 MB] already existed.\n",
            "[2024-05-04 22:51:56,131] - obspy.clients.fdsn.mass_downloader - INFO: 0 MiniSEED files [0.0 MB] already existed.\n",
            "[2024-05-04 22:51:56,135] - obspy.clients.fdsn.mass_downloader - INFO: 0 StationXML files [0.0 MB] already existed.\n",
            "[2024-05-04 22:51:56,135] - obspy.clients.fdsn.mass_downloader - INFO: 0 StationXML files [0.0 MB] already existed.\n",
            "[2024-05-04 22:51:56,138] - obspy.clients.fdsn.mass_downloader - INFO: Client 'SCEDC' - Acquired 0 MiniSEED files [0.0 MB].\n",
            "[2024-05-04 22:51:56,138] - obspy.clients.fdsn.mass_downloader - INFO: Client 'SCEDC' - Acquired 0 MiniSEED files [0.0 MB].\n",
            "[2024-05-04 22:51:56,141] - obspy.clients.fdsn.mass_downloader - INFO: Client 'SCEDC' - Acquired 0 StationXML files [0.0 MB].\n",
            "[2024-05-04 22:51:56,141] - obspy.clients.fdsn.mass_downloader - INFO: Client 'SCEDC' - Acquired 0 StationXML files [0.0 MB].\n",
            "[2024-05-04 22:51:56,146] - obspy.clients.fdsn.mass_downloader - INFO: Client 'IRIS' - Acquired 0 MiniSEED files [0.0 MB].\n",
            "[2024-05-04 22:51:56,146] - obspy.clients.fdsn.mass_downloader - INFO: Client 'IRIS' - Acquired 0 MiniSEED files [0.0 MB].\n",
            "[2024-05-04 22:51:56,150] - obspy.clients.fdsn.mass_downloader - INFO: Client 'IRIS' - Acquired 0 StationXML files [0.0 MB].\n",
            "[2024-05-04 22:51:56,150] - obspy.clients.fdsn.mass_downloader - INFO: Client 'IRIS' - Acquired 0 StationXML files [0.0 MB].\n",
            "[2024-05-04 22:51:56,152] - obspy.clients.fdsn.mass_downloader - INFO: Downloaded 0.0 MB in total.\n",
            "[2024-05-04 22:51:56,152] - obspy.clients.fdsn.mass_downloader - INFO: Downloaded 0.0 MB in total.\n"
          ]
        },
        {
          "output_type": "stream",
          "name": "stdout",
          "text": [
            "** done with --> CA10 -- GS -- 2019-09-02\n"
          ]
        },
        {
          "output_type": "stream",
          "name": "stderr",
          "text": [
            "[2024-05-04 22:52:02,877] - obspy.clients.fdsn.mass_downloader - INFO: Total acquired or preexisting stations: 0\n",
            "[2024-05-04 22:52:02,877] - obspy.clients.fdsn.mass_downloader - INFO: Total acquired or preexisting stations: 0\n",
            "[2024-05-04 22:52:02,880] - obspy.clients.fdsn.mass_downloader - INFO: Client 'SCEDC' - Requesting unreliable availability.\n",
            "[2024-05-04 22:52:02,880] - obspy.clients.fdsn.mass_downloader - INFO: Client 'SCEDC' - Requesting unreliable availability.\n",
            "[2024-05-04 22:52:03,137] - obspy.clients.fdsn.mass_downloader - INFO: Client 'SCEDC' - Successfully requested availability (0.25 seconds)\n",
            "[2024-05-04 22:52:03,137] - obspy.clients.fdsn.mass_downloader - INFO: Client 'SCEDC' - Successfully requested availability (0.25 seconds)\n",
            "[2024-05-04 22:52:03,142] - obspy.clients.fdsn.mass_downloader - INFO: Client 'SCEDC' - Found 1 stations (3 channels).\n",
            "[2024-05-04 22:52:03,142] - obspy.clients.fdsn.mass_downloader - INFO: Client 'SCEDC' - Found 1 stations (3 channels).\n",
            "[2024-05-04 22:52:03,147] - obspy.clients.fdsn.mass_downloader - INFO: Client 'SCEDC' - Will attempt to download data from 1 stations.\n",
            "[2024-05-04 22:52:03,147] - obspy.clients.fdsn.mass_downloader - INFO: Client 'SCEDC' - Will attempt to download data from 1 stations.\n",
            "[2024-05-04 22:52:03,152] - obspy.clients.fdsn.mass_downloader - INFO: Client 'SCEDC' - Status for 3 time intervals/channels before downloading: NEEDS_DOWNLOADING\n",
            "[2024-05-04 22:52:03,152] - obspy.clients.fdsn.mass_downloader - INFO: Client 'SCEDC' - Status for 3 time intervals/channels before downloading: NEEDS_DOWNLOADING\n",
            "[2024-05-04 22:52:03,364] - obspy.clients.fdsn.mass_downloader - ERROR: Client 'SCEDC' - Service responds: Internal server error\n",
            "HTTP Status code: 500\n",
            "Detailed response of server:\n",
            "\n",
            "\n",
            "[2024-05-04 22:52:03,364] - obspy.clients.fdsn.mass_downloader - ERROR: Client 'SCEDC' - Service responds: Internal server error\n",
            "HTTP Status code: 500\n",
            "Detailed response of server:\n",
            "\n",
            "\n",
            "[2024-05-04 22:52:03,366] - obspy.clients.fdsn.mass_downloader - ERROR: Client 'SCEDC' - Service responds: Internal server error\n",
            "HTTP Status code: 500\n",
            "Detailed response of server:\n",
            "\n",
            "\n",
            "[2024-05-04 22:52:03,366] - obspy.clients.fdsn.mass_downloader - ERROR: Client 'SCEDC' - Service responds: Internal server error\n",
            "HTTP Status code: 500\n",
            "Detailed response of server:\n",
            "\n",
            "\n",
            "[2024-05-04 22:52:05,248] - obspy.clients.fdsn.mass_downloader - INFO: Client 'SCEDC' - Successfully downloaded 1 channels (of 1)\n",
            "[2024-05-04 22:52:05,248] - obspy.clients.fdsn.mass_downloader - INFO: Client 'SCEDC' - Successfully downloaded 1 channels (of 1)\n",
            "[2024-05-04 22:52:05,254] - obspy.clients.fdsn.mass_downloader - INFO: Client 'SCEDC' - Launching basic QC checks...\n",
            "[2024-05-04 22:52:05,254] - obspy.clients.fdsn.mass_downloader - INFO: Client 'SCEDC' - Launching basic QC checks...\n",
            "[2024-05-04 22:52:05,277] - obspy.clients.fdsn.mass_downloader - INFO: Client 'SCEDC' - Downloaded 9.5 MB [4662.38 KB/sec] of data, 0.0 MB of which were discarded afterwards.\n",
            "[2024-05-04 22:52:05,277] - obspy.clients.fdsn.mass_downloader - INFO: Client 'SCEDC' - Downloaded 9.5 MB [4662.38 KB/sec] of data, 0.0 MB of which were discarded afterwards.\n",
            "[2024-05-04 22:52:05,283] - obspy.clients.fdsn.mass_downloader - INFO: Client 'SCEDC' - Status for 2 time intervals/channels after downloading: DOWNLOAD_FAILED\n",
            "[2024-05-04 22:52:05,283] - obspy.clients.fdsn.mass_downloader - INFO: Client 'SCEDC' - Status for 2 time intervals/channels after downloading: DOWNLOAD_FAILED\n",
            "[2024-05-04 22:52:05,289] - obspy.clients.fdsn.mass_downloader - INFO: Client 'SCEDC' - Status for 1 time intervals/channels after downloading: DOWNLOADED\n",
            "[2024-05-04 22:52:05,289] - obspy.clients.fdsn.mass_downloader - INFO: Client 'SCEDC' - Status for 1 time intervals/channels after downloading: DOWNLOADED\n",
            "[2024-05-04 22:52:05,296] - obspy.clients.fdsn.mass_downloader - INFO: Client 'SCEDC' - No station information to download.\n",
            "[2024-05-04 22:52:05,296] - obspy.clients.fdsn.mass_downloader - INFO: Client 'SCEDC' - No station information to download.\n",
            "[2024-05-04 22:52:05,303] - obspy.clients.fdsn.mass_downloader - INFO: Total acquired or preexisting stations: 1\n",
            "[2024-05-04 22:52:05,303] - obspy.clients.fdsn.mass_downloader - INFO: Total acquired or preexisting stations: 1\n",
            "[2024-05-04 22:52:05,306] - obspy.clients.fdsn.mass_downloader - INFO: Client 'IRIS' - Requesting reliable availability.\n",
            "[2024-05-04 22:52:05,306] - obspy.clients.fdsn.mass_downloader - INFO: Client 'IRIS' - Requesting reliable availability.\n",
            "[2024-05-04 22:52:05,464] - obspy.clients.fdsn.mass_downloader - INFO: Client 'IRIS' - Successfully requested availability (0.15 seconds)\n",
            "[2024-05-04 22:52:05,464] - obspy.clients.fdsn.mass_downloader - INFO: Client 'IRIS' - Successfully requested availability (0.15 seconds)\n",
            "[2024-05-04 22:52:05,473] - obspy.clients.fdsn.mass_downloader - INFO: Client 'IRIS' - Found 1 stations (3 channels).\n",
            "[2024-05-04 22:52:05,473] - obspy.clients.fdsn.mass_downloader - INFO: Client 'IRIS' - Found 1 stations (3 channels).\n",
            "[2024-05-04 22:52:05,481] - obspy.clients.fdsn.mass_downloader - INFO: Client 'IRIS' - No new data available after discarding already downloaded data.\n",
            "[2024-05-04 22:52:05,481] - obspy.clients.fdsn.mass_downloader - INFO: Client 'IRIS' - No new data available after discarding already downloaded data.\n",
            "[2024-05-04 22:52:05,487] - obspy.clients.fdsn.mass_downloader - INFO: ============================== Final report\n",
            "[2024-05-04 22:52:05,487] - obspy.clients.fdsn.mass_downloader - INFO: ============================== Final report\n",
            "[2024-05-04 22:52:05,496] - obspy.clients.fdsn.mass_downloader - INFO: 0 MiniSEED files [0.0 MB] already existed.\n",
            "[2024-05-04 22:52:05,496] - obspy.clients.fdsn.mass_downloader - INFO: 0 MiniSEED files [0.0 MB] already existed.\n",
            "[2024-05-04 22:52:05,502] - obspy.clients.fdsn.mass_downloader - INFO: 1 StationXML files [0.1 MB] already existed.\n",
            "[2024-05-04 22:52:05,502] - obspy.clients.fdsn.mass_downloader - INFO: 1 StationXML files [0.1 MB] already existed.\n",
            "[2024-05-04 22:52:05,504] - obspy.clients.fdsn.mass_downloader - INFO: Client 'SCEDC' - Acquired 1 MiniSEED files [9.5 MB].\n",
            "[2024-05-04 22:52:05,504] - obspy.clients.fdsn.mass_downloader - INFO: Client 'SCEDC' - Acquired 1 MiniSEED files [9.5 MB].\n",
            "[2024-05-04 22:52:05,511] - obspy.clients.fdsn.mass_downloader - INFO: Client 'SCEDC' - Acquired 0 StationXML files [0.0 MB].\n",
            "[2024-05-04 22:52:05,511] - obspy.clients.fdsn.mass_downloader - INFO: Client 'SCEDC' - Acquired 0 StationXML files [0.0 MB].\n",
            "[2024-05-04 22:52:05,513] - obspy.clients.fdsn.mass_downloader - INFO: Client 'IRIS' - Acquired 0 MiniSEED files [0.0 MB].\n",
            "[2024-05-04 22:52:05,513] - obspy.clients.fdsn.mass_downloader - INFO: Client 'IRIS' - Acquired 0 MiniSEED files [0.0 MB].\n",
            "[2024-05-04 22:52:05,518] - obspy.clients.fdsn.mass_downloader - INFO: Client 'IRIS' - Acquired 0 StationXML files [0.0 MB].\n",
            "[2024-05-04 22:52:05,518] - obspy.clients.fdsn.mass_downloader - INFO: Client 'IRIS' - Acquired 0 StationXML files [0.0 MB].\n",
            "[2024-05-04 22:52:05,525] - obspy.clients.fdsn.mass_downloader - INFO: Downloaded 9.5 MB in total.\n",
            "[2024-05-04 22:52:05,525] - obspy.clients.fdsn.mass_downloader - INFO: Downloaded 9.5 MB in total.\n"
          ]
        },
        {
          "output_type": "stream",
          "name": "stdout",
          "text": [
            "** done with --> CA06 -- GS -- 2019-09-02\n"
          ]
        },
        {
          "output_type": "stream",
          "name": "stderr",
          "text": [
            "[2024-05-04 22:52:23,184] - obspy.clients.fdsn.mass_downloader - INFO: Total acquired or preexisting stations: 0\n",
            "[2024-05-04 22:52:23,184] - obspy.clients.fdsn.mass_downloader - INFO: Total acquired or preexisting stations: 0\n",
            "[2024-05-04 22:52:23,188] - obspy.clients.fdsn.mass_downloader - INFO: Client 'SCEDC' - Requesting unreliable availability.\n",
            "[2024-05-04 22:52:23,188] - obspy.clients.fdsn.mass_downloader - INFO: Client 'SCEDC' - Requesting unreliable availability.\n"
          ]
        },
        {
          "output_type": "stream",
          "name": "stdout",
          "text": [
            "======= Working on B921 station.\n"
          ]
        },
        {
          "output_type": "stream",
          "name": "stderr",
          "text": [
            "[2024-05-04 22:52:23,451] - obspy.clients.fdsn.mass_downloader - INFO: Client 'SCEDC' - Successfully requested availability (0.26 seconds)\n",
            "[2024-05-04 22:52:23,451] - obspy.clients.fdsn.mass_downloader - INFO: Client 'SCEDC' - Successfully requested availability (0.26 seconds)\n",
            "[2024-05-04 22:52:23,485] - obspy.clients.fdsn.mass_downloader - INFO: Client 'SCEDC' - Found 1 stations (3 channels).\n",
            "[2024-05-04 22:52:23,485] - obspy.clients.fdsn.mass_downloader - INFO: Client 'SCEDC' - Found 1 stations (3 channels).\n",
            "[2024-05-04 22:52:23,490] - obspy.clients.fdsn.mass_downloader - INFO: Client 'SCEDC' - Will attempt to download data from 1 stations.\n",
            "[2024-05-04 22:52:23,490] - obspy.clients.fdsn.mass_downloader - INFO: Client 'SCEDC' - Will attempt to download data from 1 stations.\n",
            "[2024-05-04 22:52:23,494] - obspy.clients.fdsn.mass_downloader - INFO: Client 'SCEDC' - Status for 3 time intervals/channels before downloading: NEEDS_DOWNLOADING\n",
            "[2024-05-04 22:52:23,494] - obspy.clients.fdsn.mass_downloader - INFO: Client 'SCEDC' - Status for 3 time intervals/channels before downloading: NEEDS_DOWNLOADING\n",
            "[2024-05-04 22:52:23,709] - obspy.clients.fdsn.mass_downloader - ERROR: Client 'SCEDC' - Service responds: Internal server error\n",
            "HTTP Status code: 500\n",
            "Detailed response of server:\n",
            "\n",
            "\n",
            "[2024-05-04 22:52:23,709] - obspy.clients.fdsn.mass_downloader - ERROR: Client 'SCEDC' - Service responds: Internal server error\n",
            "HTTP Status code: 500\n",
            "Detailed response of server:\n",
            "\n",
            "\n",
            "[2024-05-04 22:52:23,711] - obspy.clients.fdsn.mass_downloader - ERROR: Client 'SCEDC' - Service responds: Internal server error\n",
            "HTTP Status code: 500\n",
            "Detailed response of server:\n",
            "\n",
            "\n",
            "[2024-05-04 22:52:23,711] - obspy.clients.fdsn.mass_downloader - ERROR: Client 'SCEDC' - Service responds: Internal server error\n",
            "HTTP Status code: 500\n",
            "Detailed response of server:\n",
            "\n",
            "\n",
            "[2024-05-04 22:52:25,761] - obspy.clients.fdsn.mass_downloader - INFO: Client 'SCEDC' - Successfully downloaded 1 channels (of 1)\n",
            "[2024-05-04 22:52:25,761] - obspy.clients.fdsn.mass_downloader - INFO: Client 'SCEDC' - Successfully downloaded 1 channels (of 1)\n",
            "[2024-05-04 22:52:25,772] - obspy.clients.fdsn.mass_downloader - INFO: Client 'SCEDC' - Launching basic QC checks...\n",
            "[2024-05-04 22:52:25,772] - obspy.clients.fdsn.mass_downloader - INFO: Client 'SCEDC' - Launching basic QC checks...\n",
            "[2024-05-04 22:52:25,790] - obspy.clients.fdsn.mass_downloader - INFO: Client 'SCEDC' - Downloaded 9.0 MB [4081.00 KB/sec] of data, 0.0 MB of which were discarded afterwards.\n",
            "[2024-05-04 22:52:25,790] - obspy.clients.fdsn.mass_downloader - INFO: Client 'SCEDC' - Downloaded 9.0 MB [4081.00 KB/sec] of data, 0.0 MB of which were discarded afterwards.\n",
            "[2024-05-04 22:52:25,795] - obspy.clients.fdsn.mass_downloader - INFO: Client 'SCEDC' - Status for 2 time intervals/channels after downloading: DOWNLOAD_FAILED\n",
            "[2024-05-04 22:52:25,795] - obspy.clients.fdsn.mass_downloader - INFO: Client 'SCEDC' - Status for 2 time intervals/channels after downloading: DOWNLOAD_FAILED\n",
            "[2024-05-04 22:52:25,798] - obspy.clients.fdsn.mass_downloader - INFO: Client 'SCEDC' - Status for 1 time intervals/channels after downloading: DOWNLOADED\n",
            "[2024-05-04 22:52:25,798] - obspy.clients.fdsn.mass_downloader - INFO: Client 'SCEDC' - Status for 1 time intervals/channels after downloading: DOWNLOADED\n",
            "[2024-05-04 22:52:29,781] - obspy.clients.fdsn.mass_downloader - INFO: Client 'SCEDC' - Successfully downloaded 'downloads_mseedsxml/B921/PB.B921.xml'.\n",
            "[2024-05-04 22:52:29,781] - obspy.clients.fdsn.mass_downloader - INFO: Client 'SCEDC' - Successfully downloaded 'downloads_mseedsxml/B921/PB.B921.xml'.\n",
            "[2024-05-04 22:52:29,790] - obspy.clients.fdsn.mass_downloader - INFO: Client 'SCEDC' - Downloaded 1 station files [0.0 MB] in 4.0 seconds [6.32 KB/sec].\n",
            "[2024-05-04 22:52:29,790] - obspy.clients.fdsn.mass_downloader - INFO: Client 'SCEDC' - Downloaded 1 station files [0.0 MB] in 4.0 seconds [6.32 KB/sec].\n",
            "[2024-05-04 22:52:29,796] - obspy.clients.fdsn.mass_downloader - INFO: Total acquired or preexisting stations: 1\n",
            "[2024-05-04 22:52:29,796] - obspy.clients.fdsn.mass_downloader - INFO: Total acquired or preexisting stations: 1\n",
            "[2024-05-04 22:52:29,798] - obspy.clients.fdsn.mass_downloader - INFO: Client 'IRIS' - Requesting reliable availability.\n",
            "[2024-05-04 22:52:29,798] - obspy.clients.fdsn.mass_downloader - INFO: Client 'IRIS' - Requesting reliable availability.\n",
            "[2024-05-04 22:52:30,242] - obspy.clients.fdsn.mass_downloader - INFO: Client 'IRIS' - Successfully requested availability (0.44 seconds)\n",
            "[2024-05-04 22:52:30,242] - obspy.clients.fdsn.mass_downloader - INFO: Client 'IRIS' - Successfully requested availability (0.44 seconds)\n",
            "[2024-05-04 22:52:30,268] - obspy.clients.fdsn.mass_downloader - INFO: Client 'IRIS' - Found 1 stations (3 channels).\n",
            "[2024-05-04 22:52:30,268] - obspy.clients.fdsn.mass_downloader - INFO: Client 'IRIS' - Found 1 stations (3 channels).\n",
            "[2024-05-04 22:52:30,272] - obspy.clients.fdsn.mass_downloader - INFO: Client 'IRIS' - No new data available after discarding already downloaded data.\n",
            "[2024-05-04 22:52:30,272] - obspy.clients.fdsn.mass_downloader - INFO: Client 'IRIS' - No new data available after discarding already downloaded data.\n",
            "[2024-05-04 22:52:30,276] - obspy.clients.fdsn.mass_downloader - INFO: ============================== Final report\n",
            "[2024-05-04 22:52:30,276] - obspy.clients.fdsn.mass_downloader - INFO: ============================== Final report\n",
            "[2024-05-04 22:52:30,287] - obspy.clients.fdsn.mass_downloader - INFO: 0 MiniSEED files [0.0 MB] already existed.\n",
            "[2024-05-04 22:52:30,287] - obspy.clients.fdsn.mass_downloader - INFO: 0 MiniSEED files [0.0 MB] already existed.\n",
            "[2024-05-04 22:52:30,292] - obspy.clients.fdsn.mass_downloader - INFO: 0 StationXML files [0.0 MB] already existed.\n",
            "[2024-05-04 22:52:30,292] - obspy.clients.fdsn.mass_downloader - INFO: 0 StationXML files [0.0 MB] already existed.\n",
            "[2024-05-04 22:52:30,295] - obspy.clients.fdsn.mass_downloader - INFO: Client 'SCEDC' - Acquired 1 MiniSEED files [9.0 MB].\n",
            "[2024-05-04 22:52:30,295] - obspy.clients.fdsn.mass_downloader - INFO: Client 'SCEDC' - Acquired 1 MiniSEED files [9.0 MB].\n",
            "[2024-05-04 22:52:30,297] - obspy.clients.fdsn.mass_downloader - INFO: Client 'SCEDC' - Acquired 1 StationXML files [0.0 MB].\n",
            "[2024-05-04 22:52:30,297] - obspy.clients.fdsn.mass_downloader - INFO: Client 'SCEDC' - Acquired 1 StationXML files [0.0 MB].\n",
            "[2024-05-04 22:52:30,299] - obspy.clients.fdsn.mass_downloader - INFO: Client 'IRIS' - Acquired 0 MiniSEED files [0.0 MB].\n",
            "[2024-05-04 22:52:30,299] - obspy.clients.fdsn.mass_downloader - INFO: Client 'IRIS' - Acquired 0 MiniSEED files [0.0 MB].\n",
            "[2024-05-04 22:52:30,301] - obspy.clients.fdsn.mass_downloader - INFO: Client 'IRIS' - Acquired 0 StationXML files [0.0 MB].\n",
            "[2024-05-04 22:52:30,301] - obspy.clients.fdsn.mass_downloader - INFO: Client 'IRIS' - Acquired 0 StationXML files [0.0 MB].\n",
            "[2024-05-04 22:52:30,305] - obspy.clients.fdsn.mass_downloader - INFO: Downloaded 9.1 MB in total.\n",
            "[2024-05-04 22:52:30,305] - obspy.clients.fdsn.mass_downloader - INFO: Downloaded 9.1 MB in total.\n"
          ]
        },
        {
          "output_type": "stream",
          "name": "stdout",
          "text": [
            "** done with --> B921 -- PB -- 2019-09-01\n"
          ]
        },
        {
          "output_type": "stream",
          "name": "stderr",
          "text": [
            "[2024-05-04 22:52:34,534] - obspy.clients.fdsn.mass_downloader - INFO: Total acquired or preexisting stations: 0\n",
            "[2024-05-04 22:52:34,534] - obspy.clients.fdsn.mass_downloader - INFO: Total acquired or preexisting stations: 0\n",
            "[2024-05-04 22:52:34,537] - obspy.clients.fdsn.mass_downloader - INFO: Client 'SCEDC' - Requesting unreliable availability.\n",
            "[2024-05-04 22:52:34,537] - obspy.clients.fdsn.mass_downloader - INFO: Client 'SCEDC' - Requesting unreliable availability.\n"
          ]
        },
        {
          "output_type": "stream",
          "name": "stdout",
          "text": [
            "======= Working on SV08 station.\n"
          ]
        },
        {
          "output_type": "stream",
          "name": "stderr",
          "text": [
            "[2024-05-04 22:52:34,793] - obspy.clients.fdsn.mass_downloader - INFO: Client 'SCEDC' - Successfully requested availability (0.25 seconds)\n",
            "[2024-05-04 22:52:34,793] - obspy.clients.fdsn.mass_downloader - INFO: Client 'SCEDC' - Successfully requested availability (0.25 seconds)\n",
            "[2024-05-04 22:52:34,797] - obspy.clients.fdsn.mass_downloader - INFO: Client 'SCEDC' - Found 1 stations (3 channels).\n",
            "[2024-05-04 22:52:34,797] - obspy.clients.fdsn.mass_downloader - INFO: Client 'SCEDC' - Found 1 stations (3 channels).\n",
            "[2024-05-04 22:52:34,800] - obspy.clients.fdsn.mass_downloader - INFO: Client 'SCEDC' - Will attempt to download data from 1 stations.\n",
            "[2024-05-04 22:52:34,800] - obspy.clients.fdsn.mass_downloader - INFO: Client 'SCEDC' - Will attempt to download data from 1 stations.\n",
            "[2024-05-04 22:52:34,805] - obspy.clients.fdsn.mass_downloader - INFO: Client 'SCEDC' - Status for 3 time intervals/channels before downloading: NEEDS_DOWNLOADING\n",
            "[2024-05-04 22:52:34,805] - obspy.clients.fdsn.mass_downloader - INFO: Client 'SCEDC' - Status for 3 time intervals/channels before downloading: NEEDS_DOWNLOADING\n",
            "[2024-05-04 22:52:37,648] - obspy.clients.fdsn.mass_downloader - INFO: Client 'SCEDC' - Successfully downloaded 1 channels (of 1)\n",
            "[2024-05-04 22:52:37,648] - obspy.clients.fdsn.mass_downloader - INFO: Client 'SCEDC' - Successfully downloaded 1 channels (of 1)\n",
            "[2024-05-04 22:52:37,793] - obspy.clients.fdsn.mass_downloader - INFO: Client 'SCEDC' - Successfully downloaded 1 channels (of 1)\n",
            "[2024-05-04 22:52:37,793] - obspy.clients.fdsn.mass_downloader - INFO: Client 'SCEDC' - Successfully downloaded 1 channels (of 1)\n",
            "[2024-05-04 22:52:37,814] - obspy.clients.fdsn.mass_downloader - INFO: Client 'SCEDC' - Successfully downloaded 1 channels (of 1)\n",
            "[2024-05-04 22:52:37,814] - obspy.clients.fdsn.mass_downloader - INFO: Client 'SCEDC' - Successfully downloaded 1 channels (of 1)\n",
            "[2024-05-04 22:52:37,824] - obspy.clients.fdsn.mass_downloader - INFO: Client 'SCEDC' - Launching basic QC checks...\n",
            "[2024-05-04 22:52:37,824] - obspy.clients.fdsn.mass_downloader - INFO: Client 'SCEDC' - Launching basic QC checks...\n",
            "[2024-05-04 22:52:37,862] - obspy.clients.fdsn.mass_downloader - INFO: Client 'SCEDC' - Downloaded 27.3 MB [9288.72 KB/sec] of data, 0.0 MB of which were discarded afterwards.\n",
            "[2024-05-04 22:52:37,862] - obspy.clients.fdsn.mass_downloader - INFO: Client 'SCEDC' - Downloaded 27.3 MB [9288.72 KB/sec] of data, 0.0 MB of which were discarded afterwards.\n",
            "[2024-05-04 22:52:37,866] - obspy.clients.fdsn.mass_downloader - INFO: Client 'SCEDC' - Status for 3 time intervals/channels after downloading: DOWNLOADED\n",
            "[2024-05-04 22:52:37,866] - obspy.clients.fdsn.mass_downloader - INFO: Client 'SCEDC' - Status for 3 time intervals/channels after downloading: DOWNLOADED\n",
            "[2024-05-04 22:52:41,880] - obspy.clients.fdsn.mass_downloader - INFO: Client 'SCEDC' - Successfully downloaded 'downloads_mseedsxml/SV08/ZY.SV08.xml'.\n",
            "[2024-05-04 22:52:41,880] - obspy.clients.fdsn.mass_downloader - INFO: Client 'SCEDC' - Successfully downloaded 'downloads_mseedsxml/SV08/ZY.SV08.xml'.\n",
            "[2024-05-04 22:52:41,890] - obspy.clients.fdsn.mass_downloader - INFO: Client 'SCEDC' - Downloaded 1 station files [0.1 MB] in 4.0 seconds [16.84 KB/sec].\n",
            "[2024-05-04 22:52:41,890] - obspy.clients.fdsn.mass_downloader - INFO: Client 'SCEDC' - Downloaded 1 station files [0.1 MB] in 4.0 seconds [16.84 KB/sec].\n",
            "[2024-05-04 22:52:41,894] - obspy.clients.fdsn.mass_downloader - INFO: Total acquired or preexisting stations: 1\n",
            "[2024-05-04 22:52:41,894] - obspy.clients.fdsn.mass_downloader - INFO: Total acquired or preexisting stations: 1\n",
            "[2024-05-04 22:52:41,898] - obspy.clients.fdsn.mass_downloader - INFO: Client 'IRIS' - Requesting reliable availability.\n",
            "[2024-05-04 22:52:41,898] - obspy.clients.fdsn.mass_downloader - INFO: Client 'IRIS' - Requesting reliable availability.\n",
            "[2024-05-04 22:52:41,999] - obspy.clients.fdsn.mass_downloader - INFO: Client 'IRIS' - No data available for request.\n",
            "[2024-05-04 22:52:41,999] - obspy.clients.fdsn.mass_downloader - INFO: Client 'IRIS' - No data available for request.\n",
            "[2024-05-04 22:52:42,002] - obspy.clients.fdsn.mass_downloader - INFO: Client 'IRIS' - No data available.\n",
            "[2024-05-04 22:52:42,002] - obspy.clients.fdsn.mass_downloader - INFO: Client 'IRIS' - No data available.\n",
            "[2024-05-04 22:52:42,005] - obspy.clients.fdsn.mass_downloader - INFO: ============================== Final report\n",
            "[2024-05-04 22:52:42,005] - obspy.clients.fdsn.mass_downloader - INFO: ============================== Final report\n",
            "[2024-05-04 22:52:42,009] - obspy.clients.fdsn.mass_downloader - INFO: 0 MiniSEED files [0.0 MB] already existed.\n",
            "[2024-05-04 22:52:42,009] - obspy.clients.fdsn.mass_downloader - INFO: 0 MiniSEED files [0.0 MB] already existed.\n",
            "[2024-05-04 22:52:42,019] - obspy.clients.fdsn.mass_downloader - INFO: 0 StationXML files [0.0 MB] already existed.\n",
            "[2024-05-04 22:52:42,019] - obspy.clients.fdsn.mass_downloader - INFO: 0 StationXML files [0.0 MB] already existed.\n",
            "[2024-05-04 22:52:42,024] - obspy.clients.fdsn.mass_downloader - INFO: Client 'SCEDC' - Acquired 3 MiniSEED files [27.3 MB].\n",
            "[2024-05-04 22:52:42,024] - obspy.clients.fdsn.mass_downloader - INFO: Client 'SCEDC' - Acquired 3 MiniSEED files [27.3 MB].\n",
            "[2024-05-04 22:52:42,027] - obspy.clients.fdsn.mass_downloader - INFO: Client 'SCEDC' - Acquired 1 StationXML files [0.1 MB].\n",
            "[2024-05-04 22:52:42,027] - obspy.clients.fdsn.mass_downloader - INFO: Client 'SCEDC' - Acquired 1 StationXML files [0.1 MB].\n",
            "[2024-05-04 22:52:42,031] - obspy.clients.fdsn.mass_downloader - INFO: Client 'IRIS' - Acquired 0 MiniSEED files [0.0 MB].\n",
            "[2024-05-04 22:52:42,031] - obspy.clients.fdsn.mass_downloader - INFO: Client 'IRIS' - Acquired 0 MiniSEED files [0.0 MB].\n",
            "[2024-05-04 22:52:42,034] - obspy.clients.fdsn.mass_downloader - INFO: Client 'IRIS' - Acquired 0 StationXML files [0.0 MB].\n",
            "[2024-05-04 22:52:42,034] - obspy.clients.fdsn.mass_downloader - INFO: Client 'IRIS' - Acquired 0 StationXML files [0.0 MB].\n",
            "[2024-05-04 22:52:42,039] - obspy.clients.fdsn.mass_downloader - INFO: Downloaded 27.3 MB in total.\n",
            "[2024-05-04 22:52:42,039] - obspy.clients.fdsn.mass_downloader - INFO: Downloaded 27.3 MB in total.\n"
          ]
        },
        {
          "output_type": "stream",
          "name": "stdout",
          "text": [
            "** done with --> SV08 -- ZY -- 2019-09-01\n"
          ]
        },
        {
          "output_type": "stream",
          "name": "stderr",
          "text": [
            "[2024-05-04 22:52:56,329] - obspy.clients.fdsn.mass_downloader - INFO: Total acquired or preexisting stations: 0\n",
            "[2024-05-04 22:52:56,329] - obspy.clients.fdsn.mass_downloader - INFO: Total acquired or preexisting stations: 0\n",
            "[2024-05-04 22:52:56,332] - obspy.clients.fdsn.mass_downloader - INFO: Client 'SCEDC' - Requesting unreliable availability.\n",
            "[2024-05-04 22:52:56,332] - obspy.clients.fdsn.mass_downloader - INFO: Client 'SCEDC' - Requesting unreliable availability.\n",
            "[2024-05-04 22:52:56,621] - obspy.clients.fdsn.mass_downloader - INFO: Client 'SCEDC' - Successfully requested availability (0.29 seconds)\n",
            "[2024-05-04 22:52:56,621] - obspy.clients.fdsn.mass_downloader - INFO: Client 'SCEDC' - Successfully requested availability (0.29 seconds)\n",
            "[2024-05-04 22:52:56,672] - obspy.clients.fdsn.mass_downloader - INFO: Client 'SCEDC' - Found 1 stations (3 channels).\n",
            "[2024-05-04 22:52:56,672] - obspy.clients.fdsn.mass_downloader - INFO: Client 'SCEDC' - Found 1 stations (3 channels).\n",
            "[2024-05-04 22:52:56,682] - obspy.clients.fdsn.mass_downloader - INFO: Client 'SCEDC' - Will attempt to download data from 1 stations.\n",
            "[2024-05-04 22:52:56,682] - obspy.clients.fdsn.mass_downloader - INFO: Client 'SCEDC' - Will attempt to download data from 1 stations.\n",
            "[2024-05-04 22:52:56,687] - obspy.clients.fdsn.mass_downloader - INFO: Client 'SCEDC' - Status for 3 time intervals/channels before downloading: NEEDS_DOWNLOADING\n",
            "[2024-05-04 22:52:56,687] - obspy.clients.fdsn.mass_downloader - INFO: Client 'SCEDC' - Status for 3 time intervals/channels before downloading: NEEDS_DOWNLOADING\n",
            "[2024-05-04 22:53:01,489] - obspy.clients.fdsn.mass_downloader - INFO: Client 'SCEDC' - Successfully downloaded 1 channels (of 1)\n",
            "[2024-05-04 22:53:01,489] - obspy.clients.fdsn.mass_downloader - INFO: Client 'SCEDC' - Successfully downloaded 1 channels (of 1)\n",
            "[2024-05-04 22:53:01,532] - obspy.clients.fdsn.mass_downloader - INFO: Client 'SCEDC' - Successfully downloaded 1 channels (of 1)\n",
            "[2024-05-04 22:53:01,532] - obspy.clients.fdsn.mass_downloader - INFO: Client 'SCEDC' - Successfully downloaded 1 channels (of 1)\n",
            "[2024-05-04 22:53:01,557] - obspy.clients.fdsn.mass_downloader - INFO: Client 'SCEDC' - Successfully downloaded 1 channels (of 1)\n",
            "[2024-05-04 22:53:01,557] - obspy.clients.fdsn.mass_downloader - INFO: Client 'SCEDC' - Successfully downloaded 1 channels (of 1)\n",
            "[2024-05-04 22:53:01,562] - obspy.clients.fdsn.mass_downloader - INFO: Client 'SCEDC' - Launching basic QC checks...\n",
            "[2024-05-04 22:53:01,562] - obspy.clients.fdsn.mass_downloader - INFO: Client 'SCEDC' - Launching basic QC checks...\n",
            "[2024-05-04 22:53:01,591] - obspy.clients.fdsn.mass_downloader - INFO: Client 'SCEDC' - Downloaded 27.1 MB [5716.64 KB/sec] of data, 0.0 MB of which were discarded afterwards.\n",
            "[2024-05-04 22:53:01,591] - obspy.clients.fdsn.mass_downloader - INFO: Client 'SCEDC' - Downloaded 27.1 MB [5716.64 KB/sec] of data, 0.0 MB of which were discarded afterwards.\n",
            "[2024-05-04 22:53:01,596] - obspy.clients.fdsn.mass_downloader - INFO: Client 'SCEDC' - Status for 3 time intervals/channels after downloading: DOWNLOADED\n",
            "[2024-05-04 22:53:01,596] - obspy.clients.fdsn.mass_downloader - INFO: Client 'SCEDC' - Status for 3 time intervals/channels after downloading: DOWNLOADED\n",
            "[2024-05-04 22:53:01,603] - obspy.clients.fdsn.mass_downloader - INFO: Client 'SCEDC' - No station information to download.\n",
            "[2024-05-04 22:53:01,603] - obspy.clients.fdsn.mass_downloader - INFO: Client 'SCEDC' - No station information to download.\n",
            "[2024-05-04 22:53:01,606] - obspy.clients.fdsn.mass_downloader - INFO: Total acquired or preexisting stations: 1\n",
            "[2024-05-04 22:53:01,606] - obspy.clients.fdsn.mass_downloader - INFO: Total acquired or preexisting stations: 1\n",
            "[2024-05-04 22:53:01,608] - obspy.clients.fdsn.mass_downloader - INFO: Client 'IRIS' - Requesting reliable availability.\n",
            "[2024-05-04 22:53:01,608] - obspy.clients.fdsn.mass_downloader - INFO: Client 'IRIS' - Requesting reliable availability.\n",
            "[2024-05-04 22:53:02,009] - obspy.clients.fdsn.mass_downloader - INFO: Client 'IRIS' - Successfully requested availability (0.40 seconds)\n",
            "[2024-05-04 22:53:02,009] - obspy.clients.fdsn.mass_downloader - INFO: Client 'IRIS' - Successfully requested availability (0.40 seconds)\n",
            "[2024-05-04 22:53:02,036] - obspy.clients.fdsn.mass_downloader - INFO: Client 'IRIS' - Found 1 stations (3 channels).\n",
            "[2024-05-04 22:53:02,036] - obspy.clients.fdsn.mass_downloader - INFO: Client 'IRIS' - Found 1 stations (3 channels).\n",
            "[2024-05-04 22:53:02,042] - obspy.clients.fdsn.mass_downloader - INFO: Client 'IRIS' - No new data available after discarding already downloaded data.\n",
            "[2024-05-04 22:53:02,042] - obspy.clients.fdsn.mass_downloader - INFO: Client 'IRIS' - No new data available after discarding already downloaded data.\n",
            "[2024-05-04 22:53:02,049] - obspy.clients.fdsn.mass_downloader - INFO: ============================== Final report\n",
            "[2024-05-04 22:53:02,049] - obspy.clients.fdsn.mass_downloader - INFO: ============================== Final report\n",
            "[2024-05-04 22:53:02,052] - obspy.clients.fdsn.mass_downloader - INFO: 0 MiniSEED files [0.0 MB] already existed.\n",
            "[2024-05-04 22:53:02,052] - obspy.clients.fdsn.mass_downloader - INFO: 0 MiniSEED files [0.0 MB] already existed.\n",
            "[2024-05-04 22:53:02,054] - obspy.clients.fdsn.mass_downloader - INFO: 1 StationXML files [0.0 MB] already existed.\n",
            "[2024-05-04 22:53:02,054] - obspy.clients.fdsn.mass_downloader - INFO: 1 StationXML files [0.0 MB] already existed.\n",
            "[2024-05-04 22:53:02,056] - obspy.clients.fdsn.mass_downloader - INFO: Client 'SCEDC' - Acquired 3 MiniSEED files [27.1 MB].\n",
            "[2024-05-04 22:53:02,056] - obspy.clients.fdsn.mass_downloader - INFO: Client 'SCEDC' - Acquired 3 MiniSEED files [27.1 MB].\n",
            "[2024-05-04 22:53:02,058] - obspy.clients.fdsn.mass_downloader - INFO: Client 'SCEDC' - Acquired 0 StationXML files [0.0 MB].\n",
            "[2024-05-04 22:53:02,058] - obspy.clients.fdsn.mass_downloader - INFO: Client 'SCEDC' - Acquired 0 StationXML files [0.0 MB].\n",
            "[2024-05-04 22:53:02,060] - obspy.clients.fdsn.mass_downloader - INFO: Client 'IRIS' - Acquired 0 MiniSEED files [0.0 MB].\n",
            "[2024-05-04 22:53:02,060] - obspy.clients.fdsn.mass_downloader - INFO: Client 'IRIS' - Acquired 0 MiniSEED files [0.0 MB].\n",
            "[2024-05-04 22:53:02,063] - obspy.clients.fdsn.mass_downloader - INFO: Client 'IRIS' - Acquired 0 StationXML files [0.0 MB].\n",
            "[2024-05-04 22:53:02,063] - obspy.clients.fdsn.mass_downloader - INFO: Client 'IRIS' - Acquired 0 StationXML files [0.0 MB].\n",
            "[2024-05-04 22:53:02,065] - obspy.clients.fdsn.mass_downloader - INFO: Downloaded 27.1 MB in total.\n",
            "[2024-05-04 22:53:02,065] - obspy.clients.fdsn.mass_downloader - INFO: Downloaded 27.1 MB in total.\n"
          ]
        },
        {
          "output_type": "stream",
          "name": "stdout",
          "text": [
            "** done with --> B921 -- PB -- 2019-09-02\n"
          ]
        },
        {
          "output_type": "stream",
          "name": "stderr",
          "text": [
            "[2024-05-04 22:53:10,069] - obspy.clients.fdsn.mass_downloader - INFO: Total acquired or preexisting stations: 0\n",
            "[2024-05-04 22:53:10,069] - obspy.clients.fdsn.mass_downloader - INFO: Total acquired or preexisting stations: 0\n",
            "[2024-05-04 22:53:10,073] - obspy.clients.fdsn.mass_downloader - INFO: Client 'SCEDC' - Requesting unreliable availability.\n",
            "[2024-05-04 22:53:10,073] - obspy.clients.fdsn.mass_downloader - INFO: Client 'SCEDC' - Requesting unreliable availability.\n",
            "[2024-05-04 22:53:10,333] - obspy.clients.fdsn.mass_downloader - INFO: Client 'SCEDC' - Successfully requested availability (0.26 seconds)\n",
            "[2024-05-04 22:53:10,333] - obspy.clients.fdsn.mass_downloader - INFO: Client 'SCEDC' - Successfully requested availability (0.26 seconds)\n",
            "[2024-05-04 22:53:10,343] - obspy.clients.fdsn.mass_downloader - INFO: Client 'SCEDC' - Found 1 stations (3 channels).\n",
            "[2024-05-04 22:53:10,343] - obspy.clients.fdsn.mass_downloader - INFO: Client 'SCEDC' - Found 1 stations (3 channels).\n",
            "[2024-05-04 22:53:10,349] - obspy.clients.fdsn.mass_downloader - INFO: Client 'SCEDC' - Will attempt to download data from 1 stations.\n",
            "[2024-05-04 22:53:10,349] - obspy.clients.fdsn.mass_downloader - INFO: Client 'SCEDC' - Will attempt to download data from 1 stations.\n",
            "[2024-05-04 22:53:10,355] - obspy.clients.fdsn.mass_downloader - INFO: Client 'SCEDC' - Status for 3 time intervals/channels before downloading: NEEDS_DOWNLOADING\n",
            "[2024-05-04 22:53:10,355] - obspy.clients.fdsn.mass_downloader - INFO: Client 'SCEDC' - Status for 3 time intervals/channels before downloading: NEEDS_DOWNLOADING\n",
            "[2024-05-04 22:53:13,233] - obspy.clients.fdsn.mass_downloader - INFO: Client 'SCEDC' - Successfully downloaded 1 channels (of 1)\n",
            "[2024-05-04 22:53:13,233] - obspy.clients.fdsn.mass_downloader - INFO: Client 'SCEDC' - Successfully downloaded 1 channels (of 1)\n",
            "[2024-05-04 22:53:13,328] - obspy.clients.fdsn.mass_downloader - INFO: Client 'SCEDC' - Successfully downloaded 1 channels (of 1)\n",
            "[2024-05-04 22:53:13,328] - obspy.clients.fdsn.mass_downloader - INFO: Client 'SCEDC' - Successfully downloaded 1 channels (of 1)\n",
            "[2024-05-04 22:53:13,345] - obspy.clients.fdsn.mass_downloader - INFO: Client 'SCEDC' - Successfully downloaded 1 channels (of 1)\n",
            "[2024-05-04 22:53:13,345] - obspy.clients.fdsn.mass_downloader - INFO: Client 'SCEDC' - Successfully downloaded 1 channels (of 1)\n",
            "[2024-05-04 22:53:13,353] - obspy.clients.fdsn.mass_downloader - INFO: Client 'SCEDC' - Launching basic QC checks...\n",
            "[2024-05-04 22:53:13,353] - obspy.clients.fdsn.mass_downloader - INFO: Client 'SCEDC' - Launching basic QC checks...\n",
            "[2024-05-04 22:53:13,391] - obspy.clients.fdsn.mass_downloader - INFO: Client 'SCEDC' - Downloaded 27.6 MB [9475.25 KB/sec] of data, 0.0 MB of which were discarded afterwards.\n",
            "[2024-05-04 22:53:13,391] - obspy.clients.fdsn.mass_downloader - INFO: Client 'SCEDC' - Downloaded 27.6 MB [9475.25 KB/sec] of data, 0.0 MB of which were discarded afterwards.\n",
            "[2024-05-04 22:53:13,395] - obspy.clients.fdsn.mass_downloader - INFO: Client 'SCEDC' - Status for 3 time intervals/channels after downloading: DOWNLOADED\n",
            "[2024-05-04 22:53:13,395] - obspy.clients.fdsn.mass_downloader - INFO: Client 'SCEDC' - Status for 3 time intervals/channels after downloading: DOWNLOADED\n",
            "[2024-05-04 22:53:13,406] - obspy.clients.fdsn.mass_downloader - INFO: Client 'SCEDC' - No station information to download.\n",
            "[2024-05-04 22:53:13,406] - obspy.clients.fdsn.mass_downloader - INFO: Client 'SCEDC' - No station information to download.\n",
            "[2024-05-04 22:53:13,412] - obspy.clients.fdsn.mass_downloader - INFO: Total acquired or preexisting stations: 1\n",
            "[2024-05-04 22:53:13,412] - obspy.clients.fdsn.mass_downloader - INFO: Total acquired or preexisting stations: 1\n",
            "[2024-05-04 22:53:13,416] - obspy.clients.fdsn.mass_downloader - INFO: Client 'IRIS' - Requesting reliable availability.\n",
            "[2024-05-04 22:53:13,416] - obspy.clients.fdsn.mass_downloader - INFO: Client 'IRIS' - Requesting reliable availability.\n",
            "[2024-05-04 22:53:13,521] - obspy.clients.fdsn.mass_downloader - INFO: Client 'IRIS' - No data available for request.\n",
            "[2024-05-04 22:53:13,521] - obspy.clients.fdsn.mass_downloader - INFO: Client 'IRIS' - No data available for request.\n",
            "[2024-05-04 22:53:13,526] - obspy.clients.fdsn.mass_downloader - INFO: Client 'IRIS' - No data available.\n",
            "[2024-05-04 22:53:13,526] - obspy.clients.fdsn.mass_downloader - INFO: Client 'IRIS' - No data available.\n",
            "[2024-05-04 22:53:13,529] - obspy.clients.fdsn.mass_downloader - INFO: ============================== Final report\n",
            "[2024-05-04 22:53:13,529] - obspy.clients.fdsn.mass_downloader - INFO: ============================== Final report\n",
            "[2024-05-04 22:53:13,535] - obspy.clients.fdsn.mass_downloader - INFO: 0 MiniSEED files [0.0 MB] already existed.\n",
            "[2024-05-04 22:53:13,535] - obspy.clients.fdsn.mass_downloader - INFO: 0 MiniSEED files [0.0 MB] already existed.\n",
            "[2024-05-04 22:53:13,539] - obspy.clients.fdsn.mass_downloader - INFO: 1 StationXML files [0.1 MB] already existed.\n",
            "[2024-05-04 22:53:13,539] - obspy.clients.fdsn.mass_downloader - INFO: 1 StationXML files [0.1 MB] already existed.\n",
            "[2024-05-04 22:53:13,542] - obspy.clients.fdsn.mass_downloader - INFO: Client 'SCEDC' - Acquired 3 MiniSEED files [27.6 MB].\n",
            "[2024-05-04 22:53:13,542] - obspy.clients.fdsn.mass_downloader - INFO: Client 'SCEDC' - Acquired 3 MiniSEED files [27.6 MB].\n",
            "[2024-05-04 22:53:13,544] - obspy.clients.fdsn.mass_downloader - INFO: Client 'SCEDC' - Acquired 0 StationXML files [0.0 MB].\n",
            "[2024-05-04 22:53:13,544] - obspy.clients.fdsn.mass_downloader - INFO: Client 'SCEDC' - Acquired 0 StationXML files [0.0 MB].\n",
            "[2024-05-04 22:53:13,547] - obspy.clients.fdsn.mass_downloader - INFO: Client 'IRIS' - Acquired 0 MiniSEED files [0.0 MB].\n",
            "[2024-05-04 22:53:13,547] - obspy.clients.fdsn.mass_downloader - INFO: Client 'IRIS' - Acquired 0 MiniSEED files [0.0 MB].\n",
            "[2024-05-04 22:53:13,550] - obspy.clients.fdsn.mass_downloader - INFO: Client 'IRIS' - Acquired 0 StationXML files [0.0 MB].\n",
            "[2024-05-04 22:53:13,550] - obspy.clients.fdsn.mass_downloader - INFO: Client 'IRIS' - Acquired 0 StationXML files [0.0 MB].\n",
            "[2024-05-04 22:53:13,552] - obspy.clients.fdsn.mass_downloader - INFO: Downloaded 27.6 MB in total.\n",
            "[2024-05-04 22:53:13,552] - obspy.clients.fdsn.mass_downloader - INFO: Downloaded 27.6 MB in total.\n"
          ]
        },
        {
          "output_type": "stream",
          "name": "stdout",
          "text": [
            "** done with --> SV08 -- ZY -- 2019-09-02\n"
          ]
        }
      ]
    },
    {
      "cell_type": "markdown",
      "metadata": {
        "id": "ANnEewb-LtZB"
      },
      "source": [
        "# Detection and Picking\n",
        "To perform detection & picking you need a pre-trained model of EQTransformer which you can get from folder: `EQTransformer/ModelsAndSampleData/`.\n",
        "\n",
        "\n",
        "EQTransformer provides two different option for performing the detection & picking on the continuous data:\n",
        "## Option (I) using pre-processed data (hdf5 files):\n",
        "This option is recommended for smaller periods (a few days to a month). This allows you to test the performance and explore the effects of different parameters while the provided hdf5 file makes it easy to access the waveforms.\n",
        "\n",
        "For this option, you first need to convert your MiniSeed files for each station into 1-min long Numpy arrays in a single hdf5 file and generated a CSV file containing the list of traces in the hdf5 file. You can do this using the following command:"
      ]
    },
    {
      "cell_type": "code",
      "metadata": {
        "colab": {
          "base_uri": "https://localhost:8080/"
        },
        "id": "b0iKTNHLLdjT",
        "outputId": "841a0bfc-beb9-4d51-e056-f609f240f851"
      },
      "source": [
        "from EQTransformer.utils.hdf5_maker import preprocessor\n",
        "\n",
        "preprocessor(preproc_dir=\"preproc\", mseed_dir='downloads_mseeds', stations_json=json_basepath, overlap=0.3, n_processor=2)"
      ],
      "execution_count": null,
      "outputs": [
        {
          "output_type": "stream",
          "name": "stdout",
          "text": [
            "============ Station CA06 has 2 chunks of data.\n",
            "============ Station B921 has 2 chunks of data.\n",
            "  * CA06 (1) .. 20190901 --> 20190902 .. 3 components .. sampling rate: 100.0\n",
            "  * B921 (1) .. 20190901 --> 20190902 .. 3 components .. sampling rate: 100.0\n",
            "  * B921 (2) .. 20190902 --> 20190903 .. 3 components .. sampling rate: 100.0\n",
            "  * CA06 (2) .. 20190902 --> 20190903 .. 3 components .. sampling rate: 100.0\n",
            " Station CA06 had 2 chuncks of data\n",
            "4112 slices were written, 4114.0 were expected.\n",
            "Number of 1-components: 0. Number of 2-components: 0. Number of 3-components: 2.\n",
            "Original samplieng rate: 100.0.\n",
            "============ Station SV08 has 2 chunks of data.\n",
            "  * SV08 (1) .. 20190901 --> 20190902 .. 3 components .. sampling rate: 100.0 Station B921 had 2 chuncks of data\n",
            "\n",
            "4112 slices were written, 4114.0 were expected.\n",
            "Number of 1-components: 0. Number of 2-components: 0. Number of 3-components: 2.\n",
            "Original samplieng rate: 100.0.\n",
            "  * SV08 (2) .. 20190902 --> 20190903 .. 3 components .. sampling rate: 100.0\n",
            " Station SV08 had 2 chuncks of data\n",
            "4112 slices were written, 4114.0 were expected.\n",
            "Number of 1-components: 0. Number of 2-components: 0. Number of 3-components: 2.\n",
            "Original samplieng rate: 100.0.\n"
          ]
        }
      ]
    },
    {
      "cell_type": "code",
      "metadata": {
        "colab": {
          "base_uri": "https://localhost:8080/",
          "height": 1000
        },
        "id": "OMA5Eq5CLsFS",
        "outputId": "024c2de3-a0c0-4d6b-85f4-22e2e5de8f2b"
      },
      "source": [
        "from EQTransformer.core.predictor import predictor\n",
        "\n",
        "predictor(input_dir= 'downloads_mseeds_processed_hdfs', input_model='EQTransformer/ModelsAndSampleData/EqT_model.h5', output_dir='detections', detection_threshold=0.3, P_threshold=0.1, S_threshold=0.1, number_of_plots=100, plot_mode='time')"
      ],
      "execution_count": null,
      "outputs": [
        {
          "output_type": "stream",
          "name": "stdout",
          "text": [
            "============================================================================\n",
            "Running EqTransformer  0.1.61\n",
            " *** Loading the model ...\n",
            "*** Loading is complete!\n",
            "============================================================================\n",
            " *** /content/detections already exists!\n",
            " --> Type (Yes or y) to create a new empty directory! otherwise it will overwrite!   y\n",
            "######### There are files for 3 stations in downloads_mseeds_processed_hdfs directory. #########\n",
            "========= Started working on B921, 1 out of 3 ...\n",
            "\n",
            "\n",
            "\n",
            "  0%|                                                                         | 0/9 [00:00<?, ?it/s]\u001b[A\u001b[A\u001b[A\n",
            "\n",
            "\n",
            " 22%|██████████████▍                                                  | 2/9 [01:03<03:41, 31.63s/it]\u001b[A\u001b[A\u001b[A\n",
            "\n",
            "\n",
            " 33%|█████████████████████▋                                           | 3/9 [01:15<02:34, 25.68s/it]\u001b[A\u001b[A\u001b[A\n",
            "\n",
            "\n",
            " 44%|████████████████████████████▉                                    | 4/9 [01:26<01:47, 21.51s/it]\u001b[A\u001b[A\u001b[A\n",
            "\n",
            "\n",
            " 56%|████████████████████████████████████                             | 5/9 [01:38<01:14, 18.63s/it]\u001b[A\u001b[A\u001b[A\n",
            "\n",
            "\n",
            " 67%|███████████████████████████████████████████▎                     | 6/9 [01:50<00:49, 16.52s/it]\u001b[A\u001b[A\u001b[A\n",
            "\n",
            "\n",
            " 78%|██████████████████████████████████████████████████▌              | 7/9 [02:01<00:29, 14.99s/it]\u001b[A\u001b[A\u001b[A\n",
            "\n",
            "\n",
            " 89%|█████████████████████████████████████████████████████████▊       | 8/9 [02:13<00:14, 14.14s/it]\u001b[A\u001b[A\u001b[A\n",
            "\n",
            "\n",
            "100%|█████████████████████████████████████████████████████████████████| 9/9 [02:25<00:00, 13.36s/it]\u001b[A\u001b[A\u001b[A\n",
            "\n",
            " *** Finished the prediction in: 0 hours and 2 minutes and 28.85 seconds.\n",
            " *** Detected: 2724 events.\n",
            " *** Wrote the results into --> \" /content/detections/B921_outputs \"\n",
            "========= Started working on CA06, 2 out of 3 ...\n",
            "\n",
            "\n",
            "\n",
            "\n",
            "  0%|                                                                         | 0/9 [00:00<?, ?it/s]\u001b[A\u001b[A\u001b[A\u001b[A\n",
            "\n",
            "\n",
            "\n",
            " 22%|██████████████▍                                                  | 2/9 [00:56<03:16, 28.05s/it]\u001b[A\u001b[A\u001b[A\u001b[A\n",
            "\n",
            "\n",
            "\n",
            " 33%|█████████████████████▋                                           | 3/9 [01:07<02:17, 22.98s/it]\u001b[A\u001b[A\u001b[A\u001b[A\n",
            "\n",
            "\n",
            "\n",
            " 44%|████████████████████████████▉                                    | 4/9 [01:19<01:38, 19.66s/it]\u001b[A\u001b[A\u001b[A\u001b[A\n",
            "\n",
            "\n",
            "\n",
            " 56%|████████████████████████████████████                             | 5/9 [01:31<01:09, 17.35s/it]\u001b[A\u001b[A\u001b[A\u001b[A\n",
            "\n",
            "\n",
            "\n",
            " 67%|███████████████████████████████████████████▎                     | 6/9 [01:53<00:56, 18.86s/it]\u001b[A\u001b[A\u001b[A\u001b[A\n",
            "\n",
            "\n",
            "\n",
            " 78%|██████████████████████████████████████████████████▌              | 7/9 [02:15<00:39, 19.84s/it]\u001b[A\u001b[A\u001b[A\u001b[A\n",
            "\n",
            "\n",
            "\n",
            " 89%|█████████████████████████████████████████████████████████▊       | 8/9 [02:27<00:17, 17.53s/it]\u001b[A\u001b[A\u001b[A\u001b[A\n",
            "\n",
            "\n",
            "\n",
            "100%|█████████████████████████████████████████████████████████████████| 9/9 [02:50<00:00, 19.03s/it]\u001b[A\u001b[A\u001b[A\u001b[A\n",
            "\n",
            " *** Finished the prediction in: 0 hours and 2 minutes and 56.12 seconds.\n",
            " *** Detected: 2688 events.\n",
            " *** Wrote the results into --> \" /content/detections/CA06_outputs \"\n",
            "========= Started working on SV08, 3 out of 3 ...\n",
            "\n",
            "\n",
            "\n",
            "\n",
            "\n",
            "  0%|                                                                         | 0/9 [00:00<?, ?it/s]\u001b[A\u001b[A\u001b[A\u001b[A\u001b[A\n",
            "\n",
            "\n",
            "\n",
            "\n",
            " 22%|██████████████▍                                                  | 2/9 [00:52<03:03, 26.21s/it]\u001b[A\u001b[A\u001b[A\u001b[A\u001b[A\n",
            "\n",
            "\n",
            "\n",
            "\n",
            " 33%|█████████████████████▋                                           | 3/9 [01:06<02:15, 22.55s/it]\u001b[A\u001b[A\u001b[A\u001b[A\u001b[A\n",
            "\n",
            "\n",
            "\n",
            "\n",
            " 44%|████████████████████████████▉                                    | 4/9 [01:17<01:35, 19.12s/it]\u001b[A\u001b[A\u001b[A\u001b[A\u001b[A\n",
            "\n",
            "\n",
            "\n",
            "\n",
            " 56%|████████████████████████████████████                             | 5/9 [01:28<01:07, 16.78s/it]\u001b[A\u001b[A\u001b[A\u001b[A\u001b[A\n",
            "\n",
            "\n",
            "\n",
            "\n",
            " 67%|███████████████████████████████████████████▎                     | 6/9 [01:40<00:45, 15.19s/it]\u001b[A\u001b[A\u001b[A\u001b[A\u001b[A\n",
            "\n",
            "\n",
            "\n",
            "\n",
            " 78%|██████████████████████████████████████████████████▌              | 7/9 [01:52<00:28, 14.16s/it]\u001b[A\u001b[A\u001b[A\u001b[A\u001b[A\n",
            "\n",
            "\n",
            "\n",
            "\n",
            " 89%|█████████████████████████████████████████████████████████▊       | 8/9 [02:03<00:13, 13.44s/it]\u001b[A\u001b[A\u001b[A\u001b[A\u001b[A\n",
            "\n",
            "\n",
            "\n",
            "\n",
            "100%|█████████████████████████████████████████████████████████████████| 9/9 [02:26<00:00, 16.06s/it]\u001b[A\u001b[A\u001b[A\u001b[A\u001b[A\n",
            "\n",
            " *** Finished the prediction in: 0 hours and 2 minutes and 29.7 seconds.\n",
            " *** Detected: 1559 events.\n",
            " *** Wrote the results into --> \" /content/detections/SV08_outputs \"\n"
          ]
        },
        {
          "output_type": "display_data",
          "data": {
            "text/plain": [
              "<Figure size 576x432 with 0 Axes>"
            ]
          },
          "metadata": {}
        }
      ]
    },
    {
      "cell_type": "code",
      "source": [],
      "metadata": {
        "id": "ZOTWBy1XCfsQ"
      },
      "execution_count": null,
      "outputs": []
    },
    {
      "cell_type": "markdown",
      "metadata": {
        "id": "hRmeziYiZDSG"
      },
      "source": [
        "This will generate one `station_name.hdf5` and one `station_name.csv` file for each of your station’s data and put them into a directory named mseed_dir+_hdfs. Then you need to pass the name of this directory (which contains all of your hdf5 & CSV files) and a model to the following command:"
      ]
    },
    {
      "cell_type": "code",
      "metadata": {
        "colab": {
          "base_uri": "https://localhost:8080/",
          "height": 1000
        },
        "id": "Sedrw-BtLhkK",
        "outputId": "0f786fbc-615d-4b13-b151-c63cac619bdf"
      },
      "source": [
        "from EQTransformer.core.mseed_predictor import mseed_predictor\n",
        "\n",
        "mseed_predictor(input_dir='downloads_mseeds',\n",
        "                input_model='EQTransformer/ModelsAndSampleData/EqT_model.h5',\n",
        "                stations_json='json/station_list.json',\n",
        "                output_dir='detection_results',\n",
        "                detection_threshold=0.2,\n",
        "                P_threshold=0.1,\n",
        "                S_threshold=0.1,\n",
        "                number_of_plots=10,\n",
        "                plot_mode='time_frequency',\n",
        "                batch_size=500,\n",
        "                overlap=0.3)"
      ],
      "execution_count": null,
      "outputs": [
        {
          "metadata": {
            "tags": null
          },
          "name": "stderr",
          "output_type": "stream",
          "text": [
            "11-14 23:41 [INFO] [EQTransformer] Running EqTransformer  0.1.61\n",
            "11-14 23:41 [INFO] [EQTransformer] *** Loading the model ...\n",
            "11-14 23:41 [INFO] [EQTransformer] *** Loading is complete!\n",
            "11-14 23:41 [INFO] [EQTransformer] *** /content/detection_results already exists!\n"
          ]
        },
        {
          "name": "stdout",
          "output_type": "stream",
          "text": [
            " --> Type (Yes or y) to create a new empty directory! This will erase your previous results so make a copy if you want them.y\n"
          ]
        },
        {
          "output_type": "stream",
          "name": "stderr",
          "text": [
            "11-15 01:25 [INFO] [EQTransformer] There are files for 3 stations in downloads_mseeds directory.\n",
            "11-15 01:25 [INFO] [EQTransformer] Started working on B921, 1 out of 3 ...\n",
            "11-15 01:25 [INFO] [EQTransformer] 20190901T000000Z__20190902T000000Z.mseed\n",
            "11-15 01:26 [DEBUG] [matplotlib.font_manager] findfont: Matching serif:style=normal:variant=normal:weight=normal:stretch=condensed:size=12.0.\n",
            "11-15 01:26 [DEBUG] [matplotlib.font_manager] findfont: score(<Font 'DejaVu Sans Mono' (DejaVuSansMono-Bold.ttf) normal normal 700 normal>) = 10.535\n",
            "11-15 01:26 [DEBUG] [matplotlib.font_manager] findfont: score(<Font 'DejaVu Sans Display' (DejaVuSansDisplay.ttf) normal normal 400 normal>) = 10.25\n",
            "11-15 01:26 [DEBUG] [matplotlib.font_manager] findfont: score(<Font 'DejaVu Sans' (DejaVuSans.ttf) normal normal 400 normal>) = 10.25\n",
            "11-15 01:26 [DEBUG] [matplotlib.font_manager] findfont: score(<Font 'DejaVu Serif' (DejaVuSerif-Italic.ttf) italic normal 400 normal>) = 1.25\n",
            "11-15 01:26 [DEBUG] [matplotlib.font_manager] findfont: score(<Font 'STIXSizeFourSym' (STIXSizFourSymBol.ttf) normal normal 700 normal>) = 10.535\n",
            "11-15 01:26 [DEBUG] [matplotlib.font_manager] findfont: score(<Font 'STIXSizeFourSym' (STIXSizFourSymReg.ttf) normal normal regular normal>) = 10.25\n",
            "11-15 01:26 [DEBUG] [matplotlib.font_manager] findfont: score(<Font 'STIXNonUnicode' (STIXNonUni.ttf) normal normal regular normal>) = 10.25\n",
            "11-15 01:26 [DEBUG] [matplotlib.font_manager] findfont: score(<Font 'cmss10' (cmss10.ttf) normal normal 400 normal>) = 10.25\n",
            "11-15 01:26 [DEBUG] [matplotlib.font_manager] findfont: score(<Font 'STIXSizeOneSym' (STIXSizOneSymBol.ttf) normal normal 700 normal>) = 10.535\n",
            "11-15 01:26 [DEBUG] [matplotlib.font_manager] findfont: score(<Font 'STIXSizeThreeSym' (STIXSizThreeSymBol.ttf) normal normal 700 normal>) = 10.535\n",
            "11-15 01:26 [DEBUG] [matplotlib.font_manager] findfont: score(<Font 'STIXGeneral' (STIXGeneralItalic.ttf) italic normal 400 normal>) = 11.25\n",
            "11-15 01:26 [DEBUG] [matplotlib.font_manager] findfont: score(<Font 'STIXNonUnicode' (STIXNonUniIta.ttf) italic normal 400 normal>) = 11.25\n",
            "11-15 01:26 [DEBUG] [matplotlib.font_manager] findfont: score(<Font 'STIXSizeFiveSym' (STIXSizFiveSymReg.ttf) normal normal regular normal>) = 10.25\n",
            "11-15 01:26 [DEBUG] [matplotlib.font_manager] findfont: score(<Font 'STIXGeneral' (STIXGeneralBolIta.ttf) italic normal 700 normal>) = 11.535\n",
            "11-15 01:26 [DEBUG] [matplotlib.font_manager] findfont: score(<Font 'DejaVu Sans Mono' (DejaVuSansMono-BoldOblique.ttf) oblique normal 700 normal>) = 11.535\n",
            "11-15 01:26 [DEBUG] [matplotlib.font_manager] findfont: score(<Font 'DejaVu Sans Mono' (DejaVuSansMono-Oblique.ttf) oblique normal 400 normal>) = 11.25\n",
            "11-15 01:26 [DEBUG] [matplotlib.font_manager] findfont: score(<Font 'DejaVu Serif Display' (DejaVuSerifDisplay.ttf) normal normal 400 normal>) = 10.25\n",
            "11-15 01:26 [DEBUG] [matplotlib.font_manager] findfont: score(<Font 'DejaVu Sans' (DejaVuSans-Oblique.ttf) oblique normal 400 normal>) = 11.25\n",
            "11-15 01:26 [DEBUG] [matplotlib.font_manager] findfont: score(<Font 'cmsy10' (cmsy10.ttf) normal normal 400 normal>) = 10.25\n",
            "11-15 01:26 [DEBUG] [matplotlib.font_manager] findfont: score(<Font 'STIXNonUnicode' (STIXNonUniBolIta.ttf) italic normal 700 normal>) = 11.535\n",
            "11-15 01:26 [DEBUG] [matplotlib.font_manager] findfont: score(<Font 'STIXSizeTwoSym' (STIXSizTwoSymReg.ttf) normal normal regular normal>) = 10.25\n",
            "11-15 01:26 [DEBUG] [matplotlib.font_manager] findfont: score(<Font 'cmmi10' (cmmi10.ttf) normal normal 400 normal>) = 10.25\n",
            "11-15 01:26 [DEBUG] [matplotlib.font_manager] findfont: score(<Font 'DejaVu Sans' (DejaVuSans-BoldOblique.ttf) oblique normal 700 normal>) = 11.535\n",
            "11-15 01:26 [DEBUG] [matplotlib.font_manager] findfont: score(<Font 'DejaVu Serif' (DejaVuSerif.ttf) normal normal 400 normal>) = 0.25\n",
            "11-15 01:26 [DEBUG] [matplotlib.font_manager] findfont: score(<Font 'DejaVu Serif' (DejaVuSerif-BoldItalic.ttf) italic normal 700 normal>) = 1.535\n",
            "11-15 01:26 [DEBUG] [matplotlib.font_manager] findfont: score(<Font 'STIXGeneral' (STIXGeneralBol.ttf) normal normal 700 normal>) = 10.535\n",
            "11-15 01:26 [DEBUG] [matplotlib.font_manager] findfont: score(<Font 'DejaVu Serif' (DejaVuSerif-Bold.ttf) normal normal 700 normal>) = 0.5349999999999999\n",
            "11-15 01:26 [DEBUG] [matplotlib.font_manager] findfont: score(<Font 'STIXGeneral' (STIXGeneral.ttf) normal normal regular normal>) = 10.25\n",
            "11-15 01:26 [DEBUG] [matplotlib.font_manager] findfont: score(<Font 'STIXSizeOneSym' (STIXSizOneSymReg.ttf) normal normal regular normal>) = 10.25\n",
            "11-15 01:26 [DEBUG] [matplotlib.font_manager] findfont: score(<Font 'cmr10' (cmr10.ttf) normal normal 400 normal>) = 10.25\n",
            "11-15 01:26 [DEBUG] [matplotlib.font_manager] findfont: score(<Font 'STIXSizeTwoSym' (STIXSizTwoSymBol.ttf) normal normal 700 normal>) = 10.535\n",
            "11-15 01:26 [DEBUG] [matplotlib.font_manager] findfont: score(<Font 'cmtt10' (cmtt10.ttf) normal normal 400 normal>) = 10.25\n",
            "11-15 01:26 [DEBUG] [matplotlib.font_manager] findfont: score(<Font 'DejaVu Sans Mono' (DejaVuSansMono.ttf) normal normal 400 normal>) = 10.25\n",
            "11-15 01:26 [DEBUG] [matplotlib.font_manager] findfont: score(<Font 'cmex10' (cmex10.ttf) normal normal 400 normal>) = 10.25\n",
            "11-15 01:26 [DEBUG] [matplotlib.font_manager] findfont: score(<Font 'DejaVu Sans' (DejaVuSans-Bold.ttf) normal normal 700 normal>) = 10.535\n",
            "11-15 01:26 [DEBUG] [matplotlib.font_manager] findfont: score(<Font 'cmb10' (cmb10.ttf) normal normal 400 normal>) = 10.25\n",
            "11-15 01:26 [DEBUG] [matplotlib.font_manager] findfont: score(<Font 'STIXNonUnicode' (STIXNonUniBol.ttf) normal normal 700 normal>) = 10.535\n",
            "11-15 01:26 [DEBUG] [matplotlib.font_manager] findfont: score(<Font 'STIXSizeThreeSym' (STIXSizThreeSymReg.ttf) normal normal regular normal>) = 10.25\n",
            "11-15 01:26 [DEBUG] [matplotlib.font_manager] findfont: score(<Font 'Liberation Sans' (LiberationSans-Italic.ttf) italic normal 400 normal>) = 11.25\n",
            "11-15 01:26 [DEBUG] [matplotlib.font_manager] findfont: score(<Font 'Liberation Mono' (LiberationMono-Italic.ttf) italic normal 400 normal>) = 11.25\n",
            "11-15 01:26 [DEBUG] [matplotlib.font_manager] findfont: score(<Font 'Humor Sans' (Humor-Sans.ttf) normal normal 400 normal>) = 10.25\n",
            "11-15 01:26 [DEBUG] [matplotlib.font_manager] findfont: score(<Font 'Liberation Sans Narrow' (LiberationSansNarrow-Regular.ttf) normal normal 400 condensed>) = 10.05\n",
            "11-15 01:26 [DEBUG] [matplotlib.font_manager] findfont: score(<Font 'Liberation Mono' (LiberationMono-BoldItalic.ttf) italic normal 700 normal>) = 11.535\n",
            "11-15 01:26 [DEBUG] [matplotlib.font_manager] findfont: score(<Font 'Liberation Sans Narrow' (LiberationSansNarrow-BoldItalic.ttf) italic normal 700 condensed>) = 11.335\n",
            "11-15 01:26 [DEBUG] [matplotlib.font_manager] findfont: score(<Font 'Liberation Sans Narrow' (LiberationSansNarrow-Italic.ttf) italic normal 400 condensed>) = 11.05\n",
            "11-15 01:26 [DEBUG] [matplotlib.font_manager] findfont: score(<Font 'Liberation Serif' (LiberationSerif-Regular.ttf) normal normal 400 normal>) = 10.25\n",
            "11-15 01:26 [DEBUG] [matplotlib.font_manager] findfont: score(<Font 'Liberation Mono' (LiberationMono-Bold.ttf) normal normal 700 normal>) = 10.535\n",
            "11-15 01:26 [DEBUG] [matplotlib.font_manager] findfont: score(<Font 'Liberation Sans' (LiberationSans-Regular.ttf) normal normal 400 normal>) = 10.25\n",
            "11-15 01:26 [DEBUG] [matplotlib.font_manager] findfont: score(<Font 'Liberation Sans Narrow' (LiberationSansNarrow-Bold.ttf) normal normal 700 condensed>) = 10.335\n",
            "11-15 01:26 [DEBUG] [matplotlib.font_manager] findfont: score(<Font 'Liberation Serif' (LiberationSerif-Bold.ttf) normal normal 700 normal>) = 10.535\n",
            "11-15 01:26 [DEBUG] [matplotlib.font_manager] findfont: score(<Font 'Liberation Serif' (LiberationSerif-BoldItalic.ttf) italic normal 700 normal>) = 11.535\n",
            "11-15 01:26 [DEBUG] [matplotlib.font_manager] findfont: score(<Font 'Liberation Sans' (LiberationSans-Bold.ttf) normal normal 700 normal>) = 10.535\n",
            "11-15 01:26 [DEBUG] [matplotlib.font_manager] findfont: score(<Font 'Liberation Sans' (LiberationSans-BoldItalic.ttf) italic normal 700 normal>) = 11.535\n",
            "11-15 01:26 [DEBUG] [matplotlib.font_manager] findfont: score(<Font 'Liberation Mono' (LiberationMono-Regular.ttf) normal normal 400 normal>) = 10.25\n",
            "11-15 01:26 [DEBUG] [matplotlib.font_manager] findfont: score(<Font 'Liberation Serif' (LiberationSerif-Italic.ttf) italic normal 400 normal>) = 11.25\n",
            "11-15 01:26 [DEBUG] [matplotlib.font_manager] findfont: Matching serif:style=normal:variant=normal:weight=normal:stretch=condensed:size=12.0 to DejaVu Serif ('/usr/local/lib/python3.7/dist-packages/matplotlib/mpl-data/fonts/ttf/DejaVuSerif.ttf') with score of 0.250000.\n",
            "11-15 01:26 [INFO] [EQTransformer] 20190902T000000Z__20190903T000000Z.mseed\n"
          ]
        },
        {
          "output_type": "stream",
          "name": "stdout",
          "text": [
            "\n",
            "\n"
          ]
        },
        {
          "output_type": "stream",
          "name": "stderr",
          "text": [
            "11-15 01:27 [INFO] [EQTransformer] Finished the prediction in: 0 hours and 1 minutes and 51.34 seconds.\n",
            "11-15 01:27 [INFO] [EQTransformer] *** Detected: 2926 events.\n",
            "11-15 01:27 [INFO] [EQTransformer]  *** Wrote the results into --> \" /content/detection_results/B921_outputs \"\n",
            "11-15 01:27 [INFO] [EQTransformer] Started working on CA06, 2 out of 3 ...\n",
            "11-15 01:27 [INFO] [EQTransformer] 20190901T000000Z__20190902T000000Z.mseed\n",
            "11-15 01:27 [INFO] [EQTransformer] 20190902T000000Z__20190903T000000Z.mseed\n"
          ]
        },
        {
          "output_type": "stream",
          "name": "stdout",
          "text": [
            "\n",
            "\n"
          ]
        },
        {
          "output_type": "stream",
          "name": "stderr",
          "text": [
            "11-15 01:28 [INFO] [EQTransformer] Finished the prediction in: 0 hours and 1 minutes and 25.2 seconds.\n",
            "11-15 01:28 [INFO] [EQTransformer] *** Detected: 2879 events.\n",
            "11-15 01:28 [INFO] [EQTransformer]  *** Wrote the results into --> \" /content/detection_results/CA06_outputs \"\n",
            "11-15 01:28 [INFO] [EQTransformer] Started working on SV08, 3 out of 3 ...\n",
            "11-15 01:28 [INFO] [EQTransformer] 20190901T000000Z__20190902T000000Z.mseed\n",
            "11-15 01:29 [INFO] [EQTransformer] 20190902T000000Z__20190903T000000Z.mseed\n"
          ]
        },
        {
          "output_type": "stream",
          "name": "stdout",
          "text": [
            "\n",
            "\n"
          ]
        },
        {
          "output_type": "stream",
          "name": "stderr",
          "text": [
            "11-15 01:29 [INFO] [EQTransformer] Finished the prediction in: 0 hours and 1 minutes and 22.6 seconds.\n",
            "11-15 01:29 [INFO] [EQTransformer] *** Detected: 1648 events.\n",
            "11-15 01:29 [INFO] [EQTransformer]  *** Wrote the results into --> \" /content/detection_results/SV08_outputs \"\n"
          ]
        },
        {
          "output_type": "display_data",
          "data": {
            "text/plain": [
              "<Figure size 720x720 with 0 Axes>"
            ]
          },
          "metadata": {}
        }
      ]
    },
    {
      "cell_type": "code",
      "source": [],
      "metadata": {
        "id": "QMFHG3MtKroF"
      },
      "execution_count": null,
      "outputs": []
    },
    {
      "cell_type": "markdown",
      "metadata": {
        "id": "BpD0pIq2ZOuj"
      },
      "source": [
        "## Option (II) directly from mseed files:\n",
        "You can perform the detection & phase picking directly on downloaded MiniSeed files. This saves both preprocessing time and the extra space needed for the hdf5 file and is recommended for larger (longer) datasets. However, it can be more memory intensive. So it is better to have your MiniSeed fils being shorter than one month or so.\n",
        "\n",
        "This option also does not allow you to estimate the uncertainties, save the prediction probabilities, or use the advantages of having hdf5 files which makes it easy to access the raw event waveforms based on detection results."
      ]
    },
    {
      "cell_type": "code",
      "metadata": {
        "id": "lrqn9z0-LKu6"
      },
      "source": [
        "from EQTransformer.core.mseed_predictor import mseed_predictor"
      ],
      "execution_count": 40,
      "outputs": []
    },
    {
      "cell_type": "code",
      "metadata": {
        "colab": {
          "base_uri": "https://localhost:8080/",
          "height": 446
        },
        "id": "RX2DROQkKxU8",
        "outputId": "781d0535-146b-4521-db6c-c556da95110f"
      },
      "source": [
        "\n",
        "mseed_predictor(input_dir='downloads_mseeds',\n",
        "                input_model='/content/EQTransformer/ModelsAndSampleData/EqT_original_model.h5',\n",
        "                stations_json='json/station_list.json',\n",
        "                output_dir='detection_results',\n",
        "                detection_threshold=0.2,\n",
        "                P_threshold=0.1,\n",
        "                S_threshold=0.1,\n",
        "                number_of_plots=10,\n",
        "                plot_mode='time_frequency',\n",
        "                batch_size=500,\n",
        "                overlap=0.3)"
      ],
      "execution_count": 39,
      "outputs": [
        {
          "name": "stdout",
          "output_type": "stream",
          "text": [
            " --> Type (Yes or y) to create a new empty directory! This will erase your previous results so make a copy if you want them.y\n"
          ]
        },
        {
          "output_type": "error",
          "ename": "TypeError",
          "evalue": "Dimensions of C (41, 151) should be one smaller than X(151) and Y(41) while using shading='flat' see help(pcolormesh)",
          "traceback": [
            "\u001b[0;31m---------------------------------------------------------------------------\u001b[0m",
            "\u001b[0;31mTypeError\u001b[0m                                 Traceback (most recent call last)",
            "\u001b[0;32m<ipython-input-39-830e50052bc5>\u001b[0m in \u001b[0;36m<cell line: 1>\u001b[0;34m()\u001b[0m\n\u001b[0;32m----> 1\u001b[0;31m mseed_predictor(input_dir='downloads_mseeds',   \n\u001b[0m\u001b[1;32m      2\u001b[0m                 \u001b[0minput_model\u001b[0m\u001b[0;34m=\u001b[0m\u001b[0;34m'/content/EQTransformer/ModelsAndSampleData/EqT_original_model.h5'\u001b[0m\u001b[0;34m,\u001b[0m\u001b[0;34m\u001b[0m\u001b[0;34m\u001b[0m\u001b[0m\n\u001b[1;32m      3\u001b[0m                 \u001b[0mstations_json\u001b[0m\u001b[0;34m=\u001b[0m\u001b[0;34m'json/station_list.json'\u001b[0m\u001b[0;34m,\u001b[0m\u001b[0;34m\u001b[0m\u001b[0;34m\u001b[0m\u001b[0m\n\u001b[1;32m      4\u001b[0m                 \u001b[0moutput_dir\u001b[0m\u001b[0;34m=\u001b[0m\u001b[0;34m'detection_results'\u001b[0m\u001b[0;34m,\u001b[0m\u001b[0;34m\u001b[0m\u001b[0;34m\u001b[0m\u001b[0m\n\u001b[1;32m      5\u001b[0m                 \u001b[0mdetection_threshold\u001b[0m\u001b[0;34m=\u001b[0m\u001b[0;36m0.2\u001b[0m\u001b[0;34m,\u001b[0m\u001b[0;34m\u001b[0m\u001b[0;34m\u001b[0m\u001b[0m\n",
            "\u001b[0;32m/content/EQTransformer/EQTransformer/core/mseed_predictor.py\u001b[0m in \u001b[0;36mmseed_predictor\u001b[0;34m(input_dir, input_model, stations_json, output_dir, detection_threshold, P_threshold, S_threshold, number_of_plots, plot_mode, loss_weights, loss_types, normalization_mode, batch_size, overlap, gpuid, gpu_limit, overwrite, output_probabilities)\u001b[0m\n\u001b[1;32m    330\u001b[0m \u001b[0;34m\u001b[0m\u001b[0m\n\u001b[1;32m    331\u001b[0m                     \u001b[0;32mif\u001b[0m \u001b[0mplt_n\u001b[0m \u001b[0;34m<\u001b[0m \u001b[0margs\u001b[0m\u001b[0;34m[\u001b[0m\u001b[0;34m'number_of_plots'\u001b[0m\u001b[0;34m]\u001b[0m \u001b[0;32mand\u001b[0m \u001b[0mpost_write\u001b[0m \u001b[0;34m>\u001b[0m \u001b[0mpre_write\u001b[0m\u001b[0;34m:\u001b[0m\u001b[0;34m\u001b[0m\u001b[0;34m\u001b[0m\u001b[0m\n\u001b[0;32m--> 332\u001b[0;31m                         \u001b[0m_plotter_prediction\u001b[0m\u001b[0;34m(\u001b[0m\u001b[0mdata_set\u001b[0m\u001b[0;34m[\u001b[0m\u001b[0mmeta\u001b[0m\u001b[0;34m[\u001b[0m\u001b[0;34m\"trace_start_time\"\u001b[0m\u001b[0;34m]\u001b[0m\u001b[0;34m[\u001b[0m\u001b[0mix\u001b[0m\u001b[0;34m]\u001b[0m\u001b[0;34m]\u001b[0m\u001b[0;34m,\u001b[0m \u001b[0margs\u001b[0m\u001b[0;34m,\u001b[0m \u001b[0msave_figs\u001b[0m\u001b[0;34m,\u001b[0m \u001b[0mpredD\u001b[0m\u001b[0;34m[\u001b[0m\u001b[0mix\u001b[0m\u001b[0;34m]\u001b[0m\u001b[0;34m[\u001b[0m\u001b[0;34m:\u001b[0m\u001b[0;34m,\u001b[0m \u001b[0;36m0\u001b[0m\u001b[0;34m]\u001b[0m\u001b[0;34m,\u001b[0m \u001b[0mpredP\u001b[0m\u001b[0;34m[\u001b[0m\u001b[0mix\u001b[0m\u001b[0;34m]\u001b[0m\u001b[0;34m[\u001b[0m\u001b[0;34m:\u001b[0m\u001b[0;34m,\u001b[0m \u001b[0;36m0\u001b[0m\u001b[0;34m]\u001b[0m\u001b[0;34m,\u001b[0m \u001b[0mpredS\u001b[0m\u001b[0;34m[\u001b[0m\u001b[0mix\u001b[0m\u001b[0;34m]\u001b[0m\u001b[0;34m[\u001b[0m\u001b[0;34m:\u001b[0m\u001b[0;34m,\u001b[0m \u001b[0;36m0\u001b[0m\u001b[0;34m]\u001b[0m\u001b[0;34m,\u001b[0m \u001b[0mmeta\u001b[0m\u001b[0;34m[\u001b[0m\u001b[0;34m\"trace_start_time\"\u001b[0m\u001b[0;34m]\u001b[0m\u001b[0;34m[\u001b[0m\u001b[0mix\u001b[0m\u001b[0;34m]\u001b[0m\u001b[0;34m,\u001b[0m \u001b[0mmatches\u001b[0m\u001b[0;34m)\u001b[0m\u001b[0;34m\u001b[0m\u001b[0;34m\u001b[0m\u001b[0m\n\u001b[0m\u001b[1;32m    333\u001b[0m                         \u001b[0mplt_n\u001b[0m \u001b[0;34m+=\u001b[0m \u001b[0;36m1\u001b[0m\u001b[0;34m\u001b[0m\u001b[0;34m\u001b[0m\u001b[0m\n\u001b[1;32m    334\u001b[0m \u001b[0;34m\u001b[0m\u001b[0m\n",
            "\u001b[0;32m/content/EQTransformer/EQTransformer/core/mseed_predictor.py\u001b[0m in \u001b[0;36m_plotter_prediction\u001b[0;34m(data, args, save_figs, yh1, yh2, yh3, evi, matches)\u001b[0m\n\u001b[1;32m   1145\u001b[0m         \u001b[0mf\u001b[0m\u001b[0;34m,\u001b[0m \u001b[0mt\u001b[0m\u001b[0;34m,\u001b[0m \u001b[0mPxx\u001b[0m \u001b[0;34m=\u001b[0m \u001b[0msignal\u001b[0m\u001b[0;34m.\u001b[0m\u001b[0mstft\u001b[0m\u001b[0;34m(\u001b[0m\u001b[0mdata\u001b[0m\u001b[0;34m[\u001b[0m\u001b[0;34m:\u001b[0m\u001b[0;34m,\u001b[0m \u001b[0;36m0\u001b[0m\u001b[0;34m]\u001b[0m\u001b[0;34m,\u001b[0m \u001b[0mfs\u001b[0m\u001b[0;34m=\u001b[0m\u001b[0;36m100\u001b[0m\u001b[0;34m,\u001b[0m \u001b[0mnperseg\u001b[0m\u001b[0;34m=\u001b[0m\u001b[0;36m80\u001b[0m\u001b[0;34m)\u001b[0m\u001b[0;34m\u001b[0m\u001b[0;34m\u001b[0m\u001b[0m\n\u001b[1;32m   1146\u001b[0m         \u001b[0mPxx\u001b[0m \u001b[0;34m=\u001b[0m \u001b[0mnp\u001b[0m\u001b[0;34m.\u001b[0m\u001b[0mabs\u001b[0m\u001b[0;34m(\u001b[0m\u001b[0mPxx\u001b[0m\u001b[0;34m)\u001b[0m\u001b[0;34m\u001b[0m\u001b[0;34m\u001b[0m\u001b[0m\n\u001b[0;32m-> 1147\u001b[0;31m         \u001b[0mplt\u001b[0m\u001b[0;34m.\u001b[0m\u001b[0mpcolormesh\u001b[0m\u001b[0;34m(\u001b[0m\u001b[0mt\u001b[0m\u001b[0;34m,\u001b[0m \u001b[0mf\u001b[0m\u001b[0;34m,\u001b[0m \u001b[0mPxx\u001b[0m\u001b[0;34m,\u001b[0m \u001b[0malpha\u001b[0m\u001b[0;34m=\u001b[0m\u001b[0;32mNone\u001b[0m\u001b[0;34m,\u001b[0m \u001b[0mcmap\u001b[0m\u001b[0;34m=\u001b[0m\u001b[0;34m'hot'\u001b[0m\u001b[0;34m,\u001b[0m \u001b[0mshading\u001b[0m\u001b[0;34m=\u001b[0m\u001b[0;34m'flat'\u001b[0m\u001b[0;34m,\u001b[0m \u001b[0mantialiased\u001b[0m\u001b[0;34m=\u001b[0m\u001b[0;32mTrue\u001b[0m\u001b[0;34m)\u001b[0m\u001b[0;34m\u001b[0m\u001b[0;34m\u001b[0m\u001b[0m\n\u001b[0m\u001b[1;32m   1148\u001b[0m         \u001b[0mplt\u001b[0m\u001b[0;34m.\u001b[0m\u001b[0mylim\u001b[0m\u001b[0;34m(\u001b[0m\u001b[0;36m0\u001b[0m\u001b[0;34m,\u001b[0m \u001b[0;36m40\u001b[0m\u001b[0;34m)\u001b[0m\u001b[0;34m\u001b[0m\u001b[0;34m\u001b[0m\u001b[0m\n\u001b[1;32m   1149\u001b[0m         \u001b[0mplt\u001b[0m\u001b[0;34m.\u001b[0m\u001b[0mtext\u001b[0m\u001b[0;34m(\u001b[0m\u001b[0;36m1\u001b[0m\u001b[0;34m,\u001b[0m \u001b[0;36m1\u001b[0m\u001b[0;34m,\u001b[0m \u001b[0;34m'STFT'\u001b[0m\u001b[0;34m,\u001b[0m \u001b[0mfontdict\u001b[0m\u001b[0;34m=\u001b[0m\u001b[0mfont0\u001b[0m\u001b[0;34m)\u001b[0m\u001b[0;34m\u001b[0m\u001b[0;34m\u001b[0m\u001b[0m\n",
            "\u001b[0;32m/usr/local/lib/python3.10/dist-packages/matplotlib/pyplot.py\u001b[0m in \u001b[0;36mpcolormesh\u001b[0;34m(alpha, norm, cmap, vmin, vmax, shading, antialiased, data, *args, **kwargs)\u001b[0m\n\u001b[1;32m   2771\u001b[0m         \u001b[0mvmax\u001b[0m\u001b[0;34m=\u001b[0m\u001b[0;32mNone\u001b[0m\u001b[0;34m,\u001b[0m \u001b[0mshading\u001b[0m\u001b[0;34m=\u001b[0m\u001b[0;32mNone\u001b[0m\u001b[0;34m,\u001b[0m \u001b[0mantialiased\u001b[0m\u001b[0;34m=\u001b[0m\u001b[0;32mFalse\u001b[0m\u001b[0;34m,\u001b[0m \u001b[0mdata\u001b[0m\u001b[0;34m=\u001b[0m\u001b[0;32mNone\u001b[0m\u001b[0;34m,\u001b[0m\u001b[0;34m\u001b[0m\u001b[0;34m\u001b[0m\u001b[0m\n\u001b[1;32m   2772\u001b[0m         **kwargs):\n\u001b[0;32m-> 2773\u001b[0;31m     __ret = gca().pcolormesh(\n\u001b[0m\u001b[1;32m   2774\u001b[0m         \u001b[0;34m*\u001b[0m\u001b[0margs\u001b[0m\u001b[0;34m,\u001b[0m \u001b[0malpha\u001b[0m\u001b[0;34m=\u001b[0m\u001b[0malpha\u001b[0m\u001b[0;34m,\u001b[0m \u001b[0mnorm\u001b[0m\u001b[0;34m=\u001b[0m\u001b[0mnorm\u001b[0m\u001b[0;34m,\u001b[0m \u001b[0mcmap\u001b[0m\u001b[0;34m=\u001b[0m\u001b[0mcmap\u001b[0m\u001b[0;34m,\u001b[0m \u001b[0mvmin\u001b[0m\u001b[0;34m=\u001b[0m\u001b[0mvmin\u001b[0m\u001b[0;34m,\u001b[0m\u001b[0;34m\u001b[0m\u001b[0;34m\u001b[0m\u001b[0m\n\u001b[1;32m   2775\u001b[0m         \u001b[0mvmax\u001b[0m\u001b[0;34m=\u001b[0m\u001b[0mvmax\u001b[0m\u001b[0;34m,\u001b[0m \u001b[0mshading\u001b[0m\u001b[0;34m=\u001b[0m\u001b[0mshading\u001b[0m\u001b[0;34m,\u001b[0m \u001b[0mantialiased\u001b[0m\u001b[0;34m=\u001b[0m\u001b[0mantialiased\u001b[0m\u001b[0;34m,\u001b[0m\u001b[0;34m\u001b[0m\u001b[0;34m\u001b[0m\u001b[0m\n",
            "\u001b[0;32m/usr/local/lib/python3.10/dist-packages/matplotlib/__init__.py\u001b[0m in \u001b[0;36minner\u001b[0;34m(ax, data, *args, **kwargs)\u001b[0m\n\u001b[1;32m   1440\u001b[0m     \u001b[0;32mdef\u001b[0m \u001b[0minner\u001b[0m\u001b[0;34m(\u001b[0m\u001b[0max\u001b[0m\u001b[0;34m,\u001b[0m \u001b[0;34m*\u001b[0m\u001b[0margs\u001b[0m\u001b[0;34m,\u001b[0m \u001b[0mdata\u001b[0m\u001b[0;34m=\u001b[0m\u001b[0;32mNone\u001b[0m\u001b[0;34m,\u001b[0m \u001b[0;34m**\u001b[0m\u001b[0mkwargs\u001b[0m\u001b[0;34m)\u001b[0m\u001b[0;34m:\u001b[0m\u001b[0;34m\u001b[0m\u001b[0;34m\u001b[0m\u001b[0m\n\u001b[1;32m   1441\u001b[0m         \u001b[0;32mif\u001b[0m \u001b[0mdata\u001b[0m \u001b[0;32mis\u001b[0m \u001b[0;32mNone\u001b[0m\u001b[0;34m:\u001b[0m\u001b[0;34m\u001b[0m\u001b[0;34m\u001b[0m\u001b[0m\n\u001b[0;32m-> 1442\u001b[0;31m             \u001b[0;32mreturn\u001b[0m \u001b[0mfunc\u001b[0m\u001b[0;34m(\u001b[0m\u001b[0max\u001b[0m\u001b[0;34m,\u001b[0m \u001b[0;34m*\u001b[0m\u001b[0mmap\u001b[0m\u001b[0;34m(\u001b[0m\u001b[0msanitize_sequence\u001b[0m\u001b[0;34m,\u001b[0m \u001b[0margs\u001b[0m\u001b[0;34m)\u001b[0m\u001b[0;34m,\u001b[0m \u001b[0;34m**\u001b[0m\u001b[0mkwargs\u001b[0m\u001b[0;34m)\u001b[0m\u001b[0;34m\u001b[0m\u001b[0;34m\u001b[0m\u001b[0m\n\u001b[0m\u001b[1;32m   1443\u001b[0m \u001b[0;34m\u001b[0m\u001b[0m\n\u001b[1;32m   1444\u001b[0m         \u001b[0mbound\u001b[0m \u001b[0;34m=\u001b[0m \u001b[0mnew_sig\u001b[0m\u001b[0;34m.\u001b[0m\u001b[0mbind\u001b[0m\u001b[0;34m(\u001b[0m\u001b[0max\u001b[0m\u001b[0;34m,\u001b[0m \u001b[0;34m*\u001b[0m\u001b[0margs\u001b[0m\u001b[0;34m,\u001b[0m \u001b[0;34m**\u001b[0m\u001b[0mkwargs\u001b[0m\u001b[0;34m)\u001b[0m\u001b[0;34m\u001b[0m\u001b[0;34m\u001b[0m\u001b[0m\n",
            "\u001b[0;32m/usr/local/lib/python3.10/dist-packages/matplotlib/axes/_axes.py\u001b[0m in \u001b[0;36mpcolormesh\u001b[0;34m(self, alpha, norm, cmap, vmin, vmax, shading, antialiased, *args, **kwargs)\u001b[0m\n\u001b[1;32m   6218\u001b[0m         \u001b[0mkwargs\u001b[0m\u001b[0;34m.\u001b[0m\u001b[0msetdefault\u001b[0m\u001b[0;34m(\u001b[0m\u001b[0;34m'edgecolors'\u001b[0m\u001b[0;34m,\u001b[0m \u001b[0;34m'none'\u001b[0m\u001b[0;34m)\u001b[0m\u001b[0;34m\u001b[0m\u001b[0;34m\u001b[0m\u001b[0m\n\u001b[1;32m   6219\u001b[0m \u001b[0;34m\u001b[0m\u001b[0m\n\u001b[0;32m-> 6220\u001b[0;31m         X, Y, C, shading = self._pcolorargs('pcolormesh', *args,\n\u001b[0m\u001b[1;32m   6221\u001b[0m                                             shading=shading, kwargs=kwargs)\n\u001b[1;32m   6222\u001b[0m         \u001b[0mcoords\u001b[0m \u001b[0;34m=\u001b[0m \u001b[0mnp\u001b[0m\u001b[0;34m.\u001b[0m\u001b[0mstack\u001b[0m\u001b[0;34m(\u001b[0m\u001b[0;34m[\u001b[0m\u001b[0mX\u001b[0m\u001b[0;34m,\u001b[0m \u001b[0mY\u001b[0m\u001b[0;34m]\u001b[0m\u001b[0;34m,\u001b[0m \u001b[0maxis\u001b[0m\u001b[0;34m=\u001b[0m\u001b[0;34m-\u001b[0m\u001b[0;36m1\u001b[0m\u001b[0;34m)\u001b[0m\u001b[0;34m\u001b[0m\u001b[0;34m\u001b[0m\u001b[0m\n",
            "\u001b[0;32m/usr/local/lib/python3.10/dist-packages/matplotlib/axes/_axes.py\u001b[0m in \u001b[0;36m_pcolorargs\u001b[0;34m(self, funcname, shading, *args, **kwargs)\u001b[0m\n\u001b[1;32m   5749\u001b[0m         \u001b[0;32mif\u001b[0m \u001b[0mshading\u001b[0m \u001b[0;34m==\u001b[0m \u001b[0;34m'flat'\u001b[0m\u001b[0;34m:\u001b[0m\u001b[0;34m\u001b[0m\u001b[0;34m\u001b[0m\u001b[0m\n\u001b[1;32m   5750\u001b[0m             \u001b[0;32mif\u001b[0m \u001b[0;34m(\u001b[0m\u001b[0mNx\u001b[0m\u001b[0;34m,\u001b[0m \u001b[0mNy\u001b[0m\u001b[0;34m)\u001b[0m \u001b[0;34m!=\u001b[0m \u001b[0;34m(\u001b[0m\u001b[0mncols\u001b[0m \u001b[0;34m+\u001b[0m \u001b[0;36m1\u001b[0m\u001b[0;34m,\u001b[0m \u001b[0mnrows\u001b[0m \u001b[0;34m+\u001b[0m \u001b[0;36m1\u001b[0m\u001b[0;34m)\u001b[0m\u001b[0;34m:\u001b[0m\u001b[0;34m\u001b[0m\u001b[0;34m\u001b[0m\u001b[0m\n\u001b[0;32m-> 5751\u001b[0;31m                 raise TypeError(f\"Dimensions of C {C.shape} should\"\n\u001b[0m\u001b[1;32m   5752\u001b[0m                                 \u001b[0;34mf\" be one smaller than X({Nx}) and Y({Ny})\"\u001b[0m\u001b[0;34m\u001b[0m\u001b[0;34m\u001b[0m\u001b[0m\n\u001b[1;32m   5753\u001b[0m                                 \u001b[0;34mf\" while using shading='flat'\"\u001b[0m\u001b[0;34m\u001b[0m\u001b[0;34m\u001b[0m\u001b[0m\n",
            "\u001b[0;31mTypeError\u001b[0m: Dimensions of C (41, 151) should be one smaller than X(151) and Y(41) while using shading='flat' see help(pcolormesh)"
          ]
        }
      ]
    },
    {
      "cell_type": "code",
      "metadata": {
        "id": "scbAYKdLOBT-",
        "colab": {
          "base_uri": "https://localhost:8080/",
          "height": 339
        },
        "outputId": "670fdf4c-8ccc-4a70-cf02-21dcd68789f4"
      },
      "source": [
        "import json\n",
        "import numpy as np\n",
        "from obspy.core import Stream, Trace, UTCDateTime\n",
        "import os\n",
        "\n",
        "def read_json(json_path):\n",
        "    \"\"\" Load JSON data from a file. \"\"\"\n",
        "    with open(json_path, 'r') as file:\n",
        "        data = json.load(file)\n",
        "    return data\n",
        "\n",
        "def json_to_mseed(json_data, output_dir, sampling_rate=100):\n",
        "    \"\"\" Convert JSON entries to MiniSEED format, segmenting into one-hour windows. \"\"\"\n",
        "    if not os.path.exists(output_dir):\n",
        "        os.makedirs(output_dir)\n",
        "\n",
        "    # Initialize storage for time series data\n",
        "    timeseries_data = {'X': [], 'Y': [], 'Z': []}\n",
        "    timestamps = []\n",
        "\n",
        "    for entry in json_data:\n",
        "        # Collect all data points and their timestamps\n",
        "        utc_time = UTCDateTime(entry['start_time'])\n",
        "        timestamps.append(utc_time)\n",
        "        for component in ['X', 'Y', 'Z']:\n",
        "            timeseries_data[component].append(entry['data']['timeseries'][component])\n",
        "\n",
        "    # Convert lists to numpy arrays\n",
        "    for component in timeseries_data:\n",
        "        timeseries_data[component] = np.array(timeseries_data[component], dtype=float)\n",
        "\n",
        "    timestamps = np.array(timestamps)\n",
        "\n",
        "    # Determine the range of timestamps and segment into one-hour intervals\n",
        "    start_time = min(timestamps)\n",
        "    end_time = max(timestamps)\n",
        "    current_time = start_time\n",
        "\n",
        "    while current_time <= end_time:\n",
        "        next_time = current_time + 3600  # One hour later\n",
        "        # Select indices for the current one-hour segment\n",
        "        indices = (timestamps >= current_time) & (timestamps < next_time)\n",
        "\n",
        "        if np.any(indices):  # Ensure 'indices' is used correctly with numpy.any()\n",
        "            traces = []\n",
        "            for component in ['X', 'Y', 'Z']:\n",
        "                segment_data = timeseries_data[component][indices]\n",
        "                if len(segment_data) > 0:\n",
        "                    trace = Trace(data=segment_data)\n",
        "                    trace.stats.station = \"MOB1\"\n",
        "                    trace.stats.network = 'XX'\n",
        "                    trace.stats.location = ''\n",
        "                    trace.stats.channel = component\n",
        "                    trace.stats.starttime = current_time\n",
        "                    trace.stats.sampling_rate = sampling_rate\n",
        "                    traces.append(trace)\n",
        "\n",
        "            if traces:\n",
        "                stream = Stream(traces=traces)\n",
        "                filename = f\"{current_time.strftime('%Y%m%dT%H%M%S')}.mseed\"\n",
        "                stream.write(os.path.join(output_dir, filename), format='MSEED')\n",
        "\n",
        "        current_time = next_time\n",
        "\n",
        "def main():\n",
        "    json_path = '/content/EQTransformer/output2.json'\n",
        "    output_dir = '/content/EQTransformer/sss'\n",
        "    json_data = read_json(json_path)\n",
        "    json_to_mseed(json_data, output_dir)\n",
        "    print(\"Conversion to MiniSEED completed for each one-hour window.\")\n",
        "\n",
        "if __name__ == \"__main__\":\n",
        "    main()\n"
      ],
      "execution_count": 45,
      "outputs": [
        {
          "output_type": "error",
          "ename": "KeyboardInterrupt",
          "evalue": "",
          "traceback": [
            "\u001b[0;31m---------------------------------------------------------------------------\u001b[0m",
            "\u001b[0;31mKeyboardInterrupt\u001b[0m                         Traceback (most recent call last)",
            "\u001b[0;32m<ipython-input-45-91baca03e7a2>\u001b[0m in \u001b[0;36m<cell line: 72>\u001b[0;34m()\u001b[0m\n\u001b[1;32m     71\u001b[0m \u001b[0;34m\u001b[0m\u001b[0m\n\u001b[1;32m     72\u001b[0m \u001b[0;32mif\u001b[0m \u001b[0m__name__\u001b[0m \u001b[0;34m==\u001b[0m \u001b[0;34m\"__main__\"\u001b[0m\u001b[0;34m:\u001b[0m\u001b[0;34m\u001b[0m\u001b[0;34m\u001b[0m\u001b[0m\n\u001b[0;32m---> 73\u001b[0;31m     \u001b[0mmain\u001b[0m\u001b[0;34m(\u001b[0m\u001b[0;34m)\u001b[0m\u001b[0;34m\u001b[0m\u001b[0;34m\u001b[0m\u001b[0m\n\u001b[0m",
            "\u001b[0;32m<ipython-input-45-91baca03e7a2>\u001b[0m in \u001b[0;36mmain\u001b[0;34m()\u001b[0m\n\u001b[1;32m     67\u001b[0m     \u001b[0moutput_dir\u001b[0m \u001b[0;34m=\u001b[0m \u001b[0;34m'/content/EQTransformer/sss'\u001b[0m\u001b[0;34m\u001b[0m\u001b[0;34m\u001b[0m\u001b[0m\n\u001b[1;32m     68\u001b[0m     \u001b[0mjson_data\u001b[0m \u001b[0;34m=\u001b[0m \u001b[0mread_json\u001b[0m\u001b[0;34m(\u001b[0m\u001b[0mjson_path\u001b[0m\u001b[0;34m)\u001b[0m\u001b[0;34m\u001b[0m\u001b[0;34m\u001b[0m\u001b[0m\n\u001b[0;32m---> 69\u001b[0;31m     \u001b[0mjson_to_mseed\u001b[0m\u001b[0;34m(\u001b[0m\u001b[0mjson_data\u001b[0m\u001b[0;34m,\u001b[0m \u001b[0moutput_dir\u001b[0m\u001b[0;34m)\u001b[0m\u001b[0;34m\u001b[0m\u001b[0;34m\u001b[0m\u001b[0m\n\u001b[0m\u001b[1;32m     70\u001b[0m     \u001b[0mprint\u001b[0m\u001b[0;34m(\u001b[0m\u001b[0;34m\"Conversion to MiniSEED completed for each one-hour window.\"\u001b[0m\u001b[0;34m)\u001b[0m\u001b[0;34m\u001b[0m\u001b[0;34m\u001b[0m\u001b[0m\n\u001b[1;32m     71\u001b[0m \u001b[0;34m\u001b[0m\u001b[0m\n",
            "\u001b[0;32m<ipython-input-45-91baca03e7a2>\u001b[0m in \u001b[0;36mjson_to_mseed\u001b[0;34m(json_data, output_dir, sampling_rate)\u001b[0m\n\u001b[1;32m     40\u001b[0m         \u001b[0mnext_time\u001b[0m \u001b[0;34m=\u001b[0m \u001b[0mcurrent_time\u001b[0m \u001b[0;34m+\u001b[0m \u001b[0;36m3600\u001b[0m  \u001b[0;31m# One hour later\u001b[0m\u001b[0;34m\u001b[0m\u001b[0;34m\u001b[0m\u001b[0m\n\u001b[1;32m     41\u001b[0m         \u001b[0;31m# Select indices for the current one-hour segment\u001b[0m\u001b[0;34m\u001b[0m\u001b[0;34m\u001b[0m\u001b[0m\n\u001b[0;32m---> 42\u001b[0;31m         \u001b[0mindices\u001b[0m \u001b[0;34m=\u001b[0m \u001b[0;34m(\u001b[0m\u001b[0mtimestamps\u001b[0m \u001b[0;34m>=\u001b[0m \u001b[0mcurrent_time\u001b[0m\u001b[0;34m)\u001b[0m \u001b[0;34m&\u001b[0m \u001b[0;34m(\u001b[0m\u001b[0mtimestamps\u001b[0m \u001b[0;34m<\u001b[0m \u001b[0mnext_time\u001b[0m\u001b[0;34m)\u001b[0m\u001b[0;34m\u001b[0m\u001b[0;34m\u001b[0m\u001b[0m\n\u001b[0m\u001b[1;32m     43\u001b[0m \u001b[0;34m\u001b[0m\u001b[0m\n\u001b[1;32m     44\u001b[0m         \u001b[0;32mif\u001b[0m \u001b[0mnp\u001b[0m\u001b[0;34m.\u001b[0m\u001b[0many\u001b[0m\u001b[0;34m(\u001b[0m\u001b[0mindices\u001b[0m\u001b[0;34m)\u001b[0m\u001b[0;34m:\u001b[0m  \u001b[0;31m# Ensure 'indices' is used correctly with numpy.any()\u001b[0m\u001b[0;34m\u001b[0m\u001b[0;34m\u001b[0m\u001b[0m\n",
            "\u001b[0;32m/usr/local/lib/python3.10/dist-packages/obspy/core/utcdatetime.py\u001b[0m in \u001b[0;36m__lt__\u001b[0;34m(self, other)\u001b[0m\n\u001b[1;32m   1151\u001b[0m         \u001b[0;32mTrue\u001b[0m\u001b[0;34m\u001b[0m\u001b[0;34m\u001b[0m\u001b[0m\n\u001b[1;32m   1152\u001b[0m         \"\"\"\n\u001b[0;32m-> 1153\u001b[0;31m         \u001b[0;32mreturn\u001b[0m \u001b[0mself\u001b[0m\u001b[0;34m.\u001b[0m\u001b[0m_operate\u001b[0m\u001b[0;34m(\u001b[0m\u001b[0mother\u001b[0m\u001b[0;34m,\u001b[0m \u001b[0moperator\u001b[0m\u001b[0;34m.\u001b[0m\u001b[0mlt\u001b[0m\u001b[0;34m)\u001b[0m\u001b[0;34m\u001b[0m\u001b[0;34m\u001b[0m\u001b[0m\n\u001b[0m\u001b[1;32m   1154\u001b[0m \u001b[0;34m\u001b[0m\u001b[0m\n\u001b[1;32m   1155\u001b[0m     \u001b[0;32mdef\u001b[0m \u001b[0m__le__\u001b[0m\u001b[0;34m(\u001b[0m\u001b[0mself\u001b[0m\u001b[0;34m,\u001b[0m \u001b[0mother\u001b[0m\u001b[0;34m)\u001b[0m\u001b[0;34m:\u001b[0m\u001b[0;34m\u001b[0m\u001b[0;34m\u001b[0m\u001b[0m\n",
            "\u001b[0;32m/usr/local/lib/python3.10/dist-packages/obspy/core/utcdatetime.py\u001b[0m in \u001b[0;36m_operate\u001b[0;34m(self, other, op_func)\u001b[0m\n\u001b[1;32m   1072\u001b[0m                        ' version of obspy')\n\u001b[1;32m   1073\u001b[0m                 \u001b[0mwarnings\u001b[0m\u001b[0;34m.\u001b[0m\u001b[0mwarn\u001b[0m\u001b[0;34m(\u001b[0m\u001b[0mmsg\u001b[0m\u001b[0;34m,\u001b[0m \u001b[0mObsPyDeprecationWarning\u001b[0m\u001b[0;34m)\u001b[0m\u001b[0;34m\u001b[0m\u001b[0;34m\u001b[0m\u001b[0m\n\u001b[0;32m-> 1074\u001b[0;31m             \u001b[0ma\u001b[0m \u001b[0;34m=\u001b[0m \u001b[0mround\u001b[0m\u001b[0;34m(\u001b[0m\u001b[0mself\u001b[0m\u001b[0;34m.\u001b[0m\u001b[0m_ns\u001b[0m\u001b[0;34m,\u001b[0m \u001b[0mndigits\u001b[0m\u001b[0;34m)\u001b[0m\u001b[0;34m\u001b[0m\u001b[0;34m\u001b[0m\u001b[0m\n\u001b[0m\u001b[1;32m   1075\u001b[0m             \u001b[0mb\u001b[0m \u001b[0;34m=\u001b[0m \u001b[0mround\u001b[0m\u001b[0;34m(\u001b[0m\u001b[0mother\u001b[0m\u001b[0;34m.\u001b[0m\u001b[0m_ns\u001b[0m\u001b[0;34m,\u001b[0m \u001b[0mndigits\u001b[0m\u001b[0;34m)\u001b[0m\u001b[0;34m\u001b[0m\u001b[0;34m\u001b[0m\u001b[0m\n\u001b[1;32m   1076\u001b[0m             \u001b[0;32mreturn\u001b[0m \u001b[0mop_func\u001b[0m\u001b[0;34m(\u001b[0m\u001b[0ma\u001b[0m\u001b[0;34m,\u001b[0m \u001b[0mb\u001b[0m\u001b[0;34m)\u001b[0m\u001b[0;34m\u001b[0m\u001b[0;34m\u001b[0m\u001b[0m\n",
            "\u001b[0;31mKeyboardInterrupt\u001b[0m: "
          ]
        }
      ]
    },
    {
      "cell_type": "code",
      "source": [
        "import tensorflow as tf\n",
        "from EQTransformer.core.mseed_predictor import mseed_predictor\n",
        "\n",
        "# Enable eager execution\n",
        "tf.config.run_functions_eagerly(True)\n",
        "\n",
        "def run_eqtransformer(input_dir, output_dir, model_dir, stations_json):\n",
        "    mseed_predictor(\n",
        "        input_dir=input_dir,\n",
        "        input_model=os.path.join(model_dir),\n",
        "        stations_json=stations_json,\n",
        "        output_dir=output_dir,\n",
        "        detection_threshold=0.2,\n",
        "        P_threshold=0.1,\n",
        "        S_threshold=0.1,\n",
        "        number_of_plots=0,\n",
        "        plot_mode='time'\n",
        "    )\n",
        "\n",
        "def main():\n",
        "    input_dir = '/content/EQTransformer/downloads_mseeds'\n",
        "    output_dir = 'path_to_output_results1234'\n",
        "    model_dir = '/content/EQTransformer/ModelsAndSampleData/EqT_original_model.h5'\n",
        "    stations_json = '/content/EQTransformer/json/station_list.json'  # Ensure this is the correct path\n",
        "\n",
        "    run_eqtransformer(input_dir, output_dir, model_dir, stations_json)\n",
        "    print(\"EQTransformer processing completed.\")\n",
        "\n",
        "if __name__ == \"__main__\":\n",
        "    main()\n"
      ],
      "metadata": {
        "id": "gicb0xHiEIZK",
        "outputId": "221b72eb-a217-40b8-a8c9-34b2bb84cc4f",
        "colab": {
          "base_uri": "https://localhost:8080/"
        }
      },
      "execution_count": null,
      "outputs": [
        {
          "output_type": "stream",
          "name": "stdout",
          "text": [
            " --> Type (Yes or y) to create a new empty directory! This will erase your previous results so make a copy if you want them.Y\n",
            "\n",
            "\n",
            "\n",
            "\n"
          ]
        }
      ]
    },
    {
      "cell_type": "code",
      "source": [
        "from EQTransformer.core.mseed_predictor import mseed_predictor\n",
        "\n",
        "mseed_predictor(input_dir='/content/EQTransformer/test1',\n",
        "                input_model='/content/EQTransformer/ModelsAndSampleData/EqT_original_model.h5',\n",
        "                stations_json='/content/EQTransformer/stations.json',\n",
        "                output_dir='path_to_output_results123456',\n",
        "                detection_threshold=0.2,\n",
        "                P_threshold=0.1,\n",
        "                S_threshold=0.1,\n",
        "                number_of_plots=10,\n",
        "                plot_mode='time_frequency',\n",
        "                batch_size=500,\n",
        "                overlap=0.3)"
      ],
      "metadata": {
        "id": "-b_8UZj5KtjY",
        "outputId": "ff36c0a5-4f92-4dec-94a1-944865bba6a4",
        "colab": {
          "base_uri": "https://localhost:8080/",
          "height": 460
        }
      },
      "execution_count": 2,
      "outputs": [
        {
          "output_type": "stream",
          "name": "stdout",
          "text": [
            "\n",
            "\n"
          ]
        },
        {
          "output_type": "error",
          "ename": "ValueError",
          "evalue": "Unexpected result of `predict_function` (Empty batch_outputs). Please use `Model.compile(..., run_eagerly=True)`, or `tf.config.run_functions_eagerly(True)` for more information of where went wrong, or file a issue/bug to `tf.keras`.",
          "traceback": [
            "\u001b[0;31m---------------------------------------------------------------------------\u001b[0m",
            "\u001b[0;31mValueError\u001b[0m                                Traceback (most recent call last)",
            "\u001b[0;32m<ipython-input-2-0c57f24c891b>\u001b[0m in \u001b[0;36m<cell line: 3>\u001b[0;34m()\u001b[0m\n\u001b[1;32m      1\u001b[0m \u001b[0;32mfrom\u001b[0m \u001b[0mEQTransformer\u001b[0m\u001b[0;34m.\u001b[0m\u001b[0mcore\u001b[0m\u001b[0;34m.\u001b[0m\u001b[0mmseed_predictor\u001b[0m \u001b[0;32mimport\u001b[0m \u001b[0mmseed_predictor\u001b[0m\u001b[0;34m\u001b[0m\u001b[0;34m\u001b[0m\u001b[0m\n\u001b[1;32m      2\u001b[0m \u001b[0;34m\u001b[0m\u001b[0m\n\u001b[0;32m----> 3\u001b[0;31m mseed_predictor(input_dir='/content/EQTransformer/test1',   \n\u001b[0m\u001b[1;32m      4\u001b[0m                 \u001b[0minput_model\u001b[0m\u001b[0;34m=\u001b[0m\u001b[0;34m'/content/EQTransformer/ModelsAndSampleData/EqT_original_model.h5'\u001b[0m\u001b[0;34m,\u001b[0m\u001b[0;34m\u001b[0m\u001b[0;34m\u001b[0m\u001b[0m\n\u001b[1;32m      5\u001b[0m                 \u001b[0mstations_json\u001b[0m\u001b[0;34m=\u001b[0m\u001b[0;34m'/content/EQTransformer/stations.json'\u001b[0m\u001b[0;34m,\u001b[0m\u001b[0;34m\u001b[0m\u001b[0;34m\u001b[0m\u001b[0m\n",
            "\u001b[0;32m/content/EQTransformer/EQTransformer/core/mseed_predictor.py\u001b[0m in \u001b[0;36mmseed_predictor\u001b[0;34m(input_dir, input_model, stations_json, output_dir, detection_threshold, P_threshold, S_threshold, number_of_plots, plot_mode, loss_weights, loss_types, normalization_mode, batch_size, overlap, gpuid, gpu_limit, overwrite, output_probabilities)\u001b[0m\n\u001b[1;32m    312\u001b[0m             \u001b[0mpred_generator\u001b[0m \u001b[0;34m=\u001b[0m \u001b[0mPreLoadGeneratorTest\u001b[0m\u001b[0;34m(\u001b[0m\u001b[0mmeta\u001b[0m\u001b[0;34m[\u001b[0m\u001b[0;34m\"trace_start_time\"\u001b[0m\u001b[0;34m]\u001b[0m\u001b[0;34m,\u001b[0m \u001b[0mdata_set\u001b[0m\u001b[0;34m,\u001b[0m \u001b[0;34m**\u001b[0m\u001b[0mparams_pred\u001b[0m\u001b[0;34m)\u001b[0m\u001b[0;34m\u001b[0m\u001b[0;34m\u001b[0m\u001b[0m\n\u001b[1;32m    313\u001b[0m \u001b[0;34m\u001b[0m\u001b[0m\n\u001b[0;32m--> 314\u001b[0;31m             \u001b[0mpredD\u001b[0m\u001b[0;34m,\u001b[0m \u001b[0mpredP\u001b[0m\u001b[0;34m,\u001b[0m \u001b[0mpredS\u001b[0m \u001b[0;34m=\u001b[0m \u001b[0mmodel\u001b[0m\u001b[0;34m.\u001b[0m\u001b[0mpredict_generator\u001b[0m\u001b[0;34m(\u001b[0m\u001b[0mpred_generator\u001b[0m\u001b[0;34m)\u001b[0m\u001b[0;34m\u001b[0m\u001b[0;34m\u001b[0m\u001b[0m\n\u001b[0m\u001b[1;32m    315\u001b[0m \u001b[0;34m\u001b[0m\u001b[0m\n\u001b[1;32m    316\u001b[0m             \u001b[0mdetection_memory\u001b[0m \u001b[0;34m=\u001b[0m \u001b[0;34m[\u001b[0m\u001b[0;34m]\u001b[0m\u001b[0;34m\u001b[0m\u001b[0;34m\u001b[0m\u001b[0m\n",
            "\u001b[0;32m/usr/local/lib/python3.10/dist-packages/keras/engine/training.py\u001b[0m in \u001b[0;36mpredict_generator\u001b[0;34m(self, generator, steps, callbacks, max_queue_size, workers, use_multiprocessing, verbose)\u001b[0m\n\u001b[1;32m   2325\u001b[0m         \u001b[0;34m'Please use `Model.predict`, which supports generators.'\u001b[0m\u001b[0;34m,\u001b[0m\u001b[0;34m\u001b[0m\u001b[0;34m\u001b[0m\u001b[0m\n\u001b[1;32m   2326\u001b[0m         stacklevel=2)\n\u001b[0;32m-> 2327\u001b[0;31m     return self.predict(\n\u001b[0m\u001b[1;32m   2328\u001b[0m         \u001b[0mgenerator\u001b[0m\u001b[0;34m,\u001b[0m\u001b[0;34m\u001b[0m\u001b[0;34m\u001b[0m\u001b[0m\n\u001b[1;32m   2329\u001b[0m         \u001b[0msteps\u001b[0m\u001b[0;34m=\u001b[0m\u001b[0msteps\u001b[0m\u001b[0;34m,\u001b[0m\u001b[0;34m\u001b[0m\u001b[0;34m\u001b[0m\u001b[0m\n",
            "\u001b[0;32m/usr/local/lib/python3.10/dist-packages/keras/utils/traceback_utils.py\u001b[0m in \u001b[0;36merror_handler\u001b[0;34m(*args, **kwargs)\u001b[0m\n\u001b[1;32m     65\u001b[0m     \u001b[0;32mexcept\u001b[0m \u001b[0mException\u001b[0m \u001b[0;32mas\u001b[0m \u001b[0me\u001b[0m\u001b[0;34m:\u001b[0m  \u001b[0;31m# pylint: disable=broad-except\u001b[0m\u001b[0;34m\u001b[0m\u001b[0;34m\u001b[0m\u001b[0m\n\u001b[1;32m     66\u001b[0m       \u001b[0mfiltered_tb\u001b[0m \u001b[0;34m=\u001b[0m \u001b[0m_process_traceback_frames\u001b[0m\u001b[0;34m(\u001b[0m\u001b[0me\u001b[0m\u001b[0;34m.\u001b[0m\u001b[0m__traceback__\u001b[0m\u001b[0;34m)\u001b[0m\u001b[0;34m\u001b[0m\u001b[0;34m\u001b[0m\u001b[0m\n\u001b[0;32m---> 67\u001b[0;31m       \u001b[0;32mraise\u001b[0m \u001b[0me\u001b[0m\u001b[0;34m.\u001b[0m\u001b[0mwith_traceback\u001b[0m\u001b[0;34m(\u001b[0m\u001b[0mfiltered_tb\u001b[0m\u001b[0;34m)\u001b[0m \u001b[0;32mfrom\u001b[0m \u001b[0;32mNone\u001b[0m\u001b[0;34m\u001b[0m\u001b[0;34m\u001b[0m\u001b[0m\n\u001b[0m\u001b[1;32m     68\u001b[0m     \u001b[0;32mfinally\u001b[0m\u001b[0;34m:\u001b[0m\u001b[0;34m\u001b[0m\u001b[0;34m\u001b[0m\u001b[0m\n\u001b[1;32m     69\u001b[0m       \u001b[0;32mdel\u001b[0m \u001b[0mfiltered_tb\u001b[0m\u001b[0;34m\u001b[0m\u001b[0;34m\u001b[0m\u001b[0m\n",
            "\u001b[0;32m/usr/local/lib/python3.10/dist-packages/keras/engine/training.py\u001b[0m in \u001b[0;36mpredict\u001b[0;34m(self, x, batch_size, verbose, steps, callbacks, max_queue_size, workers, use_multiprocessing)\u001b[0m\n\u001b[1;32m   2046\u001b[0m             \u001b[0mcallbacks\u001b[0m\u001b[0;34m.\u001b[0m\u001b[0mon_predict_batch_end\u001b[0m\u001b[0;34m(\u001b[0m\u001b[0mend_step\u001b[0m\u001b[0;34m,\u001b[0m \u001b[0;34m{\u001b[0m\u001b[0;34m'outputs'\u001b[0m\u001b[0;34m:\u001b[0m \u001b[0mbatch_outputs\u001b[0m\u001b[0;34m}\u001b[0m\u001b[0;34m)\u001b[0m\u001b[0;34m\u001b[0m\u001b[0;34m\u001b[0m\u001b[0m\n\u001b[1;32m   2047\u001b[0m       \u001b[0;32mif\u001b[0m \u001b[0mbatch_outputs\u001b[0m \u001b[0;32mis\u001b[0m \u001b[0;32mNone\u001b[0m\u001b[0;34m:\u001b[0m\u001b[0;34m\u001b[0m\u001b[0;34m\u001b[0m\u001b[0m\n\u001b[0;32m-> 2048\u001b[0;31m         raise ValueError('Unexpected result of `predict_function` '\n\u001b[0m\u001b[1;32m   2049\u001b[0m                          \u001b[0;34m'(Empty batch_outputs). Please use '\u001b[0m\u001b[0;34m\u001b[0m\u001b[0;34m\u001b[0m\u001b[0m\n\u001b[1;32m   2050\u001b[0m                          \u001b[0;34m'`Model.compile(..., run_eagerly=True)`, or '\u001b[0m\u001b[0;34m\u001b[0m\u001b[0;34m\u001b[0m\u001b[0m\n",
            "\u001b[0;31mValueError\u001b[0m: Unexpected result of `predict_function` (Empty batch_outputs). Please use `Model.compile(..., run_eagerly=True)`, or `tf.config.run_functions_eagerly(True)` for more information of where went wrong, or file a issue/bug to `tf.keras`."
          ]
        }
      ]
    },
    {
      "cell_type": "code",
      "source": [
        "import tensorflow as tf\n",
        "from tensorflow.keras.models import load_model\n",
        "try:\n",
        "    from keras_self_attention import SeqSelfAttention\n",
        "except ImportError:\n",
        "    !pip install keras-self-attention\n",
        "    from keras_self_attention import SeqSelfAttention\n",
        "\n",
        "def load_custom_model(path):\n",
        "    custom_objects = {'SeqSelfAttention': SeqSelfAttention}\n",
        "    try:\n",
        "        model = load_model(path, custom_objects=custom_objects)\n",
        "        print(\"Model loaded successfully.\")\n",
        "        return model\n",
        "    except Exception as e:\n",
        "        print(f\"An error occurred: {e}\")\n",
        "\n",
        "model = load_custom_model('/content/EQTransformer/ModelsAndSampleData/EqT_original_model.h5')\n"
      ],
      "metadata": {
        "id": "u8crtmJ5M2T2",
        "outputId": "378fbffc-2a14-4845-9c81-e77f184d6b5d",
        "colab": {
          "base_uri": "https://localhost:8080/"
        }
      },
      "execution_count": 5,
      "outputs": [
        {
          "output_type": "stream",
          "name": "stdout",
          "text": [
            "Collecting keras-self-attention\n",
            "  Downloading keras-self-attention-0.51.0.tar.gz (11 kB)\n",
            "  Preparing metadata (setup.py) ... \u001b[?25l\u001b[?25hdone\n",
            "Requirement already satisfied: numpy in /usr/local/lib/python3.10/dist-packages (from keras-self-attention) (1.22.4)\n",
            "Building wheels for collected packages: keras-self-attention\n",
            "  Building wheel for keras-self-attention (setup.py) ... \u001b[?25l\u001b[?25hdone\n",
            "  Created wheel for keras-self-attention: filename=keras_self_attention-0.51.0-py3-none-any.whl size=18894 sha256=dba7e6ad79ad60af58f5696427788f9db642a0d4eb1aff87e2fb62fcce7fe4e7\n",
            "  Stored in directory: /root/.cache/pip/wheels/b8/f7/24/607b483144fb9c47b4ba2c5fba6b68e54aeee2d5bf6c05302e\n",
            "Successfully built keras-self-attention\n",
            "Installing collected packages: keras-self-attention\n",
            "Successfully installed keras-self-attention-0.51.0\n",
            "An error occurred: Unknown layer: FeedForward. Please ensure this object is passed to the `custom_objects` argument. See https://www.tensorflow.org/guide/keras/save_and_serialize#registering_the_custom_object for details.\n"
          ]
        }
      ]
    },
    {
      "cell_type": "code",
      "source": [
        "import os\n",
        "\n",
        "def rename_files(directory):\n",
        "    for filename in os.listdir(directory):\n",
        "        if filename.endswith(\".mseed\"):\n",
        "            parts = filename.split('T')\n",
        "            date_part = parts[0]\n",
        "            time_part = parts[1].split('.')[0]\n",
        "            new_filename = f\"NET_STA__LOC_CHAN__{date_part}{time_part}.mseed\"\n",
        "            os.rename(os.path.join(directory, filename), os.path.join(directory, new_filename))\n",
        "            print(f\"Renamed {filename} to {new_filename}\")\n",
        "\n",
        "directory = '/content/EQTransformer/test1/ttt'  # Update this path\n",
        "rename_files(directory)\n"
      ],
      "metadata": {
        "id": "CukFAQOVF3TY",
        "outputId": "f5471442-b40c-4b8e-ea7f-f7eb5685340c",
        "colab": {
          "base_uri": "https://localhost:8080/"
        }
      },
      "execution_count": 49,
      "outputs": [
        {
          "output_type": "stream",
          "name": "stdout",
          "text": [
            "Renamed 19770902T144342.mseed to NET_STA__LOC_CHAN__19770902144342.mseed\n",
            "Renamed 19770902T174342.mseed to NET_STA__LOC_CHAN__19770902174342.mseed\n",
            "Renamed 19770902T164342.mseed to NET_STA__LOC_CHAN__19770902164342.mseed\n",
            "Renamed 19770902T154342.mseed to NET_STA__LOC_CHAN__19770902154342.mseed\n"
          ]
        }
      ]
    },
    {
      "cell_type": "code",
      "source": [
        "import pandas as pd\n",
        "import json\n",
        "from datetime import datetime\n",
        "\n",
        "def load_data(filepath):\n",
        "    \"\"\" Load data from a CSV file. \"\"\"\n",
        "    return pd.read_csv(filepath)\n",
        "\n",
        "def preprocess_timestamps(df, timestamp_col='Timestamp'):\n",
        "    \"\"\" Convert timestamps from UNIX time in microseconds to a readable format. \"\"\"\n",
        "    df[timestamp_col] = pd.to_datetime(df[timestamp_col], unit='us')\n",
        "    return df\n",
        "\n",
        "def create_stead_entry(df):\n",
        "    \"\"\" Create STEAD-like entries from accelerometer data. \"\"\"\n",
        "    stead_entries = []\n",
        "    for index, row in df.iterrows():\n",
        "        entry = {\n",
        "            \"trace_id\": f\"MOB{index}\",\n",
        "            \"station\": {\n",
        "                \"station_code\": \"MOB1\",\n",
        "                \"location\": {\n",
        "                    \"latitude\": 35.6895,  # Example latitude\n",
        "                    \"longitude\": -117.8500,  # Example longitude\n",
        "                    \"elevation\": 150.0  # Example elevation\n",
        "                },\n",
        "                \"instrument\": {\n",
        "                    \"type\": \"Accelerometer\",\n",
        "                    \"band\": \"High-Gain\"\n",
        "                }\n",
        "            },\n",
        "            \"sampling_rate\": 100,  # Assume 100 Hz sampling rate\n",
        "            \"start_time\": str(row['Timestamp']),\n",
        "            \"end_time\": str(row['Timestamp'] + pd.Timedelta(seconds=1/100)),  # Assuming each row is a sample\n",
        "            \"event\": {\n",
        "                \"origin_time\": str(row['Timestamp']),\n",
        "                \"location\": {\n",
        "                    \"latitude\": 35.7051,  # Hypothetical location\n",
        "                    \"longitude\": -117.7635,\n",
        "                    \"depth\": 8.0\n",
        "                },\n",
        "                \"magnitude\": 4.5  # Hypothetical magnitude\n",
        "            },\n",
        "            \"snr\": 20.0,  # Hypothetical Signal-to-Noise Ratio\n",
        "            \"phases\": {\n",
        "                \"P\": str(row['Timestamp']),\n",
        "                \"S\": str(row['Timestamp'] + pd.Timedelta(seconds=10))  # Hypothetical S-phase arrival\n",
        "            },\n",
        "            \"data\": {\n",
        "                \"timeseries\": {\n",
        "                    \"X\": row['X'],\n",
        "                    \"Y\": row['Y'],\n",
        "                    \"Z\": row['Z']\n",
        "                }\n",
        "            }\n",
        "        }\n",
        "        stead_entries.append(entry)\n",
        "    return stead_entries\n",
        "\n",
        "def save_to_json(data, filepath):\n",
        "    \"\"\" Save data to a JSON file. \"\"\"\n",
        "    with open(filepath, 'w') as f:\n",
        "        json.dump(data, f, indent=4)\n",
        "\n",
        "def main():\n",
        "    file_path = '/content/drive/MyDrive/testMob/data_1600_accel_phone.csv'  # Update this path\n",
        "    output_path = 'output2.json'  # Output JSON file path\n",
        "\n",
        "    # Load and process the data\n",
        "    df = load_data(file_path)\n",
        "    df = preprocess_timestamps(df)\n",
        "\n",
        "    # Convert to STEAD format\n",
        "    stead_data = create_stead_entry(df)\n",
        "\n",
        "    # Save to JSON\n",
        "    save_to_json(stead_data, output_path)\n",
        "    print(\"Data converted and saved to JSON.\")\n",
        "\n",
        "if __name__ == \"__main__\":\n",
        "    main()\n"
      ],
      "metadata": {
        "id": "4QF4bS9vDoln",
        "outputId": "fca7403f-1861-48b1-82e0-4f7d0956b8b1",
        "colab": {
          "base_uri": "https://localhost:8080/"
        }
      },
      "execution_count": 44,
      "outputs": [
        {
          "output_type": "stream",
          "name": "stdout",
          "text": [
            "Data converted and saved to JSON.\n"
          ]
        }
      ]
    }
  ]
}